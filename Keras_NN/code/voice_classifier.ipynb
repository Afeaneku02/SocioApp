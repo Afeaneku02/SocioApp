{
 "cells": [
  {
   "cell_type": "code",
   "execution_count": 61,
   "metadata": {
    "collapsed": true,
    "pycharm": {
     "name": "#%%\n"
    }
   },
   "outputs": [],
   "source": [
    "# Import libraries\n",
    "import os\n",
    "\n",
    "import pandas as pd\n",
    "import numpy as np\n",
    "\n",
    "from sklearn.preprocessing import StandardScaler #Standardize features by removing the mean and scaling to unit variance\n",
    "from sklearn.preprocessing import LabelEncoder #LabelEncoder can be used to normalize labels\n",
    "from tensorflow.keras.models import Sequential\n",
    "from tensorflow.keras.layers import Dense, Dropout\n",
    "from tensorflow.keras.utils import to_categorical\n",
    "from tensorflow.keras.callbacks import EarlyStopping"
   ]
  },
  {
   "cell_type": "markdown",
   "source": [
    "#### First, we're building dataframe (file name, and speaker number), and getting the features from the baseline data\n",
    "\n",
    "#### We're then going to use this as our training set for use in the neural network"
   ],
   "metadata": {
    "collapsed": false,
    "pycharm": {
     "name": "#%% md\n"
    }
   }
  },
  {
   "cell_type": "code",
   "execution_count": 62,
   "outputs": [],
   "source": [
    "# List the files from baseline voice files; put them in a dataframe\n",
    "\n",
    "\n",
    "#1.) Original # Orginal is trainFileList = os.listdir('../pickles/W_Alone_Loud_Envo')\n",
    "#trainFileList = os.listdir('../pickles/W_Alone_Loud_Envo')\n",
    "\n",
    "\n",
    "#my edits the original Train list had issue finding the path\n",
    "trainFileList = os.listdir('C:/Users/Winfred/PycharmProjects/SocioApp-Keras-NN/pickles/initial_testing_data/W_Peer_Loud_Envo')\n",
    "train_df = pd.DataFrame(trainFileList)\n"
   ],
   "metadata": {
    "collapsed": false,
    "pycharm": {
     "name": "#%%\n"
    }
   }
  },
  {
   "cell_type": "code",
   "execution_count": 63,
   "outputs": [
    {
     "data": {
      "text/plain": "                           file\n0  Aaron_dune1_100_features.pkl\n1  Aaron_dune1_101_features.pkl\n2  Aaron_dune1_102_features.pkl\n3  Aaron_dune1_103_features.pkl\n4  Aaron_dune1_104_features.pkl",
      "text/html": "<div>\n<style scoped>\n    .dataframe tbody tr th:only-of-type {\n        vertical-align: middle;\n    }\n\n    .dataframe tbody tr th {\n        vertical-align: top;\n    }\n\n    .dataframe thead th {\n        text-align: right;\n    }\n</style>\n<table border=\"1\" class=\"dataframe\">\n  <thead>\n    <tr style=\"text-align: right;\">\n      <th></th>\n      <th>file</th>\n    </tr>\n  </thead>\n  <tbody>\n    <tr>\n      <th>0</th>\n      <td>Aaron_dune1_100_features.pkl</td>\n    </tr>\n    <tr>\n      <th>1</th>\n      <td>Aaron_dune1_101_features.pkl</td>\n    </tr>\n    <tr>\n      <th>2</th>\n      <td>Aaron_dune1_102_features.pkl</td>\n    </tr>\n    <tr>\n      <th>3</th>\n      <td>Aaron_dune1_103_features.pkl</td>\n    </tr>\n    <tr>\n      <th>4</th>\n      <td>Aaron_dune1_104_features.pkl</td>\n    </tr>\n  </tbody>\n</table>\n</div>"
     },
     "execution_count": 63,
     "metadata": {},
     "output_type": "execute_result"
    }
   ],
   "source": [
    "# Rename first column to file\n",
    "train_df = train_df.rename(columns={0: 'file'})\n",
    "train_df.head()\n"
   ],
   "metadata": {
    "collapsed": false,
    "pycharm": {
     "name": "#%%\n"
    }
   }
  },
  {
   "cell_type": "code",
   "execution_count": 64,
   "outputs": [],
   "source": [
    "# Define train data directory\n",
    "trainDataPath = '../pickles/initial_testing_data/W_Peer_Loud_Envo/'\n",
    "\n",
    "# Get train data into dataframe\n",
    "train_feature_labels = pd.concat([pd.read_pickle(trainDataPath + x) for x in os.listdir(trainDataPath)], ignore_index=True)"
   ],
   "metadata": {
    "collapsed": false,
    "pycharm": {
     "name": "#%%\n"
    }
   }
  },
  {
   "cell_type": "code",
   "execution_count": 65,
   "outputs": [
    {
     "data": {
      "text/plain": "0    ([-470.53073, 111.61264, -9.462243, 27.113188,...\n1    ([-457.92657, 124.0556, -14.402865, 30.826015,...\n2    ([-453.45758, 104.941536, -12.676239, 32.43918...\n3    ([-483.15698, 115.74337, -5.365329, 24.174786,...\n4    ([-475.36267, 124.66454, -14.640922, 27.704105...\ndtype: object"
     },
     "execution_count": 65,
     "metadata": {},
     "output_type": "execute_result"
    }
   ],
   "source": [
    "# Look at data\n",
    "train_feature_labels.head()"
   ],
   "metadata": {
    "collapsed": false,
    "pycharm": {
     "name": "#%%\n"
    }
   }
  },
  {
   "cell_type": "code",
   "execution_count": 66,
   "outputs": [],
   "source": [
    "# \"We create an empty list where we will concatenate all the features into one long feature\n",
    "# for each file to feed into our neural network\"\n",
    "train_features = []\n",
    "for i in range(0, len(train_df)):\n",
    "    train_features.append(np.concatenate((train_feature_labels[i][0], train_feature_labels[i][1],\n",
    "                train_feature_labels[i][2], train_feature_labels[i][3],\n",
    "                train_feature_labels[i][4]), axis=0))"
   ],
   "metadata": {
    "collapsed": false,
    "pycharm": {
     "name": "#%%\n"
    }
   }
  },
  {
   "cell_type": "code",
   "execution_count": 67,
   "outputs": [],
   "source": [
    "# Shuffle the dataframe\n",
    "train_df = train_df.sample(frac=1).reset_index(drop=True)"
   ],
   "metadata": {
    "collapsed": false,
    "pycharm": {
     "name": "#%%\n"
    }
   }
  },
  {
   "cell_type": "code",
   "execution_count": 68,
   "outputs": [
    {
     "name": "stdout",
     "output_type": "stream",
     "text": [
      "Features Size: \t1179\n",
      "Dataframe Size: \t1179\n"
     ]
    }
   ],
   "source": [
    "# Make sure the number of features matches\n",
    "print(\"Features Size: \\t\" + str(len(train_features)))\n",
    "print(\"Dataframe Size: \\t\" + str(len(train_df)))"
   ],
   "metadata": {
    "collapsed": false,
    "pycharm": {
     "name": "#%%\n"
    }
   }
  },
  {
   "cell_type": "code",
   "execution_count": 69,
   "outputs": [],
   "source": [
    "train_speakers = []\n",
    "for i in range(0, len(train_df)):\n",
    "    train_speakers.append(train_df['file'][i].split('_')[0].strip('s'))"
   ],
   "metadata": {
    "collapsed": false,
    "pycharm": {
     "name": "#%%\n"
    }
   }
  },
  {
   "cell_type": "code",
   "execution_count": 70,
   "outputs": [],
   "source": [
    "# Append the speaker list to the data\n",
    "train_df['speaker'] = train_speakers\n"
   ],
   "metadata": {
    "collapsed": false,
    "pycharm": {
     "name": "#%%\n"
    }
   }
  },
  {
   "cell_type": "code",
   "execution_count": 71,
   "outputs": [
    {
     "data": {
      "text/plain": "                                 file  speaker\n0       winfred_PL_sc2_0_features.pkl  winfred\n1    winfred_PL_sc1_p2_2_features.pkl  winfred\n2         Aaron_dune1_97_features.pkl    Aaron\n3  winfred_PL_Harvard_83_features.pkl  winfred\n4  winfred_PL_Harvard_53_features.pkl  winfred",
      "text/html": "<div>\n<style scoped>\n    .dataframe tbody tr th:only-of-type {\n        vertical-align: middle;\n    }\n\n    .dataframe tbody tr th {\n        vertical-align: top;\n    }\n\n    .dataframe thead th {\n        text-align: right;\n    }\n</style>\n<table border=\"1\" class=\"dataframe\">\n  <thead>\n    <tr style=\"text-align: right;\">\n      <th></th>\n      <th>file</th>\n      <th>speaker</th>\n    </tr>\n  </thead>\n  <tbody>\n    <tr>\n      <th>0</th>\n      <td>winfred_PL_sc2_0_features.pkl</td>\n      <td>winfred</td>\n    </tr>\n    <tr>\n      <th>1</th>\n      <td>winfred_PL_sc1_p2_2_features.pkl</td>\n      <td>winfred</td>\n    </tr>\n    <tr>\n      <th>2</th>\n      <td>Aaron_dune1_97_features.pkl</td>\n      <td>Aaron</td>\n    </tr>\n    <tr>\n      <th>3</th>\n      <td>winfred_PL_Harvard_83_features.pkl</td>\n      <td>winfred</td>\n    </tr>\n    <tr>\n      <th>4</th>\n      <td>winfred_PL_Harvard_53_features.pkl</td>\n      <td>winfred</td>\n    </tr>\n  </tbody>\n</table>\n</div>"
     },
     "execution_count": 71,
     "metadata": {},
     "output_type": "execute_result"
    }
   ],
   "source": [
    "# Look at data\n",
    "train_df.head()"
   ],
   "metadata": {
    "collapsed": false,
    "pycharm": {
     "name": "#%%\n"
    }
   }
  },
  {
   "cell_type": "code",
   "execution_count": 72,
   "outputs": [
    {
     "name": "stdout",
     "output_type": "stream",
     "text": [
      "Number of unique speakers: 2\n"
     ]
    }
   ],
   "source": [
    "# Check the number of unique speakers in the data\n",
    "print(\"Number of unique speakers: \" + str(train_df['speaker'].nunique()))"
   ],
   "metadata": {
    "collapsed": false,
    "pycharm": {
     "name": "#%%\n"
    }
   }
  },
  {
   "cell_type": "code",
   "execution_count": 73,
   "outputs": [
    {
     "data": {
      "text/plain": "1179"
     },
     "execution_count": 73,
     "metadata": {},
     "output_type": "execute_result"
    }
   ],
   "source": [
    "# Making new var that holds just the speaker list\n",
    "train_labels = train_speakers\n",
    "# Look at the length, making sure it's the same as the features\n",
    "len(train_labels)"
   ],
   "metadata": {
    "collapsed": false,
    "pycharm": {
     "name": "#%%\n"
    }
   }
  },
  {
   "cell_type": "markdown",
   "source": [
    "#### Hot encoding y and pre-processing X and y"
   ],
   "metadata": {
    "collapsed": false,
    "pycharm": {
     "name": "#%% md\n"
    }
   }
  },
  {
   "cell_type": "code",
   "execution_count": 74,
   "outputs": [],
   "source": [
    "X = np.array(train_features)\n",
    "y = np.array(train_labels)"
   ],
   "metadata": {
    "collapsed": false,
    "pycharm": {
     "name": "#%%\n"
    }
   }
  },
  {
   "cell_type": "code",
   "execution_count": 75,
   "outputs": [],
   "source": [
    "# Hot encoding y\n",
    "lb = LabelEncoder()\n",
    "y = to_categorical(lb.fit_transform(y))"
   ],
   "metadata": {
    "collapsed": false,
    "pycharm": {
     "name": "#%%\n"
    }
   }
  },
  {
   "cell_type": "code",
   "execution_count": 76,
   "outputs": [
    {
     "data": {
      "text/plain": "(1179, 193)"
     },
     "execution_count": 76,
     "metadata": {},
     "output_type": "execute_result"
    }
   ],
   "source": [
    "X.shape"
   ],
   "metadata": {
    "collapsed": false,
    "pycharm": {
     "name": "#%%\n"
    }
   }
  },
  {
   "cell_type": "code",
   "execution_count": 77,
   "outputs": [
    {
     "data": {
      "text/plain": "(1179, 2)"
     },
     "execution_count": 77,
     "metadata": {},
     "output_type": "execute_result"
    }
   ],
   "source": [
    "y.shape"
   ],
   "metadata": {
    "collapsed": false,
    "pycharm": {
     "name": "#%%\n"
    }
   }
  },
  {
   "cell_type": "code",
   "execution_count": 78,
   "outputs": [
    {
     "name": "stdout",
     "output_type": "stream",
     "text": [
      "825\n"
     ]
    }
   ],
   "source": [
    "# Define what index is 70% of the data (we will split this into the train and val data sets.)\n",
    "# Note: we aren't doing test as of right now, because we have separate data for that\n",
    "seventyPercIndex = round(train_feature_labels.size * .70)\n",
    "print(seventyPercIndex)"
   ],
   "metadata": {
    "collapsed": false,
    "pycharm": {
     "name": "#%%\n"
    }
   }
  },
  {
   "cell_type": "code",
   "execution_count": 79,
   "outputs": [],
   "source": [
    "# Put the first 70% of the data into the train arrays (X and y)\n",
    "# X_train contains the features\n",
    "X_train = X[:seventyPercIndex]\n",
    "# y_train contains the labels, specifically the speaker/subject #\n",
    "y_train = y[:seventyPercIndex]\n",
    "\n",
    "# Note: It seems that the y set has been transformed into binary labels, which will have to be addressed later when we\n",
    "#   add more speakers!!!"
   ],
   "metadata": {
    "collapsed": false,
    "pycharm": {
     "name": "#%%\n"
    }
   }
  },
  {
   "cell_type": "code",
   "execution_count": 80,
   "outputs": [],
   "source": [
    "# Do the same, except for the rest of the data after 70% index\n",
    "X_val = X[seventyPercIndex:]\n",
    "y_val = y[seventyPercIndex:]"
   ],
   "metadata": {
    "collapsed": false,
    "pycharm": {
     "name": "#%%\n"
    }
   }
  },
  {
   "cell_type": "code",
   "execution_count": 81,
   "outputs": [
    {
     "name": "stdout",
     "output_type": "stream",
     "text": [
      "X_train Shape: \t(825, 193)\n",
      "X_val Shape: \t(354, 193)\n"
     ]
    }
   ],
   "source": [
    "# Compare the shapes of the datasets, just to be sure they match up correctly\n",
    "print(\"X_train Shape: \\t\" + str(X_train.shape))\n",
    "print(\"X_val Shape: \\t\" + str(X_val.shape))"
   ],
   "metadata": {
    "collapsed": false,
    "pycharm": {
     "name": "#%%\n"
    }
   }
  },
  {
   "cell_type": "code",
   "execution_count": 82,
   "outputs": [
    {
     "name": "stdout",
     "output_type": "stream",
     "text": [
      "y_train Shape: \t(825, 2)\n",
      "y_val Shape: \t(354, 2)\n"
     ]
    }
   ],
   "source": [
    "# Similar as above, just with the y data sets\n",
    "print(\"y_train Shape: \\t\" + str(y_train.shape))\n",
    "print(\"y_val Shape: \\t\" + str(y_val.shape))\n"
   ],
   "metadata": {
    "collapsed": false,
    "pycharm": {
     "name": "#%%\n"
    }
   }
  },
  {
   "cell_type": "markdown",
   "source": [
    "\n",
    "---\n",
    "#### Do the same as we just did, but for the testing data set\n",
    "\n"
   ],
   "metadata": {
    "collapsed": false,
    "pycharm": {
     "name": "#%% md\n"
    }
   }
  },
  {
   "cell_type": "code",
   "execution_count": 83,
   "outputs": [],
   "source": [
    "# List the files from use case voice files; put them in a dataframe\n",
    "testFileList = os.listdir('../pickles/initial_testing_data/W_Peer_Loud_EnvoTestData')\n",
    "test_df = pd.DataFrame(testFileList)\n"
   ],
   "metadata": {
    "collapsed": false,
    "pycharm": {
     "name": "#%%\n"
    }
   }
  },
  {
   "cell_type": "code",
   "execution_count": 84,
   "outputs": [
    {
     "data": {
      "text/plain": "                         file\n0  Aaron_dune1_0_features.pkl\n1  Aaron_dune1_1_features.pkl\n2  Aaron_dune1_2_features.pkl\n3  Aaron_dune1_3_features.pkl\n4  Aaron_dune1_4_features.pkl",
      "text/html": "<div>\n<style scoped>\n    .dataframe tbody tr th:only-of-type {\n        vertical-align: middle;\n    }\n\n    .dataframe tbody tr th {\n        vertical-align: top;\n    }\n\n    .dataframe thead th {\n        text-align: right;\n    }\n</style>\n<table border=\"1\" class=\"dataframe\">\n  <thead>\n    <tr style=\"text-align: right;\">\n      <th></th>\n      <th>file</th>\n    </tr>\n  </thead>\n  <tbody>\n    <tr>\n      <th>0</th>\n      <td>Aaron_dune1_0_features.pkl</td>\n    </tr>\n    <tr>\n      <th>1</th>\n      <td>Aaron_dune1_1_features.pkl</td>\n    </tr>\n    <tr>\n      <th>2</th>\n      <td>Aaron_dune1_2_features.pkl</td>\n    </tr>\n    <tr>\n      <th>3</th>\n      <td>Aaron_dune1_3_features.pkl</td>\n    </tr>\n    <tr>\n      <th>4</th>\n      <td>Aaron_dune1_4_features.pkl</td>\n    </tr>\n  </tbody>\n</table>\n</div>"
     },
     "execution_count": 84,
     "metadata": {},
     "output_type": "execute_result"
    }
   ],
   "source": [
    "# Rename first column to file\n",
    "test_df = test_df.rename(columns={0: 'file'})\n",
    "test_df.head()\n"
   ],
   "metadata": {
    "collapsed": false,
    "pycharm": {
     "name": "#%%\n"
    }
   }
  },
  {
   "cell_type": "code",
   "execution_count": 85,
   "outputs": [],
   "source": [
    "# Define test data directory\n",
    "testDataPath = '../pickles/initial_testing_data/W_Peer_Loud_EnvoTestData/'\n",
    "# Get test data into dataframe\n",
    "test_feature_labels = pd.concat([pd.read_pickle(testDataPath + x) for x in os.listdir(testDataPath)], ignore_index=True)"
   ],
   "metadata": {
    "collapsed": false,
    "pycharm": {
     "name": "#%%\n"
    }
   }
  },
  {
   "cell_type": "code",
   "execution_count": 86,
   "outputs": [
    {
     "data": {
      "text/plain": "0    ([-460.9837, 118.47729, -8.905749, 30.198755, ...\n1    ([-445.96765, 121.532616, -11.333506, 27.77086...\n2    ([-451.21338, 115.38102, -12.55727, 26.25971, ...\n3    ([-438.39185, 115.80861, -9.139274, 25.613058,...\n4    ([-446.0187, 118.01115, -10.375266, 26.254034,...\ndtype: object"
     },
     "execution_count": 86,
     "metadata": {},
     "output_type": "execute_result"
    }
   ],
   "source": [
    "# Look at data\n",
    "test_feature_labels.head()\n"
   ],
   "metadata": {
    "collapsed": false,
    "pycharm": {
     "name": "#%%\n"
    }
   }
  },
  {
   "cell_type": "code",
   "execution_count": 87,
   "outputs": [],
   "source": [
    "# \"We create an empty list where we will concatenate all the features into one long feature\n",
    "# for each file to feed into our neural network\"\n",
    "test_features = []\n",
    "for i in range(0, len(test_df)):\n",
    "    test_features.append(np.concatenate((test_feature_labels[i][0], test_feature_labels[i][1],\n",
    "                test_feature_labels[i][2], test_feature_labels[i][3],\n",
    "                test_feature_labels[i][4]), axis=0))\n"
   ],
   "metadata": {
    "collapsed": false,
    "pycharm": {
     "name": "#%%\n"
    }
   }
  },
  {
   "cell_type": "code",
   "execution_count": 88,
   "outputs": [],
   "source": [
    "# Shuffle the dataframe\n",
    "test_df = test_df.sample(frac=1).reset_index(drop=True)"
   ],
   "metadata": {
    "collapsed": false,
    "pycharm": {
     "name": "#%%\n"
    }
   }
  },
  {
   "cell_type": "code",
   "execution_count": 89,
   "outputs": [
    {
     "name": "stdout",
     "output_type": "stream",
     "text": [
      "Features Size:\t20\n",
      "Dataframe Size:\t20\n"
     ]
    }
   ],
   "source": [
    "# Make sure the number of features matches\n",
    "print(\"Features Size:\\t\" + str(len(test_features)))\n",
    "print(\"Dataframe Size:\\t\" + str(len(test_df)))"
   ],
   "metadata": {
    "collapsed": false,
    "pycharm": {
     "name": "#%%\n"
    }
   }
  },
  {
   "cell_type": "code",
   "execution_count": 90,
   "outputs": [],
   "source": [
    "test_speakers = []\n",
    "for i in range(0, len(test_df)):\n",
    "    test_speakers.append(test_df['file'][i].split('_')[0].strip('s'))"
   ],
   "metadata": {
    "collapsed": false,
    "pycharm": {
     "name": "#%%\n"
    }
   }
  },
  {
   "cell_type": "code",
   "execution_count": 91,
   "outputs": [],
   "source": [
    "# Append the speaker list to the data\n",
    "test_df['speaker'] = test_speakers\n"
   ],
   "metadata": {
    "collapsed": false,
    "pycharm": {
     "name": "#%%\n"
    }
   }
  },
  {
   "cell_type": "code",
   "execution_count": 92,
   "outputs": [
    {
     "data": {
      "text/plain": "                                 file  speaker\n0  winfred_PL_Harvard_31_features.pkl  winfred\n1          Aaron_dune1_0_features.pkl    Aaron\n2      winfred_PL_sc2_86_features.pkl  winfred\n3      winfred_PL_sc1_88_features.pkl  winfred\n4         Aaron_dune3_42_features.pkl    Aaron",
      "text/html": "<div>\n<style scoped>\n    .dataframe tbody tr th:only-of-type {\n        vertical-align: middle;\n    }\n\n    .dataframe tbody tr th {\n        vertical-align: top;\n    }\n\n    .dataframe thead th {\n        text-align: right;\n    }\n</style>\n<table border=\"1\" class=\"dataframe\">\n  <thead>\n    <tr style=\"text-align: right;\">\n      <th></th>\n      <th>file</th>\n      <th>speaker</th>\n    </tr>\n  </thead>\n  <tbody>\n    <tr>\n      <th>0</th>\n      <td>winfred_PL_Harvard_31_features.pkl</td>\n      <td>winfred</td>\n    </tr>\n    <tr>\n      <th>1</th>\n      <td>Aaron_dune1_0_features.pkl</td>\n      <td>Aaron</td>\n    </tr>\n    <tr>\n      <th>2</th>\n      <td>winfred_PL_sc2_86_features.pkl</td>\n      <td>winfred</td>\n    </tr>\n    <tr>\n      <th>3</th>\n      <td>winfred_PL_sc1_88_features.pkl</td>\n      <td>winfred</td>\n    </tr>\n    <tr>\n      <th>4</th>\n      <td>Aaron_dune3_42_features.pkl</td>\n      <td>Aaron</td>\n    </tr>\n  </tbody>\n</table>\n</div>"
     },
     "execution_count": 92,
     "metadata": {},
     "output_type": "execute_result"
    }
   ],
   "source": [
    "# Look at data\n",
    "test_df.head()\n"
   ],
   "metadata": {
    "collapsed": false,
    "pycharm": {
     "name": "#%%\n"
    }
   }
  },
  {
   "cell_type": "code",
   "execution_count": 93,
   "outputs": [
    {
     "name": "stdout",
     "output_type": "stream",
     "text": [
      "Number of unique speakers: 2\n"
     ]
    }
   ],
   "source": [
    "# Check the number of unique speakers in the data\n",
    "print(\"Number of unique speakers: \" + str(test_df['speaker'].nunique()))"
   ],
   "metadata": {
    "collapsed": false,
    "pycharm": {
     "name": "#%%\n"
    }
   }
  },
  {
   "cell_type": "code",
   "execution_count": 94,
   "outputs": [
    {
     "data": {
      "text/plain": "20"
     },
     "execution_count": 94,
     "metadata": {},
     "output_type": "execute_result"
    }
   ],
   "source": [
    "# Making new var that holds just the speaker list\n",
    "test_labels = test_speakers\n",
    "# Look at the length, making sure it's the same as the features\n",
    "len(test_labels)\n"
   ],
   "metadata": {
    "collapsed": false,
    "pycharm": {
     "name": "#%%\n"
    }
   }
  },
  {
   "cell_type": "markdown",
   "source": [
    "#### Hot encoding y and pre-processing X and y (test data now)"
   ],
   "metadata": {
    "collapsed": false,
    "pycharm": {
     "name": "#%% md\n"
    }
   }
  },
  {
   "cell_type": "code",
   "execution_count": 95,
   "outputs": [],
   "source": [
    "X_test = np.array(test_features)\n",
    "y_test = np.array(test_labels)"
   ],
   "metadata": {
    "collapsed": false,
    "pycharm": {
     "name": "#%%\n"
    }
   }
  },
  {
   "cell_type": "code",
   "execution_count": 96,
   "outputs": [],
   "source": [
    "# Hot encoding y\n",
    "lb = LabelEncoder()\n",
    "y_test = to_categorical(lb.fit_transform(y_test))"
   ],
   "metadata": {
    "collapsed": false,
    "pycharm": {
     "name": "#%%\n"
    }
   }
  },
  {
   "cell_type": "code",
   "execution_count": 97,
   "outputs": [
    {
     "name": "stdout",
     "output_type": "stream",
     "text": [
      "X_test Shape:\t(20, 193)\n",
      "y_test Shape:\t(20, 2)\n"
     ]
    }
   ],
   "source": [
    "# Look at the shapes of our newly created data\n",
    "print(\"X_test Shape:\\t\" + str(X_test.shape))\n",
    "print(\"y_test Shape:\\t\" + str(y_test.shape))"
   ],
   "metadata": {
    "collapsed": false,
    "pycharm": {
     "name": "#%%\n"
    }
   }
  },
  {
   "cell_type": "code",
   "execution_count": 98,
   "outputs": [
    {
     "name": "stdout",
     "output_type": "stream",
     "text": [
      "X_train Shape:\t(825, 193)\n",
      "X_val Shape:\t(354, 193)\n",
      "X_test Shape:\t(20, 193)\n"
     ]
    }
   ],
   "source": [
    "# Compare all the sets of data thus far\n",
    "print(\"X_train Shape:\\t\" + str(X_train.shape))\n",
    "print(\"X_val Shape:\\t\" + str(X_val.shape))\n",
    "print(\"X_test Shape:\\t\" + str(X_test.shape))"
   ],
   "metadata": {
    "collapsed": false,
    "pycharm": {
     "name": "#%%\n"
    }
   }
  },
  {
   "cell_type": "code",
   "execution_count": 99,
   "outputs": [
    {
     "name": "stdout",
     "output_type": "stream",
     "text": [
      "y_train Shape:\t(825, 2)\n",
      "y_val Shape:\t(354, 2)\n",
      "y_test Shape:\t(20, 2)\n"
     ]
    }
   ],
   "source": [
    "print(\"y_train Shape:\\t\" + str(y_train.shape))\n",
    "print(\"y_val Shape:\\t\" + str(y_val.shape))\n",
    "print(\"y_test Shape:\\t\" + str(y_test.shape))"
   ],
   "metadata": {
    "collapsed": false,
    "pycharm": {
     "name": "#%%\n"
    }
   }
  },
  {
   "cell_type": "code",
   "execution_count": 100,
   "outputs": [],
   "source": [
    "# Do more transformation with standard scaler\n",
    "ss = StandardScaler()\n",
    "X_train = ss.fit_transform(X_train)\n",
    "X_val = ss.transform(X_val)\n",
    "X_test = ss.transform(X_test)"
   ],
   "metadata": {
    "collapsed": false,
    "pycharm": {
     "name": "#%%\n"
    }
   }
  },
  {
   "cell_type": "code",
   "execution_count": 100,
   "outputs": [],
   "source": [],
   "metadata": {
    "collapsed": false,
    "pycharm": {
     "name": "#%%\n"
    }
   }
  },
  {
   "cell_type": "markdown",
   "source": [
    "\n",
    "---\n",
    "#### Now we move onto the creation of the model\n",
    "\n"
   ],
   "metadata": {
    "collapsed": false,
    "pycharm": {
     "name": "#%% md\n"
    }
   }
  },
  {
   "cell_type": "code",
   "execution_count": 101,
   "outputs": [],
   "source": [
    "model = Sequential()\n",
    "\n",
    "# The input layer, taking in the 193 features\n",
    "model.add(Dense(193, input_shape=(193,), activation = 'relu'))\n",
    "model.add(Dropout(0.1))\n",
    "\n",
    "# Internal layer (TODO: change density of layer), I can mess with this one\n",
    "model.add(Dense(128, activation = 'relu'))\n",
    "model.add(Dropout(0.25))\n",
    "\n",
    "# Output layer - the final guess the NN makes (aka what speaker it thinks it is)\n",
    "model.add(Dense(2, activation = 'softmax'))\n",
    "\n",
    "# Compile the model\n",
    "model.compile(loss='categorical_crossentropy', metrics=['accuracy'], optimizer='adam') #mkk\n",
    "\n",
    "# Define early stopping callback\n",
    "early_stop = EarlyStopping(monitor='val_loss', min_delta=0, patience=100, verbose=1, mode='auto')"
   ],
   "metadata": {
    "collapsed": false,
    "pycharm": {
     "name": "#%%\n"
    }
   }
  },
  {
   "cell_type": "code",
   "execution_count": 102,
   "outputs": [
    {
     "name": "stdout",
     "output_type": "stream",
     "text": [
      "Epoch 1/9\n",
      "165/165 [==============================] - 1s 3ms/step - loss: 0.8583 - accuracy: 0.5394 - val_loss: 0.9909 - val_accuracy: 0.5734\n",
      "Epoch 2/9\n",
      "165/165 [==============================] - 0s 2ms/step - loss: 0.6694 - accuracy: 0.6191 - val_loss: 0.8878 - val_accuracy: 0.5847\n",
      "Epoch 3/9\n",
      "165/165 [==============================] - 0s 2ms/step - loss: 0.6818 - accuracy: 0.5944 - val_loss: 1.2485 - val_accuracy: 0.5876\n",
      "Epoch 4/9\n",
      "165/165 [==============================] - 0s 2ms/step - loss: 0.6363 - accuracy: 0.6432 - val_loss: 0.7746 - val_accuracy: 0.5763\n",
      "Epoch 5/9\n",
      "165/165 [==============================] - 0s 2ms/step - loss: 0.5933 - accuracy: 0.6704 - val_loss: 0.8564 - val_accuracy: 0.5480\n",
      "Epoch 6/9\n",
      "165/165 [==============================] - 0s 2ms/step - loss: 0.5964 - accuracy: 0.6955 - val_loss: 0.7413 - val_accuracy: 0.5678\n",
      "Epoch 7/9\n",
      "165/165 [==============================] - 0s 2ms/step - loss: 0.5988 - accuracy: 0.6621 - val_loss: 0.9979 - val_accuracy: 0.5904\n",
      "Epoch 8/9\n",
      "165/165 [==============================] - 0s 2ms/step - loss: 0.5826 - accuracy: 0.6813 - val_loss: 0.8535 - val_accuracy: 0.5593\n",
      "Epoch 9/9\n",
      "165/165 [==============================] - 0s 2ms/step - loss: 0.5699 - accuracy: 0.6723 - val_loss: 0.8303 - val_accuracy: 0.5763\n"
     ]
    },
    {
     "data": {
      "text/plain": "'myfile.write(\"batch size            Epoch               Prediction\")\\nfor i in range(1, 11):\\n    for j in range(1, 11):\\n        history = model.fit(X_train, y_train, batch_size=i, epochs=j,\\n                    validation_data=(X_val, y_val),\\n                    callbacks=[early_stop])\\n        #predict =1-round(len(test_df[test_df[\\'speaker\\'] != test_df[\\'prediction\\']])/len(test_df),3)\\n       # myfile.write(str(i)+\"              \" +str(j)+ \"              \" +str(predict))\\nmyfile.close()\\n# rounds to 3rd # hundreths spot'"
     },
     "execution_count": 102,
     "metadata": {},
     "output_type": "execute_result"
    }
   ],
   "source": [
    "import os\n",
    "history = model.fit(X_train, y_train, batch_size=5, epochs=9,\n",
    "                    validation_data=(X_val, y_val),\n",
    "                    callbacks=[early_stop])\n",
    "# I can mess with this cell 7 10\n",
    "# this mod needs to go in a for loop outer for loop=> 1-10 and inner for loop 1-10 so we get accuracy\n",
    "#myfile = open(\"batch size vs Epoch.txt\",\"w\")\n",
    "\"\"\"myfile.write(\"batch size            Epoch               Prediction\")\n",
    "for i in range(1, 11):\n",
    "    for j in range(1, 11):\n",
    "        history = model.fit(X_train, y_train, batch_size=i, epochs=j,\n",
    "                    validation_data=(X_val, y_val),\n",
    "                    callbacks=[early_stop])\n",
    "        #predict =1-round(len(test_df[test_df['speaker'] != test_df['prediction']])/len(test_df),3)\n",
    "       # myfile.write(str(i)+\"              \" +str(j)+ \"              \" +str(predict))\n",
    "myfile.close()\n",
    "# rounds to 3rd # hundreths spot\"\"\""
   ],
   "metadata": {
    "collapsed": false,
    "pycharm": {
     "name": "#%%\n"
    }
   }
  },
  {
   "cell_type": "code",
   "execution_count": 103,
   "outputs": [
    {
     "data": {
      "text/plain": "<Figure size 864x576 with 1 Axes>",
      "image/png": "[encoded data removed]"
     },
     "metadata": {
      "needs_background": "light"
     },
     "output_type": "display_data"
    }
   ],
   "source": [
    "import matplotlib.pyplot as plt\n",
    "# Check out our train accuracy and validation accuracy over epochs.\n",
    "train_accuracy = history.history['accuracy']\n",
    "val_accuracy = history.history['val_accuracy']\n",
    "\n",
    "\n",
    "# Set figure size.\n",
    "plt.figure(figsize=(12, 8))\n",
    "\n",
    "# Generate line plot of training, testing loss over epochs.\n",
    "plt.plot(train_accuracy, label='Training Accuracy', color='#185fad')\n",
    "plt.plot(val_accuracy, label='Validation Accuracy', color='orange')\n",
    "\n",
    "# Set title\n",
    "plt.title('Training and Validation Accuracy by Epoch', fontsize = 25)\n",
    "plt.xlabel('Epoch', fontsize = 18)\n",
    "plt.ylabel('Categorical Crossentropy', fontsize = 18)\n",
    "plt.xticks(range(0,11,1), range(0,11,1))\n",
    "\n",
    "plt.legend(fontsize = 18);"
   ],
   "metadata": {
    "collapsed": false,
    "pycharm": {
     "name": "#%%\n"
    }
   }
  },
  {
   "cell_type": "code",
   "execution_count": 104,
   "outputs": [
    {
     "data": {
      "text/plain": "<Figure size 864x576 with 1 Axes>",
      "image/png": "[encoded data removed]"
     },
     "metadata": {
      "needs_background": "light"
     },
     "output_type": "display_data"
    }
   ],
   "source": [
    "#I have to create 2 more graphs   1.)Accuracy vs Epoch 2.) Error vs Epoch\n",
    "#Find where the error is zero and that the epoch we will use\n",
    "\n",
    "import matplotlib.pyplot as plt\n",
    "# Check out our train accuracy and validation accuracy over epochs.\n",
    "train_accuracy = history.history['accuracy']\n",
    "loss = history.history['loss']\n",
    "\n",
    "\n",
    "# Set figure size.\n",
    "plt.figure(figsize=(12, 8))\n",
    "\n",
    "# Generate line plot of training, testing loss over epochs.\n",
    "plt.plot(train_accuracy, label='Training Accuracy', color='#185fad')\n",
    "plt.plot(loss, label='loss', color='orange')\n",
    "\n",
    "# Set title\n",
    "plt.title('Training Accuracy and Loss by Epoch', fontsize = 25)\n",
    "plt.xlabel('Epoch', fontsize = 18)\n",
    "plt.ylabel('Categorical Crossentropy', fontsize = 18)\n",
    "plt.xticks(range(0,11,1), range(0,11,1))\n",
    "\n",
    "plt.legend(fontsize = 18);\n"
   ],
   "metadata": {
    "collapsed": false,
    "pycharm": {
     "name": "#%%\n"
    }
   }
  },
  {
   "cell_type": "code",
   "execution_count": 105,
   "outputs": [
    {
     "data": {
      "text/plain": "<Figure size 864x576 with 1 Axes>",
      "image/png": "[encoded data removed]"
     },
     "metadata": {
      "needs_background": "light"
     },
     "output_type": "display_data"
    }
   ],
   "source": [
    "\n",
    "import matplotlib.pyplot as plt\n",
    "# Check out our train accuracy and validation accuracy over epochs.\n",
    "train_accuracy = history.history['accuracy']\n",
    "loss = history.history['loss']\n",
    "val_loss =history.history['val_loss']\n",
    "\n",
    "# Set figure size.\n",
    "plt.figure(figsize=(12, 8))\n",
    "\n",
    "# Generate line plot of training, testing loss over epochs.\n",
    "plt.plot(val_loss, label='val_loss', color='#185fad')\n",
    "plt.plot(val_accuracy, label='val_accuracy', color='orange')\n",
    "\n",
    "# Set title\n",
    "plt.title('Training Val_loss and val_acuracy by Epoch', fontsize = 25)\n",
    "plt.xlabel('Epoch', fontsize = 18)\n",
    "plt.ylabel('Categorical Crossentropy', fontsize = 18)\n",
    "plt.xticks(range(0,11,1), range(0,11,1))\n",
    "\n",
    "plt.legend(fontsize = 18);\n"
   ],
   "metadata": {
    "collapsed": false,
    "pycharm": {
     "name": "#%%\n"
    }
   }
  },
  {
   "cell_type": "code",
   "execution_count": 106,
   "outputs": [
    {
     "data": {
      "text/plain": "<Figure size 864x576 with 1 Axes>",
      "image/png": "[encoded data removed]"
     },
     "metadata": {
      "needs_background": "light"
     },
     "output_type": "display_data"
    }
   ],
   "source": [
    "import matplotlib.pyplot as plt\n",
    "# Check out our train accuracy and validation accuracy over epochs.\n",
    "train_accuracy = history.history['accuracy']\n",
    "loss = history.history['loss']\n",
    "val_loss =history.history['val_loss']\n",
    "\n",
    "# Set figure size.\n",
    "plt.figure(figsize=(12, 8))\n",
    "\n",
    "# Generate line plot of training, testing loss over epochs.\n",
    "plt.plot(val_loss, label='val_loss', color='#185fad')\n",
    "plt.plot(loss, label='loss', color='orange')\n",
    "\n",
    "# Set title\n",
    "plt.title('Training Val_loss and loss by Epoch', fontsize = 25)\n",
    "plt.xlabel('Epoch', fontsize = 18)\n",
    "plt.ylabel('Categorical Crossentropy', fontsize = 18)\n",
    "plt.xticks(range(0,11,1), range(0,11,1))\n",
    "\n",
    "plt.legend(fontsize = 18);"
   ],
   "metadata": {
    "collapsed": false,
    "pycharm": {
     "name": "#%%\n"
    }
   }
  },
  {
   "cell_type": "code",
   "execution_count": 107,
   "outputs": [
    {
     "name": "stderr",
     "output_type": "stream",
     "text": [
      "C:\\Users\\Winfred\\anaconda3\\envs\\socioAppEnv\\lib\\site-packages\\tensorflow\\python\\keras\\engine\\sequential.py:450: UserWarning: `model.predict_classes()` is deprecated and will be removed after 2021-01-01. Please use instead:* `np.argmax(model.predict(x), axis=-1)`,   if your model does multi-class classification   (e.g. if it uses a `softmax` last-layer activation).* `(model.predict(x) > 0.5).astype(\"int32\")`,   if your model does binary classification   (e.g. if it uses a `sigmoid` last-layer activation).\n",
      "  warnings.warn('`model.predict_classes()` is deprecated and '\n"
     ]
    }
   ],
   "source": [
    "# Get predictions from the test data\n",
    "predictions = model.predict_classes(X_test) #mkk"
   ],
   "metadata": {
    "collapsed": false,
    "pycharm": {
     "name": "#%%\n"
    }
   }
  },
  {
   "cell_type": "code",
   "execution_count": 108,
   "outputs": [],
   "source": [
    "# We transform back our predictions to the speakers ids\n",
    "predictions = lb.inverse_transform(predictions)#mkk"
   ],
   "metadata": {
    "collapsed": false,
    "pycharm": {
     "name": "#%%\n"
    }
   }
  },
  {
   "cell_type": "code",
   "execution_count": 109,
   "outputs": [],
   "source": [
    "test_df['prediction'] = predictions#mkk"
   ],
   "metadata": {
    "collapsed": false,
    "pycharm": {
     "name": "#%%\n"
    }
   }
  },
  {
   "cell_type": "code",
   "execution_count": 110,
   "outputs": [
    {
     "data": {
      "text/plain": "                                     file  speaker prediction\n0      winfred_PL_Harvard_31_features.pkl  winfred    winfred\n1              Aaron_dune1_0_features.pkl    Aaron    winfred\n2          winfred_PL_sc2_86_features.pkl  winfred    winfred\n3          winfred_PL_sc1_88_features.pkl  winfred    winfred\n4             Aaron_dune3_42_features.pkl    Aaron    winfred\n5          winfred_PL_sc1_89_features.pkl  winfred      Aaron\n6             Aaron_dune3_40_features.pkl    Aaron      Aaron\n7      winfred_PL_Harvard_33_features.pkl  winfred      Aaron\n8   Aaron_harvard_sentences1_features.pkl    Aaron    winfred\n9      winfred_PL_Harvard_32_features.pkl  winfred    winfred\n10         winfred_PL_sc4_32_features.pkl  winfred      Aaron\n11  Aaron_harvard_sentences0_features.pkl    Aaron      Aaron\n12         winfred_PL_sc2_88_features.pkl  winfred      Aaron\n13            Aaron_dune3_41_features.pkl    Aaron      Aaron\n14             Aaron_dune1_3_features.pkl    Aaron    winfred\n15     winfred_PL_Harvard_30_features.pkl  winfred    winfred\n16             Aaron_dune1_1_features.pkl    Aaron    winfred\n17             Aaron_dune1_2_features.pkl    Aaron    winfred\n18         winfred_PL_sc2_87_features.pkl  winfred    winfred\n19             Aaron_dune1_4_features.pkl    Aaron    winfred",
      "text/html": "<div>\n<style scoped>\n    .dataframe tbody tr th:only-of-type {\n        vertical-align: middle;\n    }\n\n    .dataframe tbody tr th {\n        vertical-align: top;\n    }\n\n    .dataframe thead th {\n        text-align: right;\n    }\n</style>\n<table border=\"1\" class=\"dataframe\">\n  <thead>\n    <tr style=\"text-align: right;\">\n      <th></th>\n      <th>file</th>\n      <th>speaker</th>\n      <th>prediction</th>\n    </tr>\n  </thead>\n  <tbody>\n    <tr>\n      <th>0</th>\n      <td>winfred_PL_Harvard_31_features.pkl</td>\n      <td>winfred</td>\n      <td>winfred</td>\n    </tr>\n    <tr>\n      <th>1</th>\n      <td>Aaron_dune1_0_features.pkl</td>\n      <td>Aaron</td>\n      <td>winfred</td>\n    </tr>\n    <tr>\n      <th>2</th>\n      <td>winfred_PL_sc2_86_features.pkl</td>\n      <td>winfred</td>\n      <td>winfred</td>\n    </tr>\n    <tr>\n      <th>3</th>\n      <td>winfred_PL_sc1_88_features.pkl</td>\n      <td>winfred</td>\n      <td>winfred</td>\n    </tr>\n    <tr>\n      <th>4</th>\n      <td>Aaron_dune3_42_features.pkl</td>\n      <td>Aaron</td>\n      <td>winfred</td>\n    </tr>\n    <tr>\n      <th>5</th>\n      <td>winfred_PL_sc1_89_features.pkl</td>\n      <td>winfred</td>\n      <td>Aaron</td>\n    </tr>\n    <tr>\n      <th>6</th>\n      <td>Aaron_dune3_40_features.pkl</td>\n      <td>Aaron</td>\n      <td>Aaron</td>\n    </tr>\n    <tr>\n      <th>7</th>\n      <td>winfred_PL_Harvard_33_features.pkl</td>\n      <td>winfred</td>\n      <td>Aaron</td>\n    </tr>\n    <tr>\n      <th>8</th>\n      <td>Aaron_harvard_sentences1_features.pkl</td>\n      <td>Aaron</td>\n      <td>winfred</td>\n    </tr>\n    <tr>\n      <th>9</th>\n      <td>winfred_PL_Harvard_32_features.pkl</td>\n      <td>winfred</td>\n      <td>winfred</td>\n    </tr>\n    <tr>\n      <th>10</th>\n      <td>winfred_PL_sc4_32_features.pkl</td>\n      <td>winfred</td>\n      <td>Aaron</td>\n    </tr>\n    <tr>\n      <th>11</th>\n      <td>Aaron_harvard_sentences0_features.pkl</td>\n      <td>Aaron</td>\n      <td>Aaron</td>\n    </tr>\n    <tr>\n      <th>12</th>\n      <td>winfred_PL_sc2_88_features.pkl</td>\n      <td>winfred</td>\n      <td>Aaron</td>\n    </tr>\n    <tr>\n      <th>13</th>\n      <td>Aaron_dune3_41_features.pkl</td>\n      <td>Aaron</td>\n      <td>Aaron</td>\n    </tr>\n    <tr>\n      <th>14</th>\n      <td>Aaron_dune1_3_features.pkl</td>\n      <td>Aaron</td>\n      <td>winfred</td>\n    </tr>\n    <tr>\n      <th>15</th>\n      <td>winfred_PL_Harvard_30_features.pkl</td>\n      <td>winfred</td>\n      <td>winfred</td>\n    </tr>\n    <tr>\n      <th>16</th>\n      <td>Aaron_dune1_1_features.pkl</td>\n      <td>Aaron</td>\n      <td>winfred</td>\n    </tr>\n    <tr>\n      <th>17</th>\n      <td>Aaron_dune1_2_features.pkl</td>\n      <td>Aaron</td>\n      <td>winfred</td>\n    </tr>\n    <tr>\n      <th>18</th>\n      <td>winfred_PL_sc2_87_features.pkl</td>\n      <td>winfred</td>\n      <td>winfred</td>\n    </tr>\n    <tr>\n      <th>19</th>\n      <td>Aaron_dune1_4_features.pkl</td>\n      <td>Aaron</td>\n      <td>winfred</td>\n    </tr>\n  </tbody>\n</table>\n</div>"
     },
     "execution_count": 110,
     "metadata": {},
     "output_type": "execute_result"
    }
   ],
   "source": [
    "# Look at how the predictions match up\n",
    "test_df"
   ],
   "metadata": {
    "collapsed": false,
    "pycharm": {
     "name": "#%%\n"
    }
   }
  },
  {
   "cell_type": "code",
   "execution_count": 111,
   "outputs": [
    {
     "data": {
      "text/plain": "0.44999999999999996"
     },
     "execution_count": 111,
     "metadata": {},
     "output_type": "execute_result"
    }
   ],
   "source": [
    "# Checking our model accuracy\n",
    "1-round(len(test_df[test_df['speaker'] != test_df['prediction']])/len(test_df),3)"
   ],
   "metadata": {
    "collapsed": false,
    "pycharm": {
     "name": "#%%\n"
    }
   }
  },
  {
   "cell_type": "code",
   "execution_count": 112,
   "outputs": [
    {
     "name": "stderr",
     "output_type": "stream",
     "text": [
      "C:\\Users\\Winfred\\anaconda3\\envs\\socioAppEnv\\lib\\site-packages\\tensorflow\\python\\keras\\engine\\sequential.py:450: UserWarning: `model.predict_classes()` is deprecated and will be removed after 2021-01-01. Please use instead:* `np.argmax(model.predict(x), axis=-1)`,   if your model does multi-class classification   (e.g. if it uses a `softmax` last-layer activation).* `(model.predict(x) > 0.5).astype(\"int32\")`,   if your model does binary classification   (e.g. if it uses a `sigmoid` last-layer activation).\n",
      "  warnings.warn('`model.predict_classes()` is deprecated and '\n"
     ]
    },
    {
     "name": "stdout",
     "output_type": "stream",
     "text": [
      "825/825 [==============================] - 2s 2ms/step - loss: 0.7420 - accuracy: 0.6158 - val_loss: 0.9567 - val_accuracy: 0.5621\n",
      "Epoch 1/2\n",
      "825/825 [==============================] - 2s 2ms/step - loss: 0.6578 - accuracy: 0.6279 - val_loss: 0.8200 - val_accuracy: 0.5791\n",
      "Epoch 2/2\n",
      "825/825 [==============================] - 3s 3ms/step - loss: 0.6540 - accuracy: 0.6218 - val_loss: 0.6989 - val_accuracy: 0.5650\n",
      "Epoch 1/3\n",
      "825/825 [==============================] - 2s 3ms/step - loss: 0.6315 - accuracy: 0.6485 - val_loss: 0.9807 - val_accuracy: 0.5876\n",
      "Epoch 2/3\n",
      "825/825 [==============================] - 2s 2ms/step - loss: 0.6202 - accuracy: 0.6485 - val_loss: 0.7709 - val_accuracy: 0.5847\n",
      "Epoch 3/3\n",
      "825/825 [==============================] - 2s 2ms/step - loss: 0.6120 - accuracy: 0.6582 - val_loss: 0.8921 - val_accuracy: 0.5847\n",
      "Epoch 1/4\n",
      "825/825 [==============================] - 2s 2ms/step - loss: 0.5911 - accuracy: 0.6836 - val_loss: 0.7613 - val_accuracy: 0.5198\n",
      "Epoch 2/4\n",
      "825/825 [==============================] - 2s 2ms/step - loss: 0.6061 - accuracy: 0.6679 - val_loss: 0.7059 - val_accuracy: 0.5678\n",
      "Epoch 3/4\n",
      "825/825 [==============================] - 2s 2ms/step - loss: 0.5659 - accuracy: 0.6800 - val_loss: 0.9610 - val_accuracy: 0.5763\n",
      "Epoch 4/4\n",
      "825/825 [==============================] - 1s 2ms/step - loss: 0.5881 - accuracy: 0.6788 - val_loss: 1.1581 - val_accuracy: 0.5706\n",
      "Epoch 1/5\n",
      "825/825 [==============================] - 2s 2ms/step - loss: 0.5720 - accuracy: 0.7103 - val_loss: 1.0661 - val_accuracy: 0.5650\n",
      "Epoch 2/5\n",
      "825/825 [==============================] - 2s 2ms/step - loss: 0.5510 - accuracy: 0.6994 - val_loss: 0.8333 - val_accuracy: 0.5565\n",
      "Epoch 3/5\n",
      "825/825 [==============================] - 2s 2ms/step - loss: 0.5560 - accuracy: 0.6921 - val_loss: 1.0412 - val_accuracy: 0.5395\n",
      "Epoch 4/5\n",
      "825/825 [==============================] - 2s 2ms/step - loss: 0.5204 - accuracy: 0.7212 - val_loss: 1.1240 - val_accuracy: 0.5763\n",
      "Epoch 5/5\n",
      "825/825 [==============================] - 2s 2ms/step - loss: 0.5283 - accuracy: 0.7079 - val_loss: 1.1346 - val_accuracy: 0.5734\n",
      "Epoch 1/6\n",
      "825/825 [==============================] - 2s 2ms/step - loss: 0.5056 - accuracy: 0.7285 - val_loss: 1.7765 - val_accuracy: 0.5000\n",
      "Epoch 2/6\n",
      "825/825 [==============================] - 1s 2ms/step - loss: 0.5287 - accuracy: 0.7309 - val_loss: 1.3924 - val_accuracy: 0.5254\n",
      "Epoch 3/6\n",
      "825/825 [==============================] - 2s 2ms/step - loss: 0.4809 - accuracy: 0.7382 - val_loss: 1.4981 - val_accuracy: 0.5311\n",
      "Epoch 4/6\n",
      "825/825 [==============================] - 2s 2ms/step - loss: 0.4768 - accuracy: 0.7382 - val_loss: 1.8412 - val_accuracy: 0.5339\n",
      "Epoch 5/6\n",
      "825/825 [==============================] - 1s 2ms/step - loss: 0.4937 - accuracy: 0.7479 - val_loss: 1.7212 - val_accuracy: 0.5452\n",
      "Epoch 6/6\n",
      "825/825 [==============================] - 1s 2ms/step - loss: 0.4481 - accuracy: 0.7491 - val_loss: 1.3943 - val_accuracy: 0.5734\n",
      "Epoch 1/7\n",
      "825/825 [==============================] - 2s 2ms/step - loss: 0.4809 - accuracy: 0.7491 - val_loss: 1.4997 - val_accuracy: 0.5960\n",
      "Epoch 2/7\n",
      "825/825 [==============================] - 2s 2ms/step - loss: 0.4574 - accuracy: 0.7600 - val_loss: 1.7765 - val_accuracy: 0.5537\n",
      "Epoch 3/7\n",
      "825/825 [==============================] - 2s 2ms/step - loss: 0.4403 - accuracy: 0.7673 - val_loss: 2.0119 - val_accuracy: 0.5508\n",
      "Epoch 4/7\n",
      "825/825 [==============================] - 2s 2ms/step - loss: 0.4791 - accuracy: 0.7539 - val_loss: 3.2116 - val_accuracy: 0.5734\n",
      "Epoch 5/7\n",
      "825/825 [==============================] - 2s 2ms/step - loss: 0.4100 - accuracy: 0.7830 - val_loss: 2.4803 - val_accuracy: 0.5028\n",
      "Epoch 6/7\n",
      "825/825 [==============================] - 2s 2ms/step - loss: 0.4144 - accuracy: 0.7927 - val_loss: 4.3291 - val_accuracy: 0.5480\n",
      "Epoch 7/7\n",
      "825/825 [==============================] - 1s 2ms/step - loss: 0.4457 - accuracy: 0.7709 - val_loss: 3.0466 - val_accuracy: 0.5650\n",
      "Epoch 1/8\n",
      "825/825 [==============================] - 2s 2ms/step - loss: 0.4309 - accuracy: 0.7842 - val_loss: 2.2937 - val_accuracy: 0.5791\n",
      "Epoch 2/8\n",
      "825/825 [==============================] - 2s 2ms/step - loss: 0.3840 - accuracy: 0.7855 - val_loss: 2.8204 - val_accuracy: 0.5706\n",
      "Epoch 3/8\n",
      "825/825 [==============================] - 2s 2ms/step - loss: 0.4349 - accuracy: 0.7758 - val_loss: 2.4252 - val_accuracy: 0.5876\n",
      "Epoch 4/8\n",
      "825/825 [==============================] - 2s 2ms/step - loss: 0.3953 - accuracy: 0.7939 - val_loss: 1.9851 - val_accuracy: 0.5480\n",
      "Epoch 5/8\n",
      "825/825 [==============================] - 2s 2ms/step - loss: 0.4033 - accuracy: 0.7964 - val_loss: 2.0400 - val_accuracy: 0.5791\n",
      "Epoch 6/8\n",
      "825/825 [==============================] - 2s 2ms/step - loss: 0.4025 - accuracy: 0.7891 - val_loss: 2.1929 - val_accuracy: 0.5819\n",
      "Epoch 7/8\n",
      "825/825 [==============================] - 2s 2ms/step - loss: 0.3892 - accuracy: 0.8012 - val_loss: 2.6284 - val_accuracy: 0.5593\n",
      "Epoch 8/8\n",
      "825/825 [==============================] - 2s 2ms/step - loss: 0.3669 - accuracy: 0.8085 - val_loss: 4.7023 - val_accuracy: 0.5706\n",
      "Epoch 1/9\n",
      "825/825 [==============================] - 2s 2ms/step - loss: 0.4330 - accuracy: 0.7915 - val_loss: 3.1118 - val_accuracy: 0.4944\n",
      "Epoch 2/9\n",
      "825/825 [==============================] - 2s 2ms/step - loss: 0.3979 - accuracy: 0.8133 - val_loss: 3.2073 - val_accuracy: 0.5650\n",
      "Epoch 3/9\n",
      "825/825 [==============================] - 2s 2ms/step - loss: 0.3575 - accuracy: 0.8267 - val_loss: 2.5994 - val_accuracy: 0.5960\n",
      "Epoch 4/9\n",
      "825/825 [==============================] - 2s 2ms/step - loss: 0.3524 - accuracy: 0.8400 - val_loss: 4.6202 - val_accuracy: 0.5763\n",
      "Epoch 5/9\n",
      "825/825 [==============================] - 2s 2ms/step - loss: 0.3224 - accuracy: 0.8436 - val_loss: 3.1137 - val_accuracy: 0.5791\n",
      "Epoch 6/9\n",
      "825/825 [==============================] - 2s 2ms/step - loss: 0.3644 - accuracy: 0.8145 - val_loss: 3.1676 - val_accuracy: 0.5424\n",
      "Epoch 7/9\n",
      "825/825 [==============================] - 1s 2ms/step - loss: 0.3661 - accuracy: 0.8545 - val_loss: 4.6535 - val_accuracy: 0.4831\n",
      "Epoch 8/9\n",
      "825/825 [==============================] - 2s 2ms/step - loss: 0.4187 - accuracy: 0.8315 - val_loss: 3.4310 - val_accuracy: 0.5198\n",
      "Epoch 9/9\n",
      "825/825 [==============================] - 2s 2ms/step - loss: 0.3057 - accuracy: 0.8594 - val_loss: 3.9480 - val_accuracy: 0.5734\n",
      "Epoch 1/10\n",
      "825/825 [==============================] - 2s 2ms/step - loss: 0.3585 - accuracy: 0.8364 - val_loss: 3.2859 - val_accuracy: 0.5989\n",
      "Epoch 2/10\n",
      "825/825 [==============================] - 2s 2ms/step - loss: 0.3076 - accuracy: 0.8448 - val_loss: 3.5402 - val_accuracy: 0.5904\n",
      "Epoch 3/10\n",
      "825/825 [==============================] - 2s 2ms/step - loss: 0.3246 - accuracy: 0.8521 - val_loss: 3.7004 - val_accuracy: 0.5763\n",
      "Epoch 4/10\n",
      "825/825 [==============================] - 2s 2ms/step - loss: 0.3350 - accuracy: 0.8558 - val_loss: 3.4909 - val_accuracy: 0.5621\n",
      "Epoch 5/10\n",
      "825/825 [==============================] - 2s 2ms/step - loss: 0.3259 - accuracy: 0.8497 - val_loss: 5.9682 - val_accuracy: 0.5847\n",
      "Epoch 6/10\n",
      "825/825 [==============================] - 1s 2ms/step - loss: 0.3265 - accuracy: 0.8606 - val_loss: 4.3709 - val_accuracy: 0.5565\n",
      "Epoch 7/10\n",
      "825/825 [==============================] - 2s 2ms/step - loss: 0.3525 - accuracy: 0.8582 - val_loss: 5.3299 - val_accuracy: 0.5678\n",
      "Epoch 8/10\n",
      "825/825 [==============================] - 2s 2ms/step - loss: 0.3063 - accuracy: 0.8655 - val_loss: 4.8519 - val_accuracy: 0.5763\n",
      "Epoch 9/10\n",
      "825/825 [==============================] - 2s 2ms/step - loss: 0.3011 - accuracy: 0.8521 - val_loss: 5.2325 - val_accuracy: 0.5819\n",
      "Epoch 10/10\n",
      "825/825 [==============================] - 2s 2ms/step - loss: 0.2835 - accuracy: 0.8582 - val_loss: 4.1054 - val_accuracy: 0.5706\n",
      "413/413 [==============================] - 1s 2ms/step - loss: 0.2158 - accuracy: 0.8836 - val_loss: 4.4177 - val_accuracy: 0.5650\n",
      "Epoch 1/2\n",
      "413/413 [==============================] - 1s 2ms/step - loss: 0.1904 - accuracy: 0.9164 - val_loss: 5.2674 - val_accuracy: 0.5847\n",
      "Epoch 2/2\n",
      "413/413 [==============================] - 1s 2ms/step - loss: 0.1920 - accuracy: 0.9018 - val_loss: 5.2771 - val_accuracy: 0.5678\n",
      "Epoch 1/3\n",
      "413/413 [==============================] - 1s 2ms/step - loss: 0.1879 - accuracy: 0.9103 - val_loss: 5.7772 - val_accuracy: 0.5819\n",
      "Epoch 2/3\n",
      "413/413 [==============================] - 1s 2ms/step - loss: 0.1868 - accuracy: 0.9115 - val_loss: 6.6494 - val_accuracy: 0.5819\n",
      "Epoch 3/3\n",
      "413/413 [==============================] - 1s 2ms/step - loss: 0.2214 - accuracy: 0.9091 - val_loss: 8.1630 - val_accuracy: 0.5876\n",
      "Epoch 1/4\n",
      "413/413 [==============================] - 1s 2ms/step - loss: 0.2069 - accuracy: 0.9091 - val_loss: 5.9123 - val_accuracy: 0.5678\n",
      "Epoch 2/4\n",
      "413/413 [==============================] - 1s 2ms/step - loss: 0.2197 - accuracy: 0.8909 - val_loss: 5.3718 - val_accuracy: 0.5819\n",
      "Epoch 3/4\n",
      "413/413 [==============================] - 1s 2ms/step - loss: 0.2042 - accuracy: 0.9164 - val_loss: 6.0077 - val_accuracy: 0.5989\n",
      "Epoch 4/4\n",
      "413/413 [==============================] - 1s 2ms/step - loss: 0.1674 - accuracy: 0.9285 - val_loss: 6.1306 - val_accuracy: 0.5650\n",
      "Epoch 1/5\n",
      "413/413 [==============================] - 1s 2ms/step - loss: 0.2099 - accuracy: 0.9152 - val_loss: 6.2851 - val_accuracy: 0.5621\n",
      "Epoch 2/5\n",
      "413/413 [==============================] - 1s 2ms/step - loss: 0.2068 - accuracy: 0.9055 - val_loss: 6.0083 - val_accuracy: 0.5621\n",
      "Epoch 3/5\n",
      "413/413 [==============================] - 1s 2ms/step - loss: 0.1608 - accuracy: 0.9248 - val_loss: 5.9710 - val_accuracy: 0.5650\n",
      "Epoch 4/5\n",
      "413/413 [==============================] - 1s 2ms/step - loss: 0.1521 - accuracy: 0.9261 - val_loss: 6.2272 - val_accuracy: 0.5621\n",
      "Epoch 5/5\n",
      "413/413 [==============================] - 1s 2ms/step - loss: 0.1639 - accuracy: 0.9285 - val_loss: 6.4794 - val_accuracy: 0.5565\n",
      "Epoch 1/6\n",
      "413/413 [==============================] - 1s 2ms/step - loss: 0.2051 - accuracy: 0.9067 - val_loss: 8.8861 - val_accuracy: 0.5678\n",
      "Epoch 2/6\n",
      "413/413 [==============================] - 1s 2ms/step - loss: 0.1706 - accuracy: 0.9273 - val_loss: 6.1735 - val_accuracy: 0.5819\n",
      "Epoch 3/6\n",
      "413/413 [==============================] - 1s 2ms/step - loss: 0.1626 - accuracy: 0.9358 - val_loss: 6.8454 - val_accuracy: 0.5734\n",
      "Epoch 4/6\n",
      "413/413 [==============================] - 1s 2ms/step - loss: 0.1555 - accuracy: 0.9430 - val_loss: 7.2330 - val_accuracy: 0.5847\n",
      "Epoch 5/6\n",
      "413/413 [==============================] - 1s 2ms/step - loss: 0.2118 - accuracy: 0.9115 - val_loss: 6.1708 - val_accuracy: 0.5565\n",
      "Epoch 6/6\n",
      "413/413 [==============================] - 1s 2ms/step - loss: 0.1881 - accuracy: 0.9261 - val_loss: 6.0020 - val_accuracy: 0.5395\n",
      "Epoch 1/7\n",
      "413/413 [==============================] - 1s 2ms/step - loss: 0.1267 - accuracy: 0.9442 - val_loss: 7.7227 - val_accuracy: 0.5989\n",
      "Epoch 2/7\n",
      "413/413 [==============================] - 1s 2ms/step - loss: 0.1815 - accuracy: 0.9297 - val_loss: 9.3462 - val_accuracy: 0.5791\n",
      "Epoch 3/7\n",
      "413/413 [==============================] - 1s 2ms/step - loss: 0.2050 - accuracy: 0.9273 - val_loss: 7.1107 - val_accuracy: 0.5932\n",
      "Epoch 4/7\n",
      "413/413 [==============================] - 1s 2ms/step - loss: 0.1521 - accuracy: 0.9309 - val_loss: 7.9860 - val_accuracy: 0.5819\n",
      "Epoch 5/7\n",
      "413/413 [==============================] - 1s 2ms/step - loss: 0.1648 - accuracy: 0.9564 - val_loss: 7.2825 - val_accuracy: 0.5932\n",
      "Epoch 6/7\n",
      "413/413 [==============================] - 1s 2ms/step - loss: 0.1599 - accuracy: 0.9370 - val_loss: 6.5599 - val_accuracy: 0.5960\n",
      "Epoch 7/7\n",
      "413/413 [==============================] - 1s 2ms/step - loss: 0.1121 - accuracy: 0.9527 - val_loss: 8.4724 - val_accuracy: 0.5960\n",
      "Epoch 1/8\n",
      "413/413 [==============================] - 1s 2ms/step - loss: 0.1800 - accuracy: 0.9273 - val_loss: 8.0299 - val_accuracy: 0.5678\n",
      "Epoch 2/8\n",
      "413/413 [==============================] - 1s 2ms/step - loss: 0.1101 - accuracy: 0.9455 - val_loss: 7.0537 - val_accuracy: 0.5424\n",
      "Epoch 3/8\n",
      "413/413 [==============================] - 1s 2ms/step - loss: 0.0999 - accuracy: 0.9600 - val_loss: 7.2339 - val_accuracy: 0.5960\n",
      "Epoch 4/8\n",
      "413/413 [==============================] - 1s 2ms/step - loss: 0.1061 - accuracy: 0.9576 - val_loss: 7.4290 - val_accuracy: 0.5904\n",
      "Epoch 5/8\n",
      "413/413 [==============================] - 1s 2ms/step - loss: 0.1984 - accuracy: 0.9261 - val_loss: 11.6463 - val_accuracy: 0.5650\n",
      "Epoch 6/8\n",
      "413/413 [==============================] - 1s 2ms/step - loss: 0.1907 - accuracy: 0.9358 - val_loss: 8.0667 - val_accuracy: 0.6017\n",
      "Epoch 7/8\n",
      "413/413 [==============================] - 1s 2ms/step - loss: 0.1510 - accuracy: 0.9358 - val_loss: 7.8661 - val_accuracy: 0.5876\n",
      "Epoch 8/8\n",
      "413/413 [==============================] - 1s 2ms/step - loss: 0.2094 - accuracy: 0.9406 - val_loss: 7.6436 - val_accuracy: 0.5876\n",
      "Epoch 1/9\n",
      "413/413 [==============================] - 1s 2ms/step - loss: 0.1166 - accuracy: 0.9576 - val_loss: 7.7917 - val_accuracy: 0.5621\n",
      "Epoch 2/9\n",
      "413/413 [==============================] - 1s 2ms/step - loss: 0.1404 - accuracy: 0.9467 - val_loss: 8.7706 - val_accuracy: 0.5650\n",
      "Epoch 3/9\n",
      "413/413 [==============================] - 1s 3ms/step - loss: 0.1055 - accuracy: 0.9661 - val_loss: 8.9859 - val_accuracy: 0.5932\n",
      "Epoch 4/9\n",
      "413/413 [==============================] - 1s 2ms/step - loss: 0.0755 - accuracy: 0.9721 - val_loss: 10.0948 - val_accuracy: 0.5989\n",
      "Epoch 5/9\n",
      "413/413 [==============================] - 1s 2ms/step - loss: 0.0877 - accuracy: 0.9697 - val_loss: 8.8510 - val_accuracy: 0.5678\n",
      "Epoch 6/9\n",
      "413/413 [==============================] - 1s 2ms/step - loss: 0.1826 - accuracy: 0.9418 - val_loss: 10.4171 - val_accuracy: 0.5819\n",
      "Epoch 7/9\n",
      "413/413 [==============================] - 1s 3ms/step - loss: 0.1441 - accuracy: 0.9515 - val_loss: 8.7030 - val_accuracy: 0.5395\n",
      "Epoch 8/9\n",
      "413/413 [==============================] - 1s 2ms/step - loss: 0.1154 - accuracy: 0.9479 - val_loss: 8.8387 - val_accuracy: 0.5791\n",
      "Epoch 9/9\n",
      "413/413 [==============================] - 1s 2ms/step - loss: 0.1103 - accuracy: 0.9576 - val_loss: 7.8270 - val_accuracy: 0.5706\n",
      "Epoch 1/10\n",
      "413/413 [==============================] - 1s 2ms/step - loss: 0.1491 - accuracy: 0.9539 - val_loss: 8.3575 - val_accuracy: 0.5339\n",
      "Epoch 2/10\n",
      "413/413 [==============================] - 1s 2ms/step - loss: 0.1147 - accuracy: 0.9552 - val_loss: 9.2251 - val_accuracy: 0.5734\n",
      "Epoch 3/10\n",
      "413/413 [==============================] - 1s 2ms/step - loss: 0.1214 - accuracy: 0.9539 - val_loss: 9.1771 - val_accuracy: 0.5452\n",
      "Epoch 4/10\n",
      "413/413 [==============================] - 1s 2ms/step - loss: 0.0910 - accuracy: 0.9661 - val_loss: 7.2426 - val_accuracy: 0.5678\n",
      "Epoch 5/10\n",
      "413/413 [==============================] - 1s 2ms/step - loss: 0.1006 - accuracy: 0.9612 - val_loss: 9.7865 - val_accuracy: 0.5621\n",
      "Epoch 6/10\n",
      "413/413 [==============================] - 1s 2ms/step - loss: 0.1405 - accuracy: 0.9491 - val_loss: 9.3681 - val_accuracy: 0.5706\n",
      "Epoch 7/10\n",
      "413/413 [==============================] - 1s 2ms/step - loss: 0.1298 - accuracy: 0.9564 - val_loss: 7.9915 - val_accuracy: 0.5311\n",
      "Epoch 8/10\n",
      "413/413 [==============================] - 1s 2ms/step - loss: 0.0727 - accuracy: 0.9733 - val_loss: 8.7847 - val_accuracy: 0.5621\n",
      "Epoch 9/10\n",
      "413/413 [==============================] - 1s 2ms/step - loss: 0.1446 - accuracy: 0.9515 - val_loss: 8.5861 - val_accuracy: 0.5791\n",
      "Epoch 10/10\n",
      "413/413 [==============================] - 1s 2ms/step - loss: 0.1729 - accuracy: 0.9467 - val_loss: 8.7095 - val_accuracy: 0.5706\n",
      "275/275 [==============================] - 1s 2ms/step - loss: 0.0793 - accuracy: 0.9673 - val_loss: 9.4812 - val_accuracy: 0.5650\n",
      "Epoch 1/2\n",
      "275/275 [==============================] - 1s 3ms/step - loss: 0.0847 - accuracy: 0.9733 - val_loss: 9.5870 - val_accuracy: 0.5734\n",
      "Epoch 2/2\n",
      "275/275 [==============================] - 1s 2ms/step - loss: 0.0571 - accuracy: 0.9855 - val_loss: 10.0577 - val_accuracy: 0.5904\n",
      "Epoch 1/3\n",
      "275/275 [==============================] - 1s 2ms/step - loss: 0.0493 - accuracy: 0.9794 - val_loss: 10.4231 - val_accuracy: 0.5847\n",
      "Epoch 2/3\n",
      "275/275 [==============================] - 1s 2ms/step - loss: 0.0418 - accuracy: 0.9818 - val_loss: 11.2433 - val_accuracy: 0.5734\n",
      "Epoch 3/3\n",
      "275/275 [==============================] - 1s 2ms/step - loss: 0.0471 - accuracy: 0.9818 - val_loss: 10.6095 - val_accuracy: 0.5791\n",
      "Epoch 1/4\n",
      "275/275 [==============================] - 1s 2ms/step - loss: 0.0465 - accuracy: 0.9806 - val_loss: 10.9179 - val_accuracy: 0.5791\n",
      "Epoch 2/4\n",
      "275/275 [==============================] - 1s 2ms/step - loss: 0.0348 - accuracy: 0.9842 - val_loss: 13.3282 - val_accuracy: 0.5791\n",
      "Epoch 3/4\n",
      "275/275 [==============================] - 1s 2ms/step - loss: 0.0933 - accuracy: 0.9624 - val_loss: 12.3625 - val_accuracy: 0.5763\n",
      "Epoch 4/4\n",
      "275/275 [==============================] - 1s 2ms/step - loss: 0.1041 - accuracy: 0.9685 - val_loss: 10.9127 - val_accuracy: 0.5791\n",
      "Epoch 1/5\n",
      "275/275 [==============================] - 1s 3ms/step - loss: 0.1319 - accuracy: 0.9624 - val_loss: 11.0205 - val_accuracy: 0.5847\n",
      "Epoch 2/5\n",
      "275/275 [==============================] - 1s 2ms/step - loss: 0.0512 - accuracy: 0.9867 - val_loss: 12.4588 - val_accuracy: 0.5932\n",
      "Epoch 3/5\n",
      "275/275 [==============================] - 1s 2ms/step - loss: 0.0392 - accuracy: 0.9855 - val_loss: 11.5018 - val_accuracy: 0.5876\n",
      "Epoch 4/5\n",
      "275/275 [==============================] - 1s 2ms/step - loss: 0.0275 - accuracy: 0.9927 - val_loss: 10.8261 - val_accuracy: 0.5960\n",
      "Epoch 5/5\n",
      "275/275 [==============================] - 1s 2ms/step - loss: 0.0457 - accuracy: 0.9806 - val_loss: 10.8733 - val_accuracy: 0.5876\n",
      "Epoch 1/6\n",
      "275/275 [==============================] - 1s 2ms/step - loss: 0.0696 - accuracy: 0.9758 - val_loss: 10.0370 - val_accuracy: 0.5819\n",
      "Epoch 2/6\n",
      "275/275 [==============================] - 1s 2ms/step - loss: 0.0713 - accuracy: 0.9648 - val_loss: 12.9202 - val_accuracy: 0.5876\n",
      "Epoch 3/6\n",
      "275/275 [==============================] - 1s 2ms/step - loss: 0.0906 - accuracy: 0.9673 - val_loss: 13.2942 - val_accuracy: 0.5734\n",
      "Epoch 4/6\n",
      "275/275 [==============================] - 1s 2ms/step - loss: 0.0999 - accuracy: 0.9661 - val_loss: 9.2309 - val_accuracy: 0.5678\n",
      "Epoch 5/6\n",
      "275/275 [==============================] - 1s 2ms/step - loss: 0.1044 - accuracy: 0.9648 - val_loss: 9.8914 - val_accuracy: 0.5706\n",
      "Epoch 6/6\n",
      "275/275 [==============================] - 1s 2ms/step - loss: 0.0658 - accuracy: 0.9721 - val_loss: 10.2049 - val_accuracy: 0.5763\n",
      "Epoch 1/7\n",
      "275/275 [==============================] - 1s 2ms/step - loss: 0.0537 - accuracy: 0.9806 - val_loss: 9.2539 - val_accuracy: 0.5650\n",
      "Epoch 2/7\n",
      "275/275 [==============================] - 1s 2ms/step - loss: 0.1459 - accuracy: 0.9612 - val_loss: 11.3194 - val_accuracy: 0.5621\n",
      "Epoch 3/7\n",
      "275/275 [==============================] - 1s 2ms/step - loss: 0.1478 - accuracy: 0.9527 - val_loss: 8.7802 - val_accuracy: 0.5763\n",
      "Epoch 4/7\n",
      "275/275 [==============================] - 1s 2ms/step - loss: 0.0518 - accuracy: 0.9867 - val_loss: 9.6409 - val_accuracy: 0.5932\n",
      "Epoch 5/7\n",
      "275/275 [==============================] - 1s 2ms/step - loss: 0.0368 - accuracy: 0.9855 - val_loss: 10.1761 - val_accuracy: 0.5791\n",
      "Epoch 6/7\n",
      "275/275 [==============================] - 1s 2ms/step - loss: 0.1170 - accuracy: 0.9782 - val_loss: 11.0330 - val_accuracy: 0.5876\n",
      "Epoch 7/7\n",
      "275/275 [==============================] - 1s 2ms/step - loss: 0.0797 - accuracy: 0.9806 - val_loss: 9.8414 - val_accuracy: 0.5508\n",
      "Epoch 1/8\n",
      "275/275 [==============================] - 1s 2ms/step - loss: 0.1367 - accuracy: 0.9612 - val_loss: 10.5054 - val_accuracy: 0.5678\n",
      "Epoch 2/8\n",
      "275/275 [==============================] - 1s 2ms/step - loss: 0.0830 - accuracy: 0.9745 - val_loss: 13.4196 - val_accuracy: 0.5819\n",
      "Epoch 3/8\n",
      "275/275 [==============================] - 1s 2ms/step - loss: 0.0537 - accuracy: 0.9818 - val_loss: 11.3342 - val_accuracy: 0.5819\n",
      "Epoch 4/8\n",
      "275/275 [==============================] - 1s 2ms/step - loss: 0.0273 - accuracy: 0.9879 - val_loss: 11.5014 - val_accuracy: 0.5621\n",
      "Epoch 5/8\n",
      "275/275 [==============================] - 1s 2ms/step - loss: 0.1400 - accuracy: 0.9697 - val_loss: 9.5830 - val_accuracy: 0.5424\n",
      "Epoch 6/8\n",
      "275/275 [==============================] - 1s 2ms/step - loss: 0.0719 - accuracy: 0.9758 - val_loss: 11.6572 - val_accuracy: 0.5763\n",
      "Epoch 7/8\n",
      "275/275 [==============================] - 1s 2ms/step - loss: 0.1292 - accuracy: 0.9673 - val_loss: 8.8839 - val_accuracy: 0.5508\n",
      "Epoch 8/8\n",
      "275/275 [==============================] - 1s 2ms/step - loss: 0.2066 - accuracy: 0.9564 - val_loss: 10.3236 - val_accuracy: 0.5395\n",
      "Epoch 1/9\n",
      "275/275 [==============================] - 1s 3ms/step - loss: 0.0979 - accuracy: 0.9806 - val_loss: 11.3497 - val_accuracy: 0.5593\n",
      "Epoch 2/9\n",
      "275/275 [==============================] - 1s 2ms/step - loss: 0.0348 - accuracy: 0.9939 - val_loss: 11.7112 - val_accuracy: 0.5819\n",
      "Epoch 3/9\n",
      "275/275 [==============================] - 1s 2ms/step - loss: 0.0533 - accuracy: 0.9879 - val_loss: 12.8511 - val_accuracy: 0.5763\n",
      "Epoch 4/9\n",
      "275/275 [==============================] - 1s 2ms/step - loss: 0.1485 - accuracy: 0.9648 - val_loss: 10.3003 - val_accuracy: 0.5734\n",
      "Epoch 5/9\n",
      "275/275 [==============================] - 1s 2ms/step - loss: 0.0669 - accuracy: 0.9806 - val_loss: 11.4466 - val_accuracy: 0.5763\n",
      "Epoch 6/9\n",
      "275/275 [==============================] - 1s 2ms/step - loss: 0.0817 - accuracy: 0.9806 - val_loss: 11.4427 - val_accuracy: 0.5678\n",
      "Epoch 7/9\n",
      "275/275 [==============================] - 1s 2ms/step - loss: 0.0787 - accuracy: 0.9758 - val_loss: 9.6834 - val_accuracy: 0.5282\n",
      "Epoch 8/9\n",
      "275/275 [==============================] - 1s 2ms/step - loss: 0.0992 - accuracy: 0.9709 - val_loss: 12.2742 - val_accuracy: 0.5621\n",
      "Epoch 9/9\n",
      "275/275 [==============================] - 1s 2ms/step - loss: 0.0394 - accuracy: 0.9879 - val_loss: 10.7425 - val_accuracy: 0.5791\n",
      "Epoch 1/10\n",
      "275/275 [==============================] - 1s 2ms/step - loss: 0.0300 - accuracy: 0.9891 - val_loss: 10.9908 - val_accuracy: 0.5847\n",
      "Epoch 2/10\n",
      "275/275 [==============================] - 1s 2ms/step - loss: 0.0280 - accuracy: 0.9879 - val_loss: 11.0798 - val_accuracy: 0.5904\n",
      "Epoch 3/10\n",
      "275/275 [==============================] - 1s 2ms/step - loss: 0.0815 - accuracy: 0.9709 - val_loss: 10.3958 - val_accuracy: 0.5904\n",
      "Epoch 4/10\n",
      "275/275 [==============================] - 1s 2ms/step - loss: 0.0348 - accuracy: 0.9867 - val_loss: 11.2090 - val_accuracy: 0.5819\n",
      "Epoch 5/10\n",
      "275/275 [==============================] - 1s 2ms/step - loss: 0.0341 - accuracy: 0.9867 - val_loss: 10.9974 - val_accuracy: 0.5960\n",
      "Epoch 6/10\n",
      "275/275 [==============================] - 1s 2ms/step - loss: 0.0567 - accuracy: 0.9891 - val_loss: 10.2577 - val_accuracy: 0.5819\n",
      "Epoch 7/10\n",
      "275/275 [==============================] - 1s 2ms/step - loss: 0.0435 - accuracy: 0.9830 - val_loss: 10.9698 - val_accuracy: 0.5876\n",
      "Epoch 8/10\n",
      "275/275 [==============================] - 1s 2ms/step - loss: 0.0563 - accuracy: 0.9830 - val_loss: 10.1899 - val_accuracy: 0.5876\n",
      "Epoch 9/10\n",
      "275/275 [==============================] - 1s 2ms/step - loss: 0.1010 - accuracy: 0.9673 - val_loss: 10.5207 - val_accuracy: 0.5537\n",
      "Epoch 10/10\n",
      "275/275 [==============================] - 1s 2ms/step - loss: 0.0997 - accuracy: 0.9697 - val_loss: 12.8541 - val_accuracy: 0.5565\n",
      "207/207 [==============================] - 0s 2ms/step - loss: 0.0499 - accuracy: 0.9818 - val_loss: 11.6546 - val_accuracy: 0.5480\n",
      "Epoch 1/2\n",
      "207/207 [==============================] - 0s 2ms/step - loss: 0.0236 - accuracy: 0.9903 - val_loss: 13.2896 - val_accuracy: 0.5480\n",
      "Epoch 2/2\n",
      "207/207 [==============================] - 0s 2ms/step - loss: 0.0494 - accuracy: 0.9879 - val_loss: 12.6870 - val_accuracy: 0.5565\n",
      "Epoch 1/3\n",
      "207/207 [==============================] - 0s 2ms/step - loss: 0.0242 - accuracy: 0.9903 - val_loss: 12.6079 - val_accuracy: 0.5424\n",
      "Epoch 2/3\n",
      "207/207 [==============================] - 0s 2ms/step - loss: 0.0237 - accuracy: 0.9915 - val_loss: 12.8151 - val_accuracy: 0.5650\n",
      "Epoch 3/3\n",
      "207/207 [==============================] - 0s 2ms/step - loss: 0.0613 - accuracy: 0.9830 - val_loss: 17.3135 - val_accuracy: 0.5734\n",
      "Epoch 1/4\n",
      "207/207 [==============================] - 1s 2ms/step - loss: 0.0488 - accuracy: 0.9842 - val_loss: 13.1626 - val_accuracy: 0.5452\n",
      "Epoch 2/4\n",
      "207/207 [==============================] - 0s 2ms/step - loss: 0.0401 - accuracy: 0.9867 - val_loss: 15.4150 - val_accuracy: 0.5763\n",
      "Epoch 3/4\n",
      "207/207 [==============================] - 0s 2ms/step - loss: 0.0460 - accuracy: 0.9830 - val_loss: 13.8540 - val_accuracy: 0.5452\n",
      "Epoch 4/4\n",
      "207/207 [==============================] - 0s 2ms/step - loss: 0.0710 - accuracy: 0.9794 - val_loss: 13.1720 - val_accuracy: 0.5339\n",
      "Epoch 1/5\n",
      "207/207 [==============================] - 0s 2ms/step - loss: 0.1904 - accuracy: 0.9685 - val_loss: 12.1026 - val_accuracy: 0.5537\n",
      "Epoch 2/5\n",
      "207/207 [==============================] - 0s 2ms/step - loss: 0.0262 - accuracy: 0.9891 - val_loss: 11.2689 - val_accuracy: 0.5367\n",
      "Epoch 3/5\n",
      "207/207 [==============================] - 0s 2ms/step - loss: 0.0243 - accuracy: 0.9939 - val_loss: 11.9081 - val_accuracy: 0.5339\n",
      "Epoch 4/5\n",
      "207/207 [==============================] - 0s 2ms/step - loss: 0.0338 - accuracy: 0.9903 - val_loss: 11.2864 - val_accuracy: 0.5508\n",
      "Epoch 5/5\n",
      "207/207 [==============================] - 0s 2ms/step - loss: 0.0482 - accuracy: 0.9806 - val_loss: 10.8315 - val_accuracy: 0.5508\n",
      "Epoch 1/6\n",
      "207/207 [==============================] - 0s 2ms/step - loss: 0.0342 - accuracy: 0.9867 - val_loss: 13.4873 - val_accuracy: 0.5650\n",
      "Epoch 2/6\n",
      "207/207 [==============================] - 0s 2ms/step - loss: 0.0322 - accuracy: 0.9939 - val_loss: 10.6863 - val_accuracy: 0.5565\n",
      "Epoch 3/6\n",
      "207/207 [==============================] - 0s 2ms/step - loss: 0.0167 - accuracy: 0.9927 - val_loss: 12.1733 - val_accuracy: 0.5621\n",
      "Epoch 4/6\n",
      "207/207 [==============================] - 1s 3ms/step - loss: 0.0492 - accuracy: 0.9842 - val_loss: 10.9676 - val_accuracy: 0.5650\n",
      "Epoch 5/6\n",
      "207/207 [==============================] - 0s 2ms/step - loss: 0.0432 - accuracy: 0.9879 - val_loss: 12.6336 - val_accuracy: 0.5734\n",
      "Epoch 6/6\n",
      "207/207 [==============================] - 0s 2ms/step - loss: 0.0304 - accuracy: 0.9879 - val_loss: 12.5326 - val_accuracy: 0.5734\n",
      "Epoch 1/7\n",
      "207/207 [==============================] - 0s 2ms/step - loss: 0.0379 - accuracy: 0.9891 - val_loss: 13.4453 - val_accuracy: 0.5763\n",
      "Epoch 2/7\n",
      "207/207 [==============================] - 0s 2ms/step - loss: 0.0289 - accuracy: 0.9915 - val_loss: 13.1851 - val_accuracy: 0.5763\n",
      "Epoch 3/7\n",
      "207/207 [==============================] - 0s 2ms/step - loss: 0.0523 - accuracy: 0.9818 - val_loss: 12.7452 - val_accuracy: 0.5791\n",
      "Epoch 4/7\n",
      "207/207 [==============================] - 0s 2ms/step - loss: 0.0969 - accuracy: 0.9685 - val_loss: 11.5551 - val_accuracy: 0.5791\n",
      "Epoch 5/7\n",
      "207/207 [==============================] - 0s 2ms/step - loss: 0.0821 - accuracy: 0.9818 - val_loss: 12.4824 - val_accuracy: 0.5791\n",
      "Epoch 6/7\n",
      "207/207 [==============================] - 0s 2ms/step - loss: 0.0741 - accuracy: 0.9842 - val_loss: 11.9151 - val_accuracy: 0.5424\n",
      "Epoch 7/7\n",
      "207/207 [==============================] - 0s 2ms/step - loss: 0.0254 - accuracy: 0.9915 - val_loss: 13.2668 - val_accuracy: 0.5706\n",
      "Epoch 1/8\n",
      "207/207 [==============================] - 0s 2ms/step - loss: 0.0695 - accuracy: 0.9879 - val_loss: 14.5016 - val_accuracy: 0.5847\n",
      "Epoch 2/8\n",
      "207/207 [==============================] - 0s 2ms/step - loss: 0.0481 - accuracy: 0.9903 - val_loss: 12.4732 - val_accuracy: 0.5678\n",
      "Epoch 3/8\n",
      "207/207 [==============================] - 0s 2ms/step - loss: 0.0240 - accuracy: 0.9915 - val_loss: 10.5005 - val_accuracy: 0.5508\n",
      "Epoch 4/8\n",
      "207/207 [==============================] - 0s 2ms/step - loss: 0.0643 - accuracy: 0.9733 - val_loss: 10.5049 - val_accuracy: 0.6102\n",
      "Epoch 5/8\n",
      "207/207 [==============================] - 0s 2ms/step - loss: 0.0520 - accuracy: 0.9915 - val_loss: 9.4892 - val_accuracy: 0.5791\n",
      "Epoch 6/8\n",
      "207/207 [==============================] - 0s 2ms/step - loss: 0.0266 - accuracy: 0.9891 - val_loss: 9.8474 - val_accuracy: 0.5593\n",
      "Epoch 7/8\n",
      "207/207 [==============================] - 0s 2ms/step - loss: 0.0096 - accuracy: 0.9964 - val_loss: 10.3091 - val_accuracy: 0.5480\n",
      "Epoch 8/8\n",
      "207/207 [==============================] - 0s 2ms/step - loss: 0.0460 - accuracy: 0.9867 - val_loss: 10.3809 - val_accuracy: 0.5565\n",
      "Epoch 1/9\n",
      "207/207 [==============================] - 0s 2ms/step - loss: 0.1019 - accuracy: 0.9830 - val_loss: 10.7097 - val_accuracy: 0.5621\n",
      "Epoch 2/9\n",
      "207/207 [==============================] - 0s 2ms/step - loss: 0.0811 - accuracy: 0.9794 - val_loss: 8.2439 - val_accuracy: 0.5367\n",
      "Epoch 3/9\n",
      "207/207 [==============================] - 0s 2ms/step - loss: 0.0411 - accuracy: 0.9867 - val_loss: 9.8748 - val_accuracy: 0.5678\n",
      "Epoch 4/9\n",
      "207/207 [==============================] - 0s 2ms/step - loss: 0.0122 - accuracy: 0.9988 - val_loss: 10.2372 - val_accuracy: 0.5650\n",
      "Epoch 5/9\n",
      "207/207 [==============================] - 0s 2ms/step - loss: 0.0556 - accuracy: 0.9842 - val_loss: 11.1768 - val_accuracy: 0.5650\n",
      "Epoch 6/9\n",
      "207/207 [==============================] - 0s 2ms/step - loss: 0.1106 - accuracy: 0.9770 - val_loss: 13.3890 - val_accuracy: 0.5763\n",
      "Epoch 7/9\n",
      "207/207 [==============================] - 0s 2ms/step - loss: 0.1201 - accuracy: 0.9758 - val_loss: 11.9690 - val_accuracy: 0.5706\n",
      "Epoch 8/9\n",
      "207/207 [==============================] - 0s 2ms/step - loss: 0.0651 - accuracy: 0.9842 - val_loss: 11.5274 - val_accuracy: 0.5763\n",
      "Epoch 9/9\n",
      "207/207 [==============================] - 0s 2ms/step - loss: 0.0615 - accuracy: 0.9855 - val_loss: 10.5526 - val_accuracy: 0.5819\n",
      "Epoch 1/10\n",
      "207/207 [==============================] - 1s 3ms/step - loss: 0.0259 - accuracy: 0.9952 - val_loss: 10.6397 - val_accuracy: 0.5706\n",
      "Epoch 2/10\n",
      "207/207 [==============================] - 0s 2ms/step - loss: 0.0106 - accuracy: 0.9964 - val_loss: 11.2220 - val_accuracy: 0.5989\n",
      "Epoch 3/10\n",
      "207/207 [==============================] - 0s 2ms/step - loss: 0.0302 - accuracy: 0.9915 - val_loss: 9.7224 - val_accuracy: 0.5226\n",
      "Epoch 4/10\n",
      "207/207 [==============================] - 0s 2ms/step - loss: 0.0298 - accuracy: 0.9879 - val_loss: 10.4389 - val_accuracy: 0.5311\n",
      "Epoch 5/10\n",
      "207/207 [==============================] - 0s 2ms/step - loss: 0.1801 - accuracy: 0.9673 - val_loss: 12.1745 - val_accuracy: 0.5763\n",
      "Epoch 6/10\n",
      "207/207 [==============================] - 0s 2ms/step - loss: 0.0427 - accuracy: 0.9842 - val_loss: 12.4147 - val_accuracy: 0.5960\n",
      "Epoch 7/10\n",
      "207/207 [==============================] - 0s 2ms/step - loss: 0.0192 - accuracy: 0.9927 - val_loss: 13.2217 - val_accuracy: 0.5819\n",
      "Epoch 8/10\n",
      "207/207 [==============================] - 0s 2ms/step - loss: 0.0217 - accuracy: 0.9939 - val_loss: 14.9635 - val_accuracy: 0.5763\n",
      "Epoch 9/10\n",
      "207/207 [==============================] - 0s 2ms/step - loss: 0.0251 - accuracy: 0.9879 - val_loss: 12.4530 - val_accuracy: 0.5819\n",
      "Epoch 10/10\n",
      "207/207 [==============================] - 0s 2ms/step - loss: 0.0206 - accuracy: 0.9964 - val_loss: 13.3857 - val_accuracy: 0.5960\n",
      "165/165 [==============================] - 0s 2ms/step - loss: 0.0099 - accuracy: 0.9988 - val_loss: 13.9456 - val_accuracy: 0.6017\n",
      "Epoch 1/2\n",
      "165/165 [==============================] - 0s 2ms/step - loss: 0.0142 - accuracy: 0.9939 - val_loss: 14.5896 - val_accuracy: 0.5847\n",
      "Epoch 2/2\n",
      "165/165 [==============================] - 0s 2ms/step - loss: 0.0078 - accuracy: 0.9988 - val_loss: 14.1036 - val_accuracy: 0.5932\n",
      "Epoch 1/3\n",
      "165/165 [==============================] - 0s 2ms/step - loss: 0.0073 - accuracy: 0.9976 - val_loss: 14.1386 - val_accuracy: 0.6017\n",
      "Epoch 2/3\n",
      "165/165 [==============================] - 0s 2ms/step - loss: 0.0122 - accuracy: 0.9964 - val_loss: 14.1056 - val_accuracy: 0.6017\n",
      "Epoch 3/3\n",
      "165/165 [==============================] - 0s 2ms/step - loss: 0.0074 - accuracy: 0.9976 - val_loss: 15.4100 - val_accuracy: 0.5932\n",
      "Epoch 1/4\n",
      "165/165 [==============================] - 0s 2ms/step - loss: 0.1258 - accuracy: 0.9903 - val_loss: 11.9476 - val_accuracy: 0.5791\n",
      "Epoch 2/4\n",
      "165/165 [==============================] - 0s 2ms/step - loss: 0.0853 - accuracy: 0.9770 - val_loss: 13.1274 - val_accuracy: 0.5904\n",
      "Epoch 3/4\n",
      "165/165 [==============================] - 0s 2ms/step - loss: 0.0292 - accuracy: 0.9891 - val_loss: 10.6755 - val_accuracy: 0.5650\n",
      "Epoch 4/4\n",
      "165/165 [==============================] - 0s 2ms/step - loss: 0.0228 - accuracy: 0.9927 - val_loss: 11.3407 - val_accuracy: 0.5706\n",
      "Epoch 1/5\n",
      "165/165 [==============================] - 0s 2ms/step - loss: 0.0159 - accuracy: 0.9952 - val_loss: 11.8834 - val_accuracy: 0.5876\n",
      "Epoch 2/5\n",
      "165/165 [==============================] - 0s 2ms/step - loss: 0.0508 - accuracy: 0.9842 - val_loss: 11.8603 - val_accuracy: 0.5678\n",
      "Epoch 3/5\n",
      "165/165 [==============================] - 0s 2ms/step - loss: 0.0159 - accuracy: 0.9952 - val_loss: 12.4418 - val_accuracy: 0.5763\n",
      "Epoch 4/5\n",
      "165/165 [==============================] - 0s 2ms/step - loss: 0.0149 - accuracy: 0.9939 - val_loss: 12.8019 - val_accuracy: 0.5819\n",
      "Epoch 5/5\n",
      "165/165 [==============================] - 0s 2ms/step - loss: 0.0060 - accuracy: 0.9976 - val_loss: 14.5627 - val_accuracy: 0.5819\n",
      "Epoch 1/6\n",
      "165/165 [==============================] - 0s 2ms/step - loss: 0.0061 - accuracy: 0.9976 - val_loss: 13.3534 - val_accuracy: 0.5904\n",
      "Epoch 2/6\n",
      "165/165 [==============================] - 0s 2ms/step - loss: 0.0231 - accuracy: 0.9903 - val_loss: 13.4749 - val_accuracy: 0.5904\n",
      "Epoch 3/6\n",
      "165/165 [==============================] - 0s 2ms/step - loss: 0.0078 - accuracy: 0.9964 - val_loss: 14.0884 - val_accuracy: 0.5847\n",
      "Epoch 4/6\n",
      "165/165 [==============================] - 0s 2ms/step - loss: 0.0169 - accuracy: 0.9891 - val_loss: 15.0717 - val_accuracy: 0.5819\n",
      "Epoch 5/6\n",
      "165/165 [==============================] - 0s 2ms/step - loss: 0.0433 - accuracy: 0.9927 - val_loss: 15.2733 - val_accuracy: 0.5847\n",
      "Epoch 6/6\n",
      "165/165 [==============================] - 0s 2ms/step - loss: 0.0392 - accuracy: 0.9842 - val_loss: 13.7465 - val_accuracy: 0.5763\n",
      "Epoch 1/7\n",
      "165/165 [==============================] - 0s 2ms/step - loss: 0.0731 - accuracy: 0.9806 - val_loss: 13.7330 - val_accuracy: 0.5508\n",
      "Epoch 2/7\n",
      "165/165 [==============================] - 0s 2ms/step - loss: 0.0210 - accuracy: 0.9939 - val_loss: 13.2919 - val_accuracy: 0.5621\n",
      "Epoch 3/7\n",
      "165/165 [==============================] - 0s 2ms/step - loss: 0.0391 - accuracy: 0.9927 - val_loss: 13.5094 - val_accuracy: 0.5621\n",
      "Epoch 4/7\n",
      "165/165 [==============================] - 0s 2ms/step - loss: 0.0266 - accuracy: 0.9915 - val_loss: 13.4699 - val_accuracy: 0.5763\n",
      "Epoch 5/7\n",
      "165/165 [==============================] - 0s 2ms/step - loss: 0.2054 - accuracy: 0.9879 - val_loss: 13.7722 - val_accuracy: 0.5791\n",
      "Epoch 6/7\n",
      "165/165 [==============================] - 0s 2ms/step - loss: 0.0899 - accuracy: 0.9782 - val_loss: 15.6951 - val_accuracy: 0.5650\n",
      "Epoch 7/7\n",
      "165/165 [==============================] - 0s 2ms/step - loss: 0.0464 - accuracy: 0.9915 - val_loss: 11.6016 - val_accuracy: 0.5791\n",
      "Epoch 1/8\n",
      "165/165 [==============================] - 0s 2ms/step - loss: 0.0303 - accuracy: 0.9879 - val_loss: 12.4385 - val_accuracy: 0.5706\n",
      "Epoch 2/8\n",
      "165/165 [==============================] - 0s 2ms/step - loss: 0.0640 - accuracy: 0.9855 - val_loss: 11.8464 - val_accuracy: 0.5565\n",
      "Epoch 3/8\n",
      "165/165 [==============================] - 0s 2ms/step - loss: 0.0347 - accuracy: 0.9842 - val_loss: 11.7407 - val_accuracy: 0.5791\n",
      "Epoch 4/8\n",
      "165/165 [==============================] - 0s 2ms/step - loss: 0.0176 - accuracy: 0.9952 - val_loss: 11.7349 - val_accuracy: 0.5763\n",
      "Epoch 5/8\n",
      "165/165 [==============================] - 0s 2ms/step - loss: 0.0109 - accuracy: 0.9964 - val_loss: 12.4176 - val_accuracy: 0.5932\n",
      "Epoch 6/8\n",
      "165/165 [==============================] - 0s 2ms/step - loss: 0.0125 - accuracy: 0.9927 - val_loss: 12.3894 - val_accuracy: 0.5791\n",
      "Epoch 7/8\n",
      "165/165 [==============================] - 0s 2ms/step - loss: 0.0142 - accuracy: 0.9952 - val_loss: 13.5557 - val_accuracy: 0.5847\n",
      "Epoch 8/8\n",
      "165/165 [==============================] - 0s 2ms/step - loss: 0.0397 - accuracy: 0.9903 - val_loss: 12.7966 - val_accuracy: 0.5819\n",
      "Epoch 1/9\n",
      "165/165 [==============================] - 0s 2ms/step - loss: 0.0208 - accuracy: 0.9939 - val_loss: 13.4678 - val_accuracy: 0.5706\n",
      "Epoch 2/9\n",
      "165/165 [==============================] - 0s 2ms/step - loss: 0.0284 - accuracy: 0.9855 - val_loss: 13.6983 - val_accuracy: 0.5734\n",
      "Epoch 3/9\n",
      "165/165 [==============================] - 0s 2ms/step - loss: 0.0092 - accuracy: 0.9964 - val_loss: 14.4592 - val_accuracy: 0.5791\n",
      "Epoch 4/9\n",
      "165/165 [==============================] - 0s 2ms/step - loss: 0.0051 - accuracy: 0.9976 - val_loss: 14.2380 - val_accuracy: 0.5819\n",
      "Epoch 5/9\n",
      "165/165 [==============================] - 0s 2ms/step - loss: 0.0117 - accuracy: 0.9964 - val_loss: 14.1564 - val_accuracy: 0.5876\n",
      "Epoch 6/9\n",
      "165/165 [==============================] - 0s 2ms/step - loss: 0.0160 - accuracy: 0.9952 - val_loss: 14.1052 - val_accuracy: 0.5904\n",
      "Epoch 7/9\n",
      "165/165 [==============================] - 0s 2ms/step - loss: 0.0173 - accuracy: 0.9927 - val_loss: 13.2776 - val_accuracy: 0.5847\n",
      "Epoch 8/9\n",
      "165/165 [==============================] - 0s 2ms/step - loss: 0.0359 - accuracy: 0.9891 - val_loss: 16.0252 - val_accuracy: 0.5847\n",
      "Epoch 9/9\n",
      "165/165 [==============================] - 0s 2ms/step - loss: 0.0808 - accuracy: 0.9745 - val_loss: 14.1403 - val_accuracy: 0.5734\n",
      "Epoch 1/10\n",
      "165/165 [==============================] - 0s 2ms/step - loss: 0.0215 - accuracy: 0.9915 - val_loss: 14.1443 - val_accuracy: 0.5819\n",
      "Epoch 2/10\n",
      "165/165 [==============================] - 0s 2ms/step - loss: 0.0599 - accuracy: 0.9842 - val_loss: 18.4984 - val_accuracy: 0.5678\n",
      "Epoch 3/10\n",
      "165/165 [==============================] - 0s 2ms/step - loss: 0.1356 - accuracy: 0.9782 - val_loss: 14.8332 - val_accuracy: 0.5734\n",
      "Epoch 4/10\n",
      "165/165 [==============================] - 0s 2ms/step - loss: 0.0697 - accuracy: 0.9842 - val_loss: 17.3490 - val_accuracy: 0.5621\n",
      "Epoch 5/10\n",
      "165/165 [==============================] - 0s 2ms/step - loss: 0.0364 - accuracy: 0.9903 - val_loss: 16.5250 - val_accuracy: 0.5678\n",
      "Epoch 6/10\n",
      "165/165 [==============================] - 0s 2ms/step - loss: 0.0107 - accuracy: 0.9964 - val_loss: 15.2178 - val_accuracy: 0.5763\n",
      "Epoch 7/10\n",
      "165/165 [==============================] - 0s 2ms/step - loss: 0.0111 - accuracy: 0.9952 - val_loss: 15.5562 - val_accuracy: 0.5876\n",
      "Epoch 8/10\n",
      "165/165 [==============================] - 0s 2ms/step - loss: 0.0313 - accuracy: 0.9903 - val_loss: 14.2621 - val_accuracy: 0.5706\n",
      "Epoch 9/10\n",
      "165/165 [==============================] - 0s 2ms/step - loss: 0.0264 - accuracy: 0.9903 - val_loss: 15.6309 - val_accuracy: 0.5791\n",
      "Epoch 10/10\n",
      "165/165 [==============================] - 0s 2ms/step - loss: 0.0432 - accuracy: 0.9939 - val_loss: 15.9391 - val_accuracy: 0.5791\n",
      "138/138 [==============================] - 0s 3ms/step - loss: 0.0325 - accuracy: 0.9903 - val_loss: 13.4734 - val_accuracy: 0.5734\n",
      "Epoch 1/2\n",
      "138/138 [==============================] - 0s 3ms/step - loss: 0.0387 - accuracy: 0.9927 - val_loss: 14.7047 - val_accuracy: 0.5621\n",
      "Epoch 2/2\n",
      "138/138 [==============================] - 0s 3ms/step - loss: 0.0137 - accuracy: 0.9952 - val_loss: 15.4408 - val_accuracy: 0.5678\n",
      "Epoch 1/3\n",
      "138/138 [==============================] - 0s 3ms/step - loss: 0.0099 - accuracy: 0.9976 - val_loss: 15.1963 - val_accuracy: 0.5763\n",
      "Epoch 2/3\n",
      "138/138 [==============================] - 0s 3ms/step - loss: 0.0142 - accuracy: 0.9939 - val_loss: 14.8864 - val_accuracy: 0.5650\n",
      "Epoch 3/3\n",
      "138/138 [==============================] - 0s 2ms/step - loss: 0.0057 - accuracy: 0.9988 - val_loss: 15.5080 - val_accuracy: 0.5734\n",
      "Epoch 1/4\n",
      "138/138 [==============================] - 0s 3ms/step - loss: 0.0083 - accuracy: 0.9964 - val_loss: 15.1132 - val_accuracy: 0.5989\n",
      "Epoch 2/4\n",
      "138/138 [==============================] - 0s 3ms/step - loss: 0.0119 - accuracy: 0.9964 - val_loss: 13.8133 - val_accuracy: 0.5960\n",
      "Epoch 3/4\n",
      "138/138 [==============================] - 0s 2ms/step - loss: 0.0041 - accuracy: 0.9988 - val_loss: 14.4919 - val_accuracy: 0.5932\n",
      "Epoch 4/4\n",
      "138/138 [==============================] - 0s 3ms/step - loss: 0.0084 - accuracy: 0.9952 - val_loss: 14.5123 - val_accuracy: 0.5904\n",
      "Epoch 1/5\n",
      "138/138 [==============================] - 0s 3ms/step - loss: 0.0069 - accuracy: 0.9952 - val_loss: 15.1858 - val_accuracy: 0.5706\n",
      "Epoch 2/5\n",
      "138/138 [==============================] - 0s 3ms/step - loss: 0.0024 - accuracy: 1.0000 - val_loss: 15.2271 - val_accuracy: 0.5734\n",
      "Epoch 3/5\n",
      "138/138 [==============================] - 0s 2ms/step - loss: 0.0038 - accuracy: 0.9988 - val_loss: 14.6958 - val_accuracy: 0.5593\n",
      "Epoch 4/5\n",
      "138/138 [==============================] - 0s 3ms/step - loss: 0.0366 - accuracy: 0.9903 - val_loss: 16.5545 - val_accuracy: 0.5819\n",
      "Epoch 5/5\n",
      "138/138 [==============================] - 0s 3ms/step - loss: 0.0162 - accuracy: 0.9939 - val_loss: 15.9763 - val_accuracy: 0.5706\n",
      "Epoch 1/6\n",
      "138/138 [==============================] - 0s 3ms/step - loss: 0.0134 - accuracy: 0.9964 - val_loss: 17.3055 - val_accuracy: 0.5932\n",
      "Epoch 2/6\n",
      "138/138 [==============================] - 0s 3ms/step - loss: 0.0220 - accuracy: 0.9915 - val_loss: 17.7179 - val_accuracy: 0.5932\n",
      "Epoch 3/6\n",
      "138/138 [==============================] - 0s 3ms/step - loss: 0.0080 - accuracy: 0.9976 - val_loss: 17.4063 - val_accuracy: 0.5960\n",
      "Epoch 4/6\n",
      "138/138 [==============================] - 0s 3ms/step - loss: 0.0289 - accuracy: 0.9891 - val_loss: 16.5083 - val_accuracy: 0.5876\n",
      "Epoch 5/6\n",
      "138/138 [==============================] - 0s 2ms/step - loss: 0.0290 - accuracy: 0.9915 - val_loss: 18.6991 - val_accuracy: 0.5791\n",
      "Epoch 6/6\n",
      "138/138 [==============================] - 0s 3ms/step - loss: 0.0316 - accuracy: 0.9903 - val_loss: 13.0358 - val_accuracy: 0.5452\n",
      "Epoch 1/7\n",
      "138/138 [==============================] - 0s 3ms/step - loss: 0.0342 - accuracy: 0.9903 - val_loss: 14.5761 - val_accuracy: 0.5537\n",
      "Epoch 2/7\n",
      "138/138 [==============================] - 0s 3ms/step - loss: 0.0129 - accuracy: 0.9939 - val_loss: 15.7556 - val_accuracy: 0.5650\n",
      "Epoch 3/7\n",
      "138/138 [==============================] - 0s 2ms/step - loss: 0.0187 - accuracy: 0.9964 - val_loss: 14.4836 - val_accuracy: 0.5678\n",
      "Epoch 4/7\n",
      "138/138 [==============================] - 0s 3ms/step - loss: 0.0327 - accuracy: 0.9927 - val_loss: 14.7400 - val_accuracy: 0.5706\n",
      "Epoch 5/7\n",
      "138/138 [==============================] - 0s 3ms/step - loss: 0.0206 - accuracy: 0.9915 - val_loss: 14.3270 - val_accuracy: 0.5508\n",
      "Epoch 6/7\n",
      "138/138 [==============================] - 0s 3ms/step - loss: 0.0331 - accuracy: 0.9915 - val_loss: 13.7976 - val_accuracy: 0.5198\n",
      "Epoch 7/7\n",
      "138/138 [==============================] - 0s 3ms/step - loss: 0.1075 - accuracy: 0.9867 - val_loss: 14.2268 - val_accuracy: 0.5650\n",
      "Epoch 1/8\n",
      "138/138 [==============================] - 0s 4ms/step - loss: 0.0129 - accuracy: 0.9964 - val_loss: 13.0881 - val_accuracy: 0.5311\n",
      "Epoch 2/8\n",
      "138/138 [==============================] - 0s 3ms/step - loss: 0.0250 - accuracy: 0.9939 - val_loss: 14.1679 - val_accuracy: 0.5819\n",
      "Epoch 3/8\n",
      "138/138 [==============================] - 0s 3ms/step - loss: 0.0133 - accuracy: 0.9952 - val_loss: 13.3014 - val_accuracy: 0.5565\n",
      "Epoch 4/8\n",
      "138/138 [==============================] - 0s 3ms/step - loss: 0.0154 - accuracy: 0.9939 - val_loss: 12.8733 - val_accuracy: 0.5339\n",
      "Epoch 5/8\n",
      "138/138 [==============================] - 0s 3ms/step - loss: 0.0136 - accuracy: 0.9927 - val_loss: 13.6665 - val_accuracy: 0.5593\n",
      "Epoch 6/8\n",
      "138/138 [==============================] - 0s 3ms/step - loss: 0.0130 - accuracy: 0.9976 - val_loss: 13.7461 - val_accuracy: 0.5565\n",
      "Epoch 7/8\n",
      "138/138 [==============================] - 1s 5ms/step - loss: 0.0409 - accuracy: 0.9891 - val_loss: 14.5822 - val_accuracy: 0.5621\n",
      "Epoch 8/8\n",
      "138/138 [==============================] - 1s 4ms/step - loss: 0.0330 - accuracy: 0.9952 - val_loss: 16.2602 - val_accuracy: 0.5904\n",
      "Epoch 1/9\n",
      "138/138 [==============================] - 1s 5ms/step - loss: 0.0384 - accuracy: 0.9891 - val_loss: 13.4217 - val_accuracy: 0.5621\n",
      "Epoch 2/9\n",
      "138/138 [==============================] - 1s 4ms/step - loss: 0.0629 - accuracy: 0.9806 - val_loss: 12.1957 - val_accuracy: 0.5734\n",
      "Epoch 3/9\n",
      "138/138 [==============================] - 1s 4ms/step - loss: 0.0381 - accuracy: 0.9903 - val_loss: 13.9954 - val_accuracy: 0.5621\n",
      "Epoch 4/9\n",
      "138/138 [==============================] - 1s 4ms/step - loss: 0.0510 - accuracy: 0.9842 - val_loss: 16.8807 - val_accuracy: 0.5706\n",
      "Epoch 5/9\n",
      "138/138 [==============================] - 1s 4ms/step - loss: 0.0550 - accuracy: 0.9842 - val_loss: 15.2708 - val_accuracy: 0.5791\n",
      "Epoch 6/9\n",
      "138/138 [==============================] - 1s 5ms/step - loss: 0.0224 - accuracy: 0.9964 - val_loss: 17.3573 - val_accuracy: 0.5763\n",
      "Epoch 7/9\n",
      "138/138 [==============================] - 0s 4ms/step - loss: 0.0478 - accuracy: 0.9867 - val_loss: 16.6607 - val_accuracy: 0.5847\n",
      "Epoch 8/9\n",
      "138/138 [==============================] - 0s 4ms/step - loss: 0.0043 - accuracy: 0.9988 - val_loss: 15.9574 - val_accuracy: 0.5876\n",
      "Epoch 9/9\n",
      "138/138 [==============================] - 1s 4ms/step - loss: 0.0176 - accuracy: 0.9964 - val_loss: 15.7117 - val_accuracy: 0.5904\n",
      "Epoch 1/10\n",
      "138/138 [==============================] - 0s 3ms/step - loss: 0.0064 - accuracy: 0.9976 - val_loss: 17.0858 - val_accuracy: 0.5876\n",
      "Epoch 2/10\n",
      "138/138 [==============================] - 0s 2ms/step - loss: 0.0047 - accuracy: 0.9976 - val_loss: 15.7119 - val_accuracy: 0.5932\n",
      "Epoch 3/10\n",
      "138/138 [==============================] - 0s 2ms/step - loss: 0.0286 - accuracy: 0.9915 - val_loss: 14.7219 - val_accuracy: 0.5734\n",
      "Epoch 4/10\n",
      "138/138 [==============================] - 0s 3ms/step - loss: 0.0224 - accuracy: 0.9927 - val_loss: 16.1915 - val_accuracy: 0.5791\n",
      "Epoch 5/10\n",
      "138/138 [==============================] - 0s 2ms/step - loss: 0.0270 - accuracy: 0.9976 - val_loss: 14.9157 - val_accuracy: 0.5763\n",
      "Epoch 6/10\n",
      "138/138 [==============================] - 0s 2ms/step - loss: 0.0019 - accuracy: 1.0000 - val_loss: 15.7383 - val_accuracy: 0.5734\n",
      "Epoch 7/10\n",
      "138/138 [==============================] - 0s 3ms/step - loss: 0.0158 - accuracy: 0.9952 - val_loss: 14.8969 - val_accuracy: 0.5734\n",
      "Epoch 8/10\n",
      "138/138 [==============================] - 0s 3ms/step - loss: 0.0354 - accuracy: 0.9903 - val_loss: 16.3383 - val_accuracy: 0.5819\n",
      "Epoch 9/10\n",
      "138/138 [==============================] - 0s 2ms/step - loss: 0.0216 - accuracy: 0.9927 - val_loss: 15.2913 - val_accuracy: 0.5791\n",
      "Epoch 10/10\n",
      "138/138 [==============================] - 0s 3ms/step - loss: 0.0067 - accuracy: 0.9988 - val_loss: 15.5268 - val_accuracy: 0.5763\n",
      "118/118 [==============================] - 0s 3ms/step - loss: 0.0045 - accuracy: 0.9988 - val_loss: 17.3761 - val_accuracy: 0.5763\n",
      "Epoch 1/2\n",
      "118/118 [==============================] - 0s 3ms/step - loss: 0.0179 - accuracy: 0.9927 - val_loss: 17.0208 - val_accuracy: 0.5763\n",
      "Epoch 2/2\n",
      "118/118 [==============================] - 0s 3ms/step - loss: 0.0102 - accuracy: 0.9952 - val_loss: 13.5493 - val_accuracy: 0.5593\n",
      "Epoch 1/3\n",
      "118/118 [==============================] - 0s 3ms/step - loss: 0.0273 - accuracy: 0.9939 - val_loss: 16.0491 - val_accuracy: 0.5650\n",
      "Epoch 2/3\n",
      "118/118 [==============================] - 0s 3ms/step - loss: 0.0409 - accuracy: 0.9927 - val_loss: 14.0671 - val_accuracy: 0.5621\n",
      "Epoch 3/3\n",
      "118/118 [==============================] - 0s 2ms/step - loss: 0.0300 - accuracy: 0.9952 - val_loss: 14.0217 - val_accuracy: 0.5847\n",
      "Epoch 1/4\n",
      "118/118 [==============================] - 0s 3ms/step - loss: 0.0221 - accuracy: 0.9927 - val_loss: 14.7318 - val_accuracy: 0.5960\n",
      "Epoch 2/4\n",
      "118/118 [==============================] - 0s 2ms/step - loss: 0.0159 - accuracy: 0.9976 - val_loss: 14.8918 - val_accuracy: 0.5960\n",
      "Epoch 3/4\n",
      "118/118 [==============================] - 0s 2ms/step - loss: 0.0211 - accuracy: 0.9976 - val_loss: 15.1047 - val_accuracy: 0.5819\n",
      "Epoch 4/4\n",
      "118/118 [==============================] - 0s 2ms/step - loss: 0.0117 - accuracy: 0.9976 - val_loss: 15.4288 - val_accuracy: 0.5876\n",
      "Epoch 1/5\n",
      "118/118 [==============================] - 0s 3ms/step - loss: 0.0049 - accuracy: 0.9988 - val_loss: 15.7459 - val_accuracy: 0.5876\n",
      "Epoch 2/5\n",
      "118/118 [==============================] - 0s 2ms/step - loss: 0.0063 - accuracy: 0.9976 - val_loss: 17.6393 - val_accuracy: 0.5904\n",
      "Epoch 3/5\n",
      "118/118 [==============================] - 0s 2ms/step - loss: 0.0083 - accuracy: 0.9964 - val_loss: 16.3170 - val_accuracy: 0.5989\n",
      "Epoch 4/5\n",
      "118/118 [==============================] - 0s 2ms/step - loss: 0.0075 - accuracy: 0.9976 - val_loss: 15.6432 - val_accuracy: 0.6017\n",
      "Epoch 5/5\n",
      "118/118 [==============================] - 0s 2ms/step - loss: 0.0105 - accuracy: 0.9952 - val_loss: 16.4706 - val_accuracy: 0.5932\n",
      "Epoch 1/6\n",
      "118/118 [==============================] - 0s 3ms/step - loss: 0.0039 - accuracy: 0.9988 - val_loss: 16.6417 - val_accuracy: 0.5960\n",
      "Epoch 2/6\n",
      "118/118 [==============================] - 0s 2ms/step - loss: 0.0066 - accuracy: 0.9964 - val_loss: 15.3977 - val_accuracy: 0.5904\n",
      "Epoch 3/6\n",
      "118/118 [==============================] - 0s 3ms/step - loss: 0.0283 - accuracy: 0.9952 - val_loss: 14.3998 - val_accuracy: 0.5960\n",
      "Epoch 4/6\n",
      "118/118 [==============================] - 0s 2ms/step - loss: 0.0209 - accuracy: 0.9964 - val_loss: 15.6439 - val_accuracy: 0.5763\n",
      "Epoch 5/6\n",
      "118/118 [==============================] - 0s 3ms/step - loss: 0.0596 - accuracy: 0.9842 - val_loss: 14.7792 - val_accuracy: 0.5763\n",
      "Epoch 6/6\n",
      "118/118 [==============================] - 0s 2ms/step - loss: 0.0464 - accuracy: 0.9855 - val_loss: 14.6703 - val_accuracy: 0.5960\n",
      "Epoch 1/7\n",
      "118/118 [==============================] - 0s 3ms/step - loss: 0.0115 - accuracy: 0.9964 - val_loss: 14.5117 - val_accuracy: 0.5904\n",
      "Epoch 2/7\n",
      "118/118 [==============================] - 0s 2ms/step - loss: 0.0146 - accuracy: 0.9976 - val_loss: 15.3189 - val_accuracy: 0.5763\n",
      "Epoch 3/7\n",
      "118/118 [==============================] - 0s 2ms/step - loss: 0.0255 - accuracy: 0.9964 - val_loss: 14.9460 - val_accuracy: 0.5876\n",
      "Epoch 4/7\n",
      "118/118 [==============================] - 0s 2ms/step - loss: 0.0218 - accuracy: 0.9927 - val_loss: 13.7583 - val_accuracy: 0.5339\n",
      "Epoch 5/7\n",
      "118/118 [==============================] - 0s 2ms/step - loss: 0.0188 - accuracy: 0.9952 - val_loss: 14.9972 - val_accuracy: 0.5763\n",
      "Epoch 6/7\n",
      "118/118 [==============================] - 0s 2ms/step - loss: 0.0253 - accuracy: 0.9939 - val_loss: 14.9992 - val_accuracy: 0.5706\n",
      "Epoch 7/7\n",
      "118/118 [==============================] - 0s 2ms/step - loss: 0.0091 - accuracy: 0.9939 - val_loss: 14.8290 - val_accuracy: 0.5734\n",
      "Epoch 1/8\n",
      "118/118 [==============================] - 0s 3ms/step - loss: 0.0027 - accuracy: 1.0000 - val_loss: 14.8013 - val_accuracy: 0.5734\n",
      "Epoch 2/8\n",
      "118/118 [==============================] - 0s 2ms/step - loss: 0.0097 - accuracy: 0.9927 - val_loss: 14.5412 - val_accuracy: 0.5763\n",
      "Epoch 3/8\n",
      "118/118 [==============================] - 0s 2ms/step - loss: 0.0179 - accuracy: 0.9964 - val_loss: 15.4134 - val_accuracy: 0.5763\n",
      "Epoch 4/8\n",
      "118/118 [==============================] - 0s 2ms/step - loss: 0.0087 - accuracy: 0.9976 - val_loss: 15.2165 - val_accuracy: 0.5734\n",
      "Epoch 5/8\n",
      "118/118 [==============================] - 0s 2ms/step - loss: 0.0440 - accuracy: 0.9891 - val_loss: 15.9840 - val_accuracy: 0.5734\n",
      "Epoch 6/8\n",
      "118/118 [==============================] - 0s 2ms/step - loss: 0.0502 - accuracy: 0.9842 - val_loss: 17.6710 - val_accuracy: 0.5706\n",
      "Epoch 7/8\n",
      "118/118 [==============================] - 0s 2ms/step - loss: 0.0184 - accuracy: 0.9927 - val_loss: 17.0042 - val_accuracy: 0.5763\n",
      "Epoch 8/8\n",
      "118/118 [==============================] - 0s 2ms/step - loss: 0.0116 - accuracy: 0.9939 - val_loss: 17.6796 - val_accuracy: 0.5650\n",
      "Epoch 1/9\n",
      "118/118 [==============================] - 0s 3ms/step - loss: 0.0056 - accuracy: 0.9976 - val_loss: 17.3833 - val_accuracy: 0.5706\n",
      "Epoch 2/9\n",
      "118/118 [==============================] - 0s 2ms/step - loss: 0.0051 - accuracy: 0.9964 - val_loss: 17.7406 - val_accuracy: 0.5508\n",
      "Epoch 3/9\n",
      "118/118 [==============================] - 0s 2ms/step - loss: 0.0064 - accuracy: 0.9976 - val_loss: 18.9842 - val_accuracy: 0.5537\n",
      "Epoch 4/9\n",
      "118/118 [==============================] - 0s 3ms/step - loss: 0.0054 - accuracy: 0.9988 - val_loss: 19.2596 - val_accuracy: 0.5621\n",
      "Epoch 5/9\n",
      "118/118 [==============================] - 0s 2ms/step - loss: 0.0088 - accuracy: 0.9964 - val_loss: 15.9820 - val_accuracy: 0.5367\n",
      "Epoch 6/9\n",
      "118/118 [==============================] - 0s 2ms/step - loss: 0.1488 - accuracy: 0.9855 - val_loss: 17.1391 - val_accuracy: 0.5706\n",
      "Epoch 7/9\n",
      "118/118 [==============================] - 0s 2ms/step - loss: 0.0310 - accuracy: 0.9903 - val_loss: 15.1268 - val_accuracy: 0.5452\n",
      "Epoch 8/9\n",
      "118/118 [==============================] - 0s 2ms/step - loss: 0.0614 - accuracy: 0.9842 - val_loss: 18.6617 - val_accuracy: 0.5650\n",
      "Epoch 9/9\n",
      "118/118 [==============================] - 0s 2ms/step - loss: 0.0334 - accuracy: 0.9915 - val_loss: 14.6017 - val_accuracy: 0.5452\n",
      "Epoch 1/10\n",
      "118/118 [==============================] - 0s 3ms/step - loss: 0.0436 - accuracy: 0.9879 - val_loss: 15.6974 - val_accuracy: 0.5508\n",
      "Epoch 2/10\n",
      "118/118 [==============================] - 0s 2ms/step - loss: 0.0376 - accuracy: 0.9903 - val_loss: 15.4818 - val_accuracy: 0.5565\n",
      "Epoch 3/10\n",
      "118/118 [==============================] - 0s 2ms/step - loss: 0.0297 - accuracy: 0.9891 - val_loss: 16.4527 - val_accuracy: 0.5678\n",
      "Epoch 4/10\n",
      "118/118 [==============================] - 0s 2ms/step - loss: 0.0089 - accuracy: 0.9964 - val_loss: 16.1408 - val_accuracy: 0.5565\n",
      "Epoch 5/10\n",
      "118/118 [==============================] - 0s 2ms/step - loss: 0.0543 - accuracy: 0.9964 - val_loss: 16.3169 - val_accuracy: 0.5593\n",
      "Epoch 6/10\n",
      "118/118 [==============================] - 0s 2ms/step - loss: 0.0187 - accuracy: 0.9939 - val_loss: 17.3639 - val_accuracy: 0.5621\n",
      "Epoch 7/10\n",
      "118/118 [==============================] - 0s 2ms/step - loss: 0.0063 - accuracy: 0.9976 - val_loss: 17.0060 - val_accuracy: 0.5480\n",
      "Epoch 8/10\n",
      "118/118 [==============================] - 0s 2ms/step - loss: 0.0348 - accuracy: 0.9903 - val_loss: 16.2881 - val_accuracy: 0.5508\n",
      "Epoch 9/10\n",
      "118/118 [==============================] - 0s 2ms/step - loss: 0.0189 - accuracy: 0.9952 - val_loss: 18.2266 - val_accuracy: 0.5791\n",
      "Epoch 10/10\n",
      "118/118 [==============================] - 0s 2ms/step - loss: 0.0357 - accuracy: 0.9879 - val_loss: 15.1406 - val_accuracy: 0.5565\n",
      "104/104 [==============================] - 0s 3ms/step - loss: 0.0193 - accuracy: 0.9952 - val_loss: 18.4963 - val_accuracy: 0.5678\n",
      "Epoch 1/2\n",
      "104/104 [==============================] - 0s 3ms/step - loss: 0.0203 - accuracy: 0.9939 - val_loss: 17.3457 - val_accuracy: 0.5904\n",
      "Epoch 2/2\n",
      "104/104 [==============================] - 0s 3ms/step - loss: 0.0213 - accuracy: 0.9952 - val_loss: 16.2575 - val_accuracy: 0.5734\n",
      "Epoch 1/3\n",
      "104/104 [==============================] - 0s 3ms/step - loss: 0.0056 - accuracy: 0.9976 - val_loss: 16.1067 - val_accuracy: 0.5593\n",
      "Epoch 2/3\n",
      "104/104 [==============================] - 0s 3ms/step - loss: 0.0063 - accuracy: 0.9976 - val_loss: 15.7345 - val_accuracy: 0.5678\n",
      "Epoch 3/3\n",
      "104/104 [==============================] - 0s 3ms/step - loss: 0.0023 - accuracy: 1.0000 - val_loss: 15.5867 - val_accuracy: 0.5565\n",
      "Epoch 1/4\n",
      "104/104 [==============================] - 0s 3ms/step - loss: 0.0995 - accuracy: 0.9964 - val_loss: 15.2814 - val_accuracy: 0.5678\n",
      "Epoch 2/4\n",
      "104/104 [==============================] - 0s 2ms/step - loss: 0.0135 - accuracy: 0.9988 - val_loss: 14.7441 - val_accuracy: 0.5537\n",
      "Epoch 3/4\n",
      "104/104 [==============================] - 0s 2ms/step - loss: 0.0060 - accuracy: 0.9964 - val_loss: 15.2076 - val_accuracy: 0.5678\n",
      "Epoch 4/4\n",
      "104/104 [==============================] - 0s 2ms/step - loss: 0.0092 - accuracy: 0.9988 - val_loss: 15.0024 - val_accuracy: 0.5621\n",
      "Epoch 1/5\n",
      "104/104 [==============================] - 0s 3ms/step - loss: 0.0037 - accuracy: 0.9988 - val_loss: 14.9759 - val_accuracy: 0.5537\n",
      "Epoch 2/5\n",
      "104/104 [==============================] - 0s 3ms/step - loss: 0.0060 - accuracy: 0.9976 - val_loss: 15.3189 - val_accuracy: 0.5537\n",
      "Epoch 3/5\n",
      "104/104 [==============================] - 0s 2ms/step - loss: 0.0024 - accuracy: 1.0000 - val_loss: 15.3463 - val_accuracy: 0.5565\n",
      "Epoch 4/5\n",
      "104/104 [==============================] - 0s 3ms/step - loss: 0.0156 - accuracy: 0.9952 - val_loss: 15.4303 - val_accuracy: 0.5734\n",
      "Epoch 5/5\n",
      "104/104 [==============================] - 0s 2ms/step - loss: 0.0150 - accuracy: 0.9964 - val_loss: 15.9366 - val_accuracy: 0.5847\n",
      "Epoch 1/6\n",
      "104/104 [==============================] - 0s 3ms/step - loss: 0.0443 - accuracy: 0.9891 - val_loss: 15.4660 - val_accuracy: 0.5763\n",
      "Epoch 2/6\n",
      "104/104 [==============================] - 0s 3ms/step - loss: 0.0193 - accuracy: 0.9939 - val_loss: 16.6627 - val_accuracy: 0.5565\n",
      "Epoch 3/6\n",
      "104/104 [==============================] - 0s 2ms/step - loss: 0.1364 - accuracy: 0.9818 - val_loss: 23.1622 - val_accuracy: 0.5621\n",
      "Epoch 4/6\n",
      "104/104 [==============================] - 0s 2ms/step - loss: 0.0266 - accuracy: 0.9927 - val_loss: 21.6762 - val_accuracy: 0.5593\n",
      "Epoch 5/6\n",
      "104/104 [==============================] - 0s 3ms/step - loss: 0.0132 - accuracy: 0.9927 - val_loss: 17.3397 - val_accuracy: 0.5480\n",
      "Epoch 6/6\n",
      "104/104 [==============================] - 0s 2ms/step - loss: 0.0179 - accuracy: 0.9939 - val_loss: 18.5013 - val_accuracy: 0.5791\n",
      "Epoch 1/7\n",
      "104/104 [==============================] - 0s 3ms/step - loss: 0.0817 - accuracy: 0.9915 - val_loss: 16.8794 - val_accuracy: 0.5819\n",
      "Epoch 2/7\n",
      "104/104 [==============================] - 0s 3ms/step - loss: 0.0232 - accuracy: 0.9952 - val_loss: 15.8914 - val_accuracy: 0.5650\n",
      "Epoch 3/7\n",
      "104/104 [==============================] - 0s 2ms/step - loss: 0.0091 - accuracy: 0.9964 - val_loss: 15.5559 - val_accuracy: 0.5650\n",
      "Epoch 4/7\n",
      "104/104 [==============================] - 0s 3ms/step - loss: 0.0061 - accuracy: 0.9976 - val_loss: 16.6258 - val_accuracy: 0.5763\n",
      "Epoch 5/7\n",
      "104/104 [==============================] - 0s 2ms/step - loss: 0.0121 - accuracy: 0.9976 - val_loss: 17.2407 - val_accuracy: 0.5706\n",
      "Epoch 6/7\n",
      "104/104 [==============================] - 0s 2ms/step - loss: 0.0363 - accuracy: 0.9927 - val_loss: 15.1886 - val_accuracy: 0.5763\n",
      "Epoch 7/7\n",
      "104/104 [==============================] - 0s 2ms/step - loss: 0.0026 - accuracy: 1.0000 - val_loss: 15.5429 - val_accuracy: 0.5791\n",
      "Epoch 1/8\n",
      "104/104 [==============================] - 0s 3ms/step - loss: 0.0044 - accuracy: 0.9988 - val_loss: 18.5491 - val_accuracy: 0.5876\n",
      "Epoch 2/8\n",
      "104/104 [==============================] - 0s 2ms/step - loss: 0.0120 - accuracy: 0.9964 - val_loss: 17.7782 - val_accuracy: 0.5763\n",
      "Epoch 3/8\n",
      "104/104 [==============================] - 0s 3ms/step - loss: 0.0251 - accuracy: 0.9952 - val_loss: 17.8442 - val_accuracy: 0.5763\n",
      "Epoch 4/8\n",
      "104/104 [==============================] - 0s 2ms/step - loss: 0.0233 - accuracy: 0.9891 - val_loss: 17.9063 - val_accuracy: 0.5763\n",
      "Epoch 5/8\n",
      "104/104 [==============================] - 0s 3ms/step - loss: 0.0078 - accuracy: 0.9976 - val_loss: 17.4967 - val_accuracy: 0.5650\n",
      "Epoch 6/8\n",
      "104/104 [==============================] - 0s 2ms/step - loss: 0.0034 - accuracy: 0.9988 - val_loss: 17.3769 - val_accuracy: 0.5537\n",
      "Epoch 7/8\n",
      "104/104 [==============================] - 0s 3ms/step - loss: 0.0548 - accuracy: 0.9939 - val_loss: 16.3992 - val_accuracy: 0.5706\n",
      "Epoch 8/8\n",
      "104/104 [==============================] - 0s 3ms/step - loss: 0.0204 - accuracy: 0.9939 - val_loss: 15.1821 - val_accuracy: 0.5706\n",
      "Epoch 1/9\n",
      "104/104 [==============================] - 0s 3ms/step - loss: 0.0144 - accuracy: 0.9939 - val_loss: 18.7559 - val_accuracy: 0.5876\n",
      "Epoch 2/9\n",
      "104/104 [==============================] - 0s 2ms/step - loss: 0.0058 - accuracy: 0.9976 - val_loss: 17.0058 - val_accuracy: 0.5819\n",
      "Epoch 3/9\n",
      "104/104 [==============================] - 0s 2ms/step - loss: 8.2757e-04 - accuracy: 1.0000 - val_loss: 17.8153 - val_accuracy: 0.5819\n",
      "Epoch 4/9\n",
      "104/104 [==============================] - 0s 2ms/step - loss: 0.0020 - accuracy: 0.9988 - val_loss: 17.8156 - val_accuracy: 0.5847\n",
      "Epoch 5/9\n",
      "104/104 [==============================] - 0s 2ms/step - loss: 0.0018 - accuracy: 1.0000 - val_loss: 17.3575 - val_accuracy: 0.5847\n",
      "Epoch 6/9\n",
      "104/104 [==============================] - 0s 3ms/step - loss: 0.0018 - accuracy: 1.0000 - val_loss: 16.9256 - val_accuracy: 0.5791\n",
      "Epoch 7/9\n",
      "104/104 [==============================] - 0s 2ms/step - loss: 0.0104 - accuracy: 0.9952 - val_loss: 16.6989 - val_accuracy: 0.5763\n",
      "Epoch 8/9\n",
      "104/104 [==============================] - 0s 2ms/step - loss: 0.0090 - accuracy: 0.9988 - val_loss: 15.1814 - val_accuracy: 0.5508\n",
      "Epoch 9/9\n",
      "104/104 [==============================] - 0s 3ms/step - loss: 0.0033 - accuracy: 0.9988 - val_loss: 15.6080 - val_accuracy: 0.5791\n",
      "Epoch 1/10\n",
      "104/104 [==============================] - 0s 3ms/step - loss: 0.0107 - accuracy: 0.9952 - val_loss: 15.2407 - val_accuracy: 0.5480\n",
      "Epoch 2/10\n",
      "104/104 [==============================] - 0s 3ms/step - loss: 0.0092 - accuracy: 0.9964 - val_loss: 18.5252 - val_accuracy: 0.5763\n",
      "Epoch 3/10\n",
      "104/104 [==============================] - 0s 2ms/step - loss: 0.0040 - accuracy: 0.9988 - val_loss: 16.7031 - val_accuracy: 0.5763\n",
      "Epoch 4/10\n",
      "104/104 [==============================] - 0s 3ms/step - loss: 0.0255 - accuracy: 0.9952 - val_loss: 15.3750 - val_accuracy: 0.5876\n",
      "Epoch 5/10\n",
      "104/104 [==============================] - 0s 2ms/step - loss: 0.0342 - accuracy: 0.9915 - val_loss: 14.9550 - val_accuracy: 0.5706\n",
      "Epoch 6/10\n",
      "104/104 [==============================] - 0s 3ms/step - loss: 0.0751 - accuracy: 0.9855 - val_loss: 14.9203 - val_accuracy: 0.5847\n",
      "Epoch 7/10\n",
      "104/104 [==============================] - 0s 3ms/step - loss: 0.1831 - accuracy: 0.9745 - val_loss: 15.4082 - val_accuracy: 0.5989\n",
      "Epoch 8/10\n",
      "104/104 [==============================] - 0s 3ms/step - loss: 0.0130 - accuracy: 0.9952 - val_loss: 16.1153 - val_accuracy: 0.5904\n",
      "Epoch 9/10\n",
      "104/104 [==============================] - 0s 2ms/step - loss: 0.0077 - accuracy: 0.9976 - val_loss: 15.2626 - val_accuracy: 0.5508\n",
      "Epoch 10/10\n",
      "104/104 [==============================] - 0s 3ms/step - loss: 0.0084 - accuracy: 0.9976 - val_loss: 15.6069 - val_accuracy: 0.5565\n",
      "92/92 [==============================] - 0s 3ms/step - loss: 0.0526 - accuracy: 0.9915 - val_loss: 17.9251 - val_accuracy: 0.5734\n",
      "Epoch 1/2\n",
      "92/92 [==============================] - 0s 3ms/step - loss: 0.0131 - accuracy: 0.9939 - val_loss: 17.7364 - val_accuracy: 0.5678\n",
      "Epoch 2/2\n",
      "92/92 [==============================] - 0s 3ms/step - loss: 0.0204 - accuracy: 0.9952 - val_loss: 17.2837 - val_accuracy: 0.5678\n",
      "Epoch 1/3\n",
      "92/92 [==============================] - 0s 3ms/step - loss: 0.0030 - accuracy: 0.9988 - val_loss: 16.0895 - val_accuracy: 0.5565\n",
      "Epoch 2/3\n",
      "92/92 [==============================] - 0s 3ms/step - loss: 0.0041 - accuracy: 0.9988 - val_loss: 18.1671 - val_accuracy: 0.5734\n",
      "Epoch 3/3\n",
      "92/92 [==============================] - 0s 3ms/step - loss: 0.0217 - accuracy: 0.9927 - val_loss: 18.6633 - val_accuracy: 0.5876\n",
      "Epoch 1/4\n",
      "92/92 [==============================] - 0s 3ms/step - loss: 0.0316 - accuracy: 0.9939 - val_loss: 17.2299 - val_accuracy: 0.5650\n",
      "Epoch 2/4\n",
      "92/92 [==============================] - 0s 2ms/step - loss: 0.0077 - accuracy: 0.9976 - val_loss: 17.3534 - val_accuracy: 0.5706\n",
      "Epoch 3/4\n",
      "92/92 [==============================] - 0s 3ms/step - loss: 0.0048 - accuracy: 0.9976 - val_loss: 17.3669 - val_accuracy: 0.5706\n",
      "Epoch 4/4\n",
      "92/92 [==============================] - 0s 3ms/step - loss: 9.0283e-04 - accuracy: 1.0000 - val_loss: 17.5922 - val_accuracy: 0.5763\n",
      "Epoch 1/5\n",
      "92/92 [==============================] - 0s 3ms/step - loss: 0.0020 - accuracy: 0.9988 - val_loss: 17.7729 - val_accuracy: 0.5706\n",
      "Epoch 2/5\n",
      "92/92 [==============================] - 0s 3ms/step - loss: 0.0013 - accuracy: 1.0000 - val_loss: 17.8917 - val_accuracy: 0.5678\n",
      "Epoch 3/5\n",
      "92/92 [==============================] - 0s 3ms/step - loss: 0.0010 - accuracy: 1.0000 - val_loss: 17.8771 - val_accuracy: 0.5678\n",
      "Epoch 4/5\n",
      "92/92 [==============================] - 0s 2ms/step - loss: 0.0093 - accuracy: 0.9964 - val_loss: 18.2333 - val_accuracy: 0.5650\n",
      "Epoch 5/5\n",
      "92/92 [==============================] - 0s 3ms/step - loss: 0.0214 - accuracy: 0.9903 - val_loss: 18.3930 - val_accuracy: 0.5819\n",
      "Epoch 1/6\n",
      "92/92 [==============================] - 0s 3ms/step - loss: 0.0163 - accuracy: 0.9939 - val_loss: 18.1263 - val_accuracy: 0.5791\n",
      "Epoch 2/6\n",
      "92/92 [==============================] - 0s 2ms/step - loss: 0.0200 - accuracy: 0.9939 - val_loss: 17.7253 - val_accuracy: 0.5678\n",
      "Epoch 3/6\n",
      "92/92 [==============================] - 0s 3ms/step - loss: 0.0117 - accuracy: 0.9976 - val_loss: 18.7429 - val_accuracy: 0.5763\n",
      "Epoch 4/6\n",
      "92/92 [==============================] - 0s 3ms/step - loss: 0.0062 - accuracy: 0.9976 - val_loss: 18.3192 - val_accuracy: 0.5650\n",
      "Epoch 5/6\n",
      "92/92 [==============================] - 0s 2ms/step - loss: 0.0014 - accuracy: 1.0000 - val_loss: 18.6651 - val_accuracy: 0.5847\n",
      "Epoch 6/6\n",
      "92/92 [==============================] - 0s 3ms/step - loss: 0.0045 - accuracy: 0.9976 - val_loss: 23.4741 - val_accuracy: 0.5819\n",
      "Epoch 1/7\n",
      "92/92 [==============================] - 0s 3ms/step - loss: 0.0245 - accuracy: 0.9927 - val_loss: 18.9244 - val_accuracy: 0.5621\n",
      "Epoch 2/7\n",
      "92/92 [==============================] - 0s 2ms/step - loss: 0.0275 - accuracy: 0.9976 - val_loss: 18.4911 - val_accuracy: 0.5932\n",
      "Epoch 3/7\n",
      "92/92 [==============================] - 0s 3ms/step - loss: 0.1001 - accuracy: 0.9855 - val_loss: 15.3340 - val_accuracy: 0.5650\n",
      "Epoch 4/7\n",
      "92/92 [==============================] - 0s 2ms/step - loss: 0.0219 - accuracy: 0.9952 - val_loss: 15.9669 - val_accuracy: 0.5791\n",
      "Epoch 5/7\n",
      "92/92 [==============================] - 0s 3ms/step - loss: 0.1505 - accuracy: 0.9806 - val_loss: 16.6486 - val_accuracy: 0.5424\n",
      "Epoch 6/7\n",
      "92/92 [==============================] - 0s 3ms/step - loss: 0.1036 - accuracy: 0.9842 - val_loss: 17.0608 - val_accuracy: 0.5819\n",
      "Epoch 7/7\n",
      "92/92 [==============================] - 0s 3ms/step - loss: 0.0243 - accuracy: 0.9964 - val_loss: 18.6106 - val_accuracy: 0.5763\n",
      "Epoch 1/8\n",
      "92/92 [==============================] - 0s 3ms/step - loss: 0.0063 - accuracy: 0.9976 - val_loss: 17.6376 - val_accuracy: 0.5847\n",
      "Epoch 2/8\n",
      "92/92 [==============================] - 0s 3ms/step - loss: 0.0183 - accuracy: 0.9976 - val_loss: 20.0805 - val_accuracy: 0.5706\n",
      "Epoch 3/8\n",
      "92/92 [==============================] - 0s 2ms/step - loss: 0.0088 - accuracy: 0.9976 - val_loss: 20.9562 - val_accuracy: 0.5734\n",
      "Epoch 4/8\n",
      "92/92 [==============================] - 0s 2ms/step - loss: 0.0177 - accuracy: 0.9952 - val_loss: 17.9012 - val_accuracy: 0.5876\n",
      "Epoch 5/8\n",
      "92/92 [==============================] - 0s 3ms/step - loss: 0.0213 - accuracy: 0.9976 - val_loss: 18.1711 - val_accuracy: 0.5763\n",
      "Epoch 6/8\n",
      "92/92 [==============================] - 0s 2ms/step - loss: 0.0035 - accuracy: 0.9988 - val_loss: 19.4774 - val_accuracy: 0.5819\n",
      "Epoch 7/8\n",
      "92/92 [==============================] - 0s 3ms/step - loss: 0.0310 - accuracy: 0.9927 - val_loss: 19.0399 - val_accuracy: 0.5791\n",
      "Epoch 8/8\n",
      "92/92 [==============================] - 0s 3ms/step - loss: 0.0056 - accuracy: 0.9976 - val_loss: 18.4848 - val_accuracy: 0.5791\n",
      "Epoch 1/9\n",
      "92/92 [==============================] - 0s 3ms/step - loss: 0.0033 - accuracy: 0.9976 - val_loss: 19.0905 - val_accuracy: 0.5847\n",
      "Epoch 2/9\n",
      "92/92 [==============================] - 0s 3ms/step - loss: 0.0038 - accuracy: 0.9976 - val_loss: 19.2758 - val_accuracy: 0.5819\n",
      "Epoch 3/9\n",
      "92/92 [==============================] - 0s 3ms/step - loss: 0.0105 - accuracy: 0.9976 - val_loss: 19.7735 - val_accuracy: 0.5847\n",
      "Epoch 4/9\n",
      "92/92 [==============================] - 0s 2ms/step - loss: 0.0088 - accuracy: 0.9964 - val_loss: 19.3491 - val_accuracy: 0.5847\n",
      "Epoch 5/9\n",
      "92/92 [==============================] - 0s 3ms/step - loss: 0.0242 - accuracy: 0.9952 - val_loss: 18.8028 - val_accuracy: 0.5706\n",
      "Epoch 6/9\n",
      "92/92 [==============================] - 0s 2ms/step - loss: 0.0139 - accuracy: 0.9976 - val_loss: 18.9433 - val_accuracy: 0.5763\n",
      "Epoch 7/9\n",
      "92/92 [==============================] - 0s 3ms/step - loss: 0.0065 - accuracy: 0.9976 - val_loss: 19.1513 - val_accuracy: 0.5706\n",
      "Epoch 8/9\n",
      "92/92 [==============================] - 0s 2ms/step - loss: 0.0031 - accuracy: 1.0000 - val_loss: 19.2182 - val_accuracy: 0.5763\n",
      "Epoch 9/9\n",
      "92/92 [==============================] - 0s 3ms/step - loss: 0.0021 - accuracy: 1.0000 - val_loss: 19.3093 - val_accuracy: 0.5734\n",
      "Epoch 1/10\n",
      "92/92 [==============================] - 0s 3ms/step - loss: 0.0148 - accuracy: 0.9952 - val_loss: 19.9889 - val_accuracy: 0.5763\n",
      "Epoch 2/10\n",
      "92/92 [==============================] - 0s 3ms/step - loss: 0.0144 - accuracy: 0.9952 - val_loss: 20.1615 - val_accuracy: 0.5763\n",
      "Epoch 3/10\n",
      "92/92 [==============================] - 0s 3ms/step - loss: 0.0053 - accuracy: 0.9976 - val_loss: 20.3694 - val_accuracy: 0.5819\n",
      "Epoch 4/10\n",
      "92/92 [==============================] - 0s 3ms/step - loss: 0.0027 - accuracy: 0.9988 - val_loss: 20.1582 - val_accuracy: 0.5904\n",
      "Epoch 5/10\n",
      "92/92 [==============================] - 0s 3ms/step - loss: 0.0025 - accuracy: 1.0000 - val_loss: 20.0932 - val_accuracy: 0.5791\n",
      "Epoch 6/10\n",
      "92/92 [==============================] - 0s 3ms/step - loss: 0.0032 - accuracy: 0.9976 - val_loss: 19.7357 - val_accuracy: 0.5876\n",
      "Epoch 7/10\n",
      "92/92 [==============================] - 0s 3ms/step - loss: 0.0097 - accuracy: 0.9964 - val_loss: 20.8296 - val_accuracy: 0.5819\n",
      "Epoch 8/10\n",
      "92/92 [==============================] - 0s 3ms/step - loss: 0.0388 - accuracy: 0.9915 - val_loss: 19.2628 - val_accuracy: 0.5706\n",
      "Epoch 9/10\n",
      "92/92 [==============================] - 0s 3ms/step - loss: 0.0299 - accuracy: 0.9952 - val_loss: 18.8856 - val_accuracy: 0.5650\n",
      "Epoch 10/10\n",
      "92/92 [==============================] - 0s 2ms/step - loss: 0.0146 - accuracy: 0.9964 - val_loss: 21.0280 - val_accuracy: 0.5960\n",
      "83/83 [==============================] - 0s 3ms/step - loss: 0.0166 - accuracy: 0.9976 - val_loss: 18.1435 - val_accuracy: 0.5734\n",
      "Epoch 1/2\n",
      "83/83 [==============================] - 0s 3ms/step - loss: 0.0096 - accuracy: 0.9939 - val_loss: 18.5531 - val_accuracy: 0.5791\n",
      "Epoch 2/2\n",
      "83/83 [==============================] - 0s 2ms/step - loss: 0.0086 - accuracy: 0.9988 - val_loss: 17.5301 - val_accuracy: 0.5593\n",
      "Epoch 1/3\n",
      "83/83 [==============================] - 0s 3ms/step - loss: 0.0276 - accuracy: 0.9976 - val_loss: 18.4396 - val_accuracy: 0.5706\n",
      "Epoch 2/3\n",
      "83/83 [==============================] - 0s 3ms/step - loss: 0.1055 - accuracy: 0.9939 - val_loss: 18.1038 - val_accuracy: 0.5876\n",
      "Epoch 3/3\n",
      "83/83 [==============================] - 0s 3ms/step - loss: 0.0126 - accuracy: 0.9939 - val_loss: 19.6718 - val_accuracy: 0.5960\n",
      "Epoch 1/4\n",
      "83/83 [==============================] - 0s 3ms/step - loss: 0.0165 - accuracy: 0.9927 - val_loss: 19.0763 - val_accuracy: 0.5763\n",
      "Epoch 2/4\n",
      "83/83 [==============================] - 0s 3ms/step - loss: 0.0653 - accuracy: 0.9939 - val_loss: 21.7698 - val_accuracy: 0.5650\n",
      "Epoch 3/4\n",
      "83/83 [==============================] - 0s 3ms/step - loss: 0.0354 - accuracy: 0.9952 - val_loss: 17.5658 - val_accuracy: 0.5706\n",
      "Epoch 4/4\n",
      "83/83 [==============================] - 0s 3ms/step - loss: 0.0107 - accuracy: 0.9964 - val_loss: 17.9310 - val_accuracy: 0.5876\n",
      "Epoch 1/5\n",
      "83/83 [==============================] - 0s 3ms/step - loss: 0.0199 - accuracy: 0.9964 - val_loss: 17.7006 - val_accuracy: 0.5904\n",
      "Epoch 2/5\n",
      "83/83 [==============================] - 0s 3ms/step - loss: 0.0053 - accuracy: 0.9988 - val_loss: 18.5084 - val_accuracy: 0.5960\n",
      "Epoch 3/5\n",
      "83/83 [==============================] - 0s 3ms/step - loss: 0.0033 - accuracy: 1.0000 - val_loss: 18.5632 - val_accuracy: 0.6017\n",
      "Epoch 4/5\n",
      "83/83 [==============================] - 0s 3ms/step - loss: 0.0021 - accuracy: 0.9988 - val_loss: 18.6516 - val_accuracy: 0.5960\n",
      "Epoch 5/5\n",
      "83/83 [==============================] - 0s 3ms/step - loss: 0.0011 - accuracy: 1.0000 - val_loss: 19.1355 - val_accuracy: 0.6102\n",
      "Epoch 1/6\n",
      "83/83 [==============================] - 0s 3ms/step - loss: 0.0030 - accuracy: 0.9988 - val_loss: 19.2384 - val_accuracy: 0.6073\n",
      "Epoch 2/6\n",
      "83/83 [==============================] - 0s 3ms/step - loss: 0.0043 - accuracy: 0.9976 - val_loss: 20.2036 - val_accuracy: 0.6102\n",
      "Epoch 3/6\n",
      "83/83 [==============================] - 0s 3ms/step - loss: 0.0105 - accuracy: 0.9952 - val_loss: 19.3757 - val_accuracy: 0.5989\n",
      "Epoch 4/6\n",
      "83/83 [==============================] - 0s 3ms/step - loss: 0.0014 - accuracy: 1.0000 - val_loss: 19.3494 - val_accuracy: 0.5989\n",
      "Epoch 5/6\n",
      "83/83 [==============================] - 0s 2ms/step - loss: 0.0017 - accuracy: 1.0000 - val_loss: 19.7236 - val_accuracy: 0.5989\n",
      "Epoch 6/6\n",
      "83/83 [==============================] - 0s 3ms/step - loss: 0.0021 - accuracy: 0.9988 - val_loss: 20.1684 - val_accuracy: 0.6045\n",
      "Epoch 1/7\n",
      "83/83 [==============================] - 0s 3ms/step - loss: 0.0086 - accuracy: 0.9964 - val_loss: 19.6773 - val_accuracy: 0.5932\n",
      "Epoch 2/7\n",
      "83/83 [==============================] - 0s 3ms/step - loss: 0.0123 - accuracy: 0.9927 - val_loss: 18.9971 - val_accuracy: 0.5876\n",
      "Epoch 3/7\n",
      "83/83 [==============================] - 0s 3ms/step - loss: 0.0100 - accuracy: 0.9952 - val_loss: 19.8680 - val_accuracy: 0.5989\n",
      "Epoch 4/7\n",
      "83/83 [==============================] - 0s 3ms/step - loss: 0.0084 - accuracy: 0.9976 - val_loss: 19.7067 - val_accuracy: 0.5932\n",
      "Epoch 5/7\n",
      "83/83 [==============================] - 0s 2ms/step - loss: 0.0231 - accuracy: 0.9915 - val_loss: 20.9575 - val_accuracy: 0.5876\n",
      "Epoch 6/7\n",
      "83/83 [==============================] - 0s 3ms/step - loss: 0.0020 - accuracy: 1.0000 - val_loss: 25.7881 - val_accuracy: 0.5847\n",
      "Epoch 7/7\n",
      "83/83 [==============================] - 0s 3ms/step - loss: 0.0084 - accuracy: 0.9952 - val_loss: 22.5959 - val_accuracy: 0.5791\n",
      "Epoch 1/8\n",
      "83/83 [==============================] - 0s 3ms/step - loss: 0.0053 - accuracy: 0.9976 - val_loss: 20.7591 - val_accuracy: 0.5847\n",
      "Epoch 2/8\n",
      "83/83 [==============================] - 0s 2ms/step - loss: 0.0212 - accuracy: 0.9939 - val_loss: 22.7444 - val_accuracy: 0.5791\n",
      "Epoch 3/8\n",
      "83/83 [==============================] - 0s 2ms/step - loss: 0.0132 - accuracy: 0.9964 - val_loss: 24.3168 - val_accuracy: 0.5960\n",
      "Epoch 4/8\n",
      "83/83 [==============================] - 0s 2ms/step - loss: 0.0119 - accuracy: 0.9964 - val_loss: 23.0226 - val_accuracy: 0.5904\n",
      "Epoch 5/8\n",
      "83/83 [==============================] - 0s 3ms/step - loss: 0.0555 - accuracy: 0.9927 - val_loss: 22.7659 - val_accuracy: 0.5932\n",
      "Epoch 6/8\n",
      "83/83 [==============================] - 0s 3ms/step - loss: 0.0338 - accuracy: 0.9939 - val_loss: 23.4800 - val_accuracy: 0.5734\n",
      "Epoch 7/8\n",
      "83/83 [==============================] - 0s 3ms/step - loss: 0.0054 - accuracy: 0.9964 - val_loss: 21.2997 - val_accuracy: 0.5989\n",
      "Epoch 8/8\n",
      "83/83 [==============================] - 0s 3ms/step - loss: 0.0033 - accuracy: 0.9988 - val_loss: 21.4176 - val_accuracy: 0.5932\n",
      "Epoch 1/9\n",
      "83/83 [==============================] - 0s 3ms/step - loss: 0.0075 - accuracy: 0.9952 - val_loss: 19.8042 - val_accuracy: 0.5989\n",
      "Epoch 2/9\n",
      "83/83 [==============================] - 0s 3ms/step - loss: 0.0105 - accuracy: 0.9964 - val_loss: 20.2041 - val_accuracy: 0.5932\n",
      "Epoch 3/9\n",
      "83/83 [==============================] - 0s 3ms/step - loss: 0.0134 - accuracy: 0.9964 - val_loss: 23.5370 - val_accuracy: 0.5960\n",
      "Epoch 4/9\n",
      "83/83 [==============================] - 0s 3ms/step - loss: 0.0081 - accuracy: 0.9988 - val_loss: 20.5680 - val_accuracy: 0.6017\n",
      "Epoch 5/9\n",
      "83/83 [==============================] - 0s 2ms/step - loss: 0.0245 - accuracy: 0.9903 - val_loss: 19.3852 - val_accuracy: 0.5932\n",
      "Epoch 6/9\n",
      "83/83 [==============================] - 0s 3ms/step - loss: 0.0225 - accuracy: 0.9903 - val_loss: 20.1954 - val_accuracy: 0.5678\n",
      "Epoch 7/9\n",
      "83/83 [==============================] - 0s 3ms/step - loss: 0.0107 - accuracy: 0.9988 - val_loss: 18.4105 - val_accuracy: 0.5593\n",
      "Epoch 8/9\n",
      "83/83 [==============================] - 0s 3ms/step - loss: 0.0060 - accuracy: 0.9976 - val_loss: 19.3930 - val_accuracy: 0.5791\n",
      "Epoch 9/9\n",
      "83/83 [==============================] - 0s 3ms/step - loss: 0.0041 - accuracy: 0.9988 - val_loss: 19.6076 - val_accuracy: 0.5847\n",
      "Epoch 1/10\n",
      "83/83 [==============================] - 0s 3ms/step - loss: 0.0703 - accuracy: 0.9939 - val_loss: 19.5906 - val_accuracy: 0.6017\n",
      "Epoch 2/10\n",
      "83/83 [==============================] - 0s 3ms/step - loss: 0.0041 - accuracy: 0.9988 - val_loss: 20.6440 - val_accuracy: 0.5876\n",
      "Epoch 3/10\n",
      "83/83 [==============================] - 0s 3ms/step - loss: 0.0106 - accuracy: 0.9964 - val_loss: 21.2137 - val_accuracy: 0.5932\n",
      "Epoch 4/10\n",
      "83/83 [==============================] - 0s 2ms/step - loss: 0.0184 - accuracy: 0.9976 - val_loss: 20.9250 - val_accuracy: 0.5847\n",
      "Epoch 5/10\n",
      "83/83 [==============================] - 0s 3ms/step - loss: 0.0111 - accuracy: 0.9964 - val_loss: 26.7755 - val_accuracy: 0.5621\n",
      "Epoch 6/10\n",
      "83/83 [==============================] - 0s 3ms/step - loss: 0.0941 - accuracy: 0.9891 - val_loss: 21.9852 - val_accuracy: 0.5734\n",
      "Epoch 7/10\n",
      "83/83 [==============================] - 0s 3ms/step - loss: 0.0479 - accuracy: 0.9939 - val_loss: 21.2192 - val_accuracy: 0.5734\n",
      "Epoch 8/10\n",
      "83/83 [==============================] - 0s 2ms/step - loss: 0.0293 - accuracy: 0.9964 - val_loss: 22.5888 - val_accuracy: 0.5791\n",
      "Epoch 9/10\n",
      "83/83 [==============================] - 0s 2ms/step - loss: 0.0150 - accuracy: 0.9939 - val_loss: 22.4344 - val_accuracy: 0.5734\n",
      "Epoch 10/10\n",
      "83/83 [==============================] - 0s 3ms/step - loss: 0.0310 - accuracy: 0.9952 - val_loss: 25.0984 - val_accuracy: 0.5791\n"
     ]
    }
   ],
   "source": [
    "\n",
    "\n",
    "myfile = open(\"W_Peer_Loud_Envo Batch vs Epoch.txt\",\"w\")\n",
    "myfile.write(\"batch size            Epoch               Prediction\"+ \"\\n\")\n",
    "for i in range(1, 11):\n",
    "    #predict =1-round(len(test_df[test_df['speaker'] != test_df['prediction']])/len(test_df),3)\n",
    "    #model.compile(loss='categorical_crossentropy', metrics=['accuracy'], optimizer='adam') #mkk\n",
    "    #early_stop = EarlyStopping(monitor='val_loss', min_delta=0, patience=100, verbose=1, mode='auto')\n",
    "\n",
    "\n",
    "    for j in range(1, 11):\n",
    "\n",
    "        predictions = model.predict_classes(X_test)\n",
    "\n",
    "        predictions = lb.inverse_transform(predictions)\n",
    "        test_df['prediction'] = predictions\n",
    "        history = model.fit(X_train, y_train, batch_size=i, epochs=j,\n",
    "                    validation_data=(X_val, y_val),\n",
    "                    callbacks=[early_stop])\n",
    "        predict =1-round(len(test_df[test_df['speaker'] != test_df['prediction']])/len(test_df),3)\n",
    "        myfile.write(str(i)+\"                       \" +str(j)+ \"                     \" +str(predict)+ \"\\n\")\n",
    "myfile.close()"
   ],
   "metadata": {
    "collapsed": false,
    "pycharm": {
     "name": "#%%\n"
    }
   }
  },
  {
   "cell_type": "code",
   "execution_count": 112,
   "outputs": [],
   "source": [],
   "metadata": {
    "collapsed": false,
    "pycharm": {
     "name": "#%%\n"
    }
   }
  },
  {
   "cell_type": "code",
   "execution_count": 112,
   "outputs": [],
   "source": [],
   "metadata": {
    "collapsed": false,
    "pycharm": {
     "name": "#%%\n"
    }
   }
  }
 ],
 "metadata": {
  "kernelspec": {
   "name": "python3",
   "language": "python",
   "display_name": "Python 3 (ipykernel)"
  },
  "language_info": {
   "codemirror_mode": {
    "name": "ipython",
    "version": 2
   },
   "file_extension": ".py",
   "mimetype": "text/x-python",
   "name": "python",
   "nbconvert_exporter": "python",
   "pygments_lexer": "ipython2",
   "version": "2.7.6"
  }
 },
 "nbformat": 4,
 "nbformat_minor": 0
}