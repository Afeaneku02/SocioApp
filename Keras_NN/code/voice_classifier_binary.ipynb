{
 "cells": [
  {
   "cell_type": "markdown",
   "source": [
    "#### First, we're building dataframe (file name, and speaker number), and getting the features from the baseline data\n",
    "\n",
    "#### We're then going to use this as our training set for use in the neural network"
   ],
   "metadata": {
    "collapsed": false,
    "pycharm": {
     "name": "#%% md\n"
    }
   }
  },
  {
   "cell_type": "code",
   "execution_count": 369,
   "outputs": [],
   "source": [
    "# List the files from baseline voice files; put them in a dataframe\n",
    "trainFileList = os.listdir('../pickles/data/train')\n",
    "train_df = pd.DataFrame(trainFileList)\n"
   ],
   "metadata": {
    "collapsed": false,
    "pycharm": {
     "name": "#%%\n"
    }
   }
  },
  {
   "cell_type": "code",
   "execution_count": 370,
   "outputs": [
    {
     "data": {
      "text/plain": "                                                file\n0  s1_baseline_AudioData__2022_03_291648593704_fe...\n1  s1_baseline_AudioData__2022_03_291648593713_fe...\n2  s1_baseline_AudioData__2022_03_291648593718_fe...\n3  s1_baseline_AudioData__2022_03_291648593723_fe...\n4  s1_baseline_AudioData__2022_03_291648593729_fe...",
      "text/html": "<div>\n<style scoped>\n    .dataframe tbody tr th:only-of-type {\n        vertical-align: middle;\n    }\n\n    .dataframe tbody tr th {\n        vertical-align: top;\n    }\n\n    .dataframe thead th {\n        text-align: right;\n    }\n</style>\n<table border=\"1\" class=\"dataframe\">\n  <thead>\n    <tr style=\"text-align: right;\">\n      <th></th>\n      <th>file</th>\n    </tr>\n  </thead>\n  <tbody>\n    <tr>\n      <th>0</th>\n      <td>s1_baseline_AudioData__2022_03_291648593704_fe...</td>\n    </tr>\n    <tr>\n      <th>1</th>\n      <td>s1_baseline_AudioData__2022_03_291648593713_fe...</td>\n    </tr>\n    <tr>\n      <th>2</th>\n      <td>s1_baseline_AudioData__2022_03_291648593718_fe...</td>\n    </tr>\n    <tr>\n      <th>3</th>\n      <td>s1_baseline_AudioData__2022_03_291648593723_fe...</td>\n    </tr>\n    <tr>\n      <th>4</th>\n      <td>s1_baseline_AudioData__2022_03_291648593729_fe...</td>\n    </tr>\n  </tbody>\n</table>\n</div>"
     },
     "execution_count": 370,
     "metadata": {},
     "output_type": "execute_result"
    }
   ],
   "source": [
    "# Rename first column to file\n",
    "train_df = train_df.rename(columns={0: 'file'})\n",
    "train_df.head()\n"
   ],
   "metadata": {
    "collapsed": false,
    "pycharm": {
     "name": "#%%\n"
    }
   }
  },
  {
   "cell_type": "code",
   "execution_count": 371,
   "outputs": [],
   "source": [
    "# Define train data directory\n",
    "trainDataPath = '../pickles/data/train/'\n",
    "\n",
    "# Get train data into dataframe\n",
    "train_feature_labels = pd.concat([pd.read_pickle(trainDataPath + x) for x in os.listdir(trainDataPath)], ignore_index=True)"
   ],
   "metadata": {
    "collapsed": false,
    "pycharm": {
     "name": "#%%\n"
    }
   }
  },
  {
   "cell_type": "code",
   "execution_count": 372,
   "outputs": [
    {
     "data": {
      "text/plain": "0    ([-410.86383, 111.155106, 11.211696, 16.326588...\n1    ([-383.7689, 125.523125, -1.1537461, 20.785316...\n2    ([-395.27423, 123.77223, 7.026944, 22.09738, 4...\n3    ([-361.597, 105.847855, 1.7953725, 33.84237, 1...\n4    ([-375.46692, 123.409874, 7.233824, 16.259724,...\ndtype: object"
     },
     "execution_count": 372,
     "metadata": {},
     "output_type": "execute_result"
    }
   ],
   "source": [
    "# Look at data\n",
    "train_feature_labels.head()"
   ],
   "metadata": {
    "collapsed": false,
    "pycharm": {
     "name": "#%%\n"
    }
   }
  },
  {
   "cell_type": "code",
   "execution_count": 373,
   "outputs": [],
   "source": [
    "# \"We create an empty list where we will concatenate all the features into one long feature\n",
    "# for each file to feed into our neural network\"\n",
    "train_features = []\n",
    "for i in range(0, len(train_df)):\n",
    "    train_features.append(np.concatenate((train_feature_labels[i][0], train_feature_labels[i][1],\n",
    "                train_feature_labels[i][2], train_feature_labels[i][3],\n",
    "                train_feature_labels[i][4]), axis=0))"
   ],
   "metadata": {
    "collapsed": false,
    "pycharm": {
     "name": "#%%\n"
    }
   }
  },
  {
   "cell_type": "code",
   "execution_count": 374,
   "outputs": [],
   "source": [
    "# Shuffle the dataframe\n",
    "train_df = train_df.sample(frac=1).reset_index(drop=True)"
   ],
   "metadata": {
    "collapsed": false,
    "pycharm": {
     "name": "#%%\n"
    }
   }
  },
  {
   "cell_type": "code",
   "execution_count": 375,
   "outputs": [
    {
     "name": "stdout",
     "output_type": "stream",
     "text": [
      "Features Size: \t253\n",
      "Dataframe Size: \t253\n"
     ]
    }
   ],
   "source": [
    "# Make sure the number of features matches\n",
    "print(\"Features Size: \\t\" + str(len(train_features)))\n",
    "print(\"Dataframe Size: \\t\" + str(len(train_df)))"
   ],
   "metadata": {
    "collapsed": false,
    "pycharm": {
     "name": "#%%\n"
    }
   }
  },
  {
   "cell_type": "code",
   "execution_count": 376,
   "outputs": [],
   "source": [
    "train_speakers = []\n",
    "for i in range(0, len(train_df)):\n",
    "    train_speakers.append(train_df['file'][i].split('_')[0].strip('s'))"
   ],
   "metadata": {
    "collapsed": false,
    "pycharm": {
     "name": "#%%\n"
    }
   }
  },
  {
   "cell_type": "code",
   "execution_count": 377,
   "outputs": [],
   "source": [
    "# Append the speaker list to the data\n",
    "train_df['speaker'] = train_speakers\n"
   ],
   "metadata": {
    "collapsed": false,
    "pycharm": {
     "name": "#%%\n"
    }
   }
  },
  {
   "cell_type": "code",
   "execution_count": 368,
   "outputs": [],
   "source": [
    "# Import libraries\n",
    "import os\n",
    "\n",
    "import pandas as pd\n",
    "import numpy as np\n",
    "\n",
    "from sklearn.preprocessing import StandardScaler\n",
    "from sklearn.preprocessing import LabelEncoder\n",
    "from tensorflow.keras.models import Sequential\n",
    "from tensorflow.keras.layers import Dense, Dropout\n",
    "from tensorflow.keras.utils import to_categorical\n",
    "from tensorflow.keras.callbacks import EarlyStopping"
   ],
   "metadata": {
    "collapsed": false,
    "pycharm": {
     "name": "#%%\n"
    }
   }
  },
  {
   "cell_type": "code",
   "execution_count": 378,
   "outputs": [],
   "source": [
    "train_user = []\n",
    "for i in range(0, len(train_df)):\n",
    "    if train_df['file'][i].split('_')[0].strip('s') == '1':\n",
    "        train_user.append('1')\n",
    "    else:\n",
    "        train_user.append('0')"
   ],
   "metadata": {
    "collapsed": false,
    "pycharm": {
     "name": "#%%\n"
    }
   }
  },
  {
   "cell_type": "code",
   "execution_count": 379,
   "outputs": [],
   "source": [
    "train_df['user'] = train_user"
   ],
   "metadata": {
    "collapsed": false,
    "pycharm": {
     "name": "#%%\n"
    }
   }
  },
  {
   "cell_type": "code",
   "execution_count": 380,
   "outputs": [
    {
     "data": {
      "text/plain": "                                                file speaker user\n0  s2_baseline_AudioData__2022_03_291648594352_fe...       2    0\n1  s4_baseline_AudioData__2022_04_131649888571_fe...       4    0\n2  s4_baseline_AudioData__2022_04_131649888870_fe...       4    0\n3  s2_baseline_AudioData__2022_03_291648594371_fe...       2    0\n4  s4_baseline_AudioData__2022_04_131649888533_fe...       4    0",
      "text/html": "<div>\n<style scoped>\n    .dataframe tbody tr th:only-of-type {\n        vertical-align: middle;\n    }\n\n    .dataframe tbody tr th {\n        vertical-align: top;\n    }\n\n    .dataframe thead th {\n        text-align: right;\n    }\n</style>\n<table border=\"1\" class=\"dataframe\">\n  <thead>\n    <tr style=\"text-align: right;\">\n      <th></th>\n      <th>file</th>\n      <th>speaker</th>\n      <th>user</th>\n    </tr>\n  </thead>\n  <tbody>\n    <tr>\n      <th>0</th>\n      <td>s2_baseline_AudioData__2022_03_291648594352_fe...</td>\n      <td>2</td>\n      <td>0</td>\n    </tr>\n    <tr>\n      <th>1</th>\n      <td>s4_baseline_AudioData__2022_04_131649888571_fe...</td>\n      <td>4</td>\n      <td>0</td>\n    </tr>\n    <tr>\n      <th>2</th>\n      <td>s4_baseline_AudioData__2022_04_131649888870_fe...</td>\n      <td>4</td>\n      <td>0</td>\n    </tr>\n    <tr>\n      <th>3</th>\n      <td>s2_baseline_AudioData__2022_03_291648594371_fe...</td>\n      <td>2</td>\n      <td>0</td>\n    </tr>\n    <tr>\n      <th>4</th>\n      <td>s4_baseline_AudioData__2022_04_131649888533_fe...</td>\n      <td>4</td>\n      <td>0</td>\n    </tr>\n  </tbody>\n</table>\n</div>"
     },
     "execution_count": 380,
     "metadata": {},
     "output_type": "execute_result"
    }
   ],
   "source": [
    "# Look at data\n",
    "train_df.head()"
   ],
   "metadata": {
    "collapsed": false,
    "pycharm": {
     "name": "#%%\n"
    }
   }
  },
  {
   "cell_type": "code",
   "execution_count": 381,
   "outputs": [
    {
     "name": "stdout",
     "output_type": "stream",
     "text": [
      "Number of unique speakers: 4\n"
     ]
    }
   ],
   "source": [
    "# Check the number of unique speakers in the data\n",
    "print(\"Number of unique speakers: \" + str(train_df['speaker'].nunique()))"
   ],
   "metadata": {
    "collapsed": false,
    "pycharm": {
     "name": "#%%\n"
    }
   }
  },
  {
   "cell_type": "code",
   "execution_count": 382,
   "outputs": [
    {
     "data": {
      "text/plain": "253"
     },
     "execution_count": 382,
     "metadata": {},
     "output_type": "execute_result"
    }
   ],
   "source": [
    "# Making new var that holds just the speaker list\n",
    "train_labels = train_user\n",
    "# Look at the length, making sure it's the same as the features\n",
    "len(train_labels)"
   ],
   "metadata": {
    "collapsed": false,
    "pycharm": {
     "name": "#%%\n"
    }
   }
  },
  {
   "cell_type": "markdown",
   "source": [
    "#### Hot encoding y and pre-processing X and y"
   ],
   "metadata": {
    "collapsed": false,
    "pycharm": {
     "name": "#%% md\n"
    }
   }
  },
  {
   "cell_type": "code",
   "execution_count": 383,
   "outputs": [],
   "source": [
    "X = np.array(train_features)\n",
    "y = np.array(train_labels)"
   ],
   "metadata": {
    "collapsed": false,
    "pycharm": {
     "name": "#%%\n"
    }
   }
  },
  {
   "cell_type": "code",
   "execution_count": 384,
   "outputs": [],
   "source": [
    "# Hot encoding y\n",
    "lb = LabelEncoder()\n",
    "y = to_categorical(lb.fit_transform(y))"
   ],
   "metadata": {
    "collapsed": false,
    "pycharm": {
     "name": "#%%\n"
    }
   }
  },
  {
   "cell_type": "code",
   "execution_count": 385,
   "outputs": [
    {
     "data": {
      "text/plain": "(253, 193)"
     },
     "execution_count": 385,
     "metadata": {},
     "output_type": "execute_result"
    }
   ],
   "source": [
    "X.shape"
   ],
   "metadata": {
    "collapsed": false,
    "pycharm": {
     "name": "#%%\n"
    }
   }
  },
  {
   "cell_type": "code",
   "execution_count": 386,
   "outputs": [
    {
     "data": {
      "text/plain": "(253, 2)"
     },
     "execution_count": 386,
     "metadata": {},
     "output_type": "execute_result"
    }
   ],
   "source": [
    "y.shape"
   ],
   "metadata": {
    "collapsed": false,
    "pycharm": {
     "name": "#%%\n"
    }
   }
  },
  {
   "cell_type": "code",
   "execution_count": 387,
   "outputs": [
    {
     "name": "stdout",
     "output_type": "stream",
     "text": [
      "177\n"
     ]
    }
   ],
   "source": [
    "# Define what index is 70% of the data (we will split this into the train and val data sets.)\n",
    "# Note: we aren't doing test as of right now, because we have separate data for that\n",
    "seventyPercIndex = round(train_feature_labels.size * .70)\n",
    "print(seventyPercIndex)"
   ],
   "metadata": {
    "collapsed": false,
    "pycharm": {
     "name": "#%%\n"
    }
   }
  },
  {
   "cell_type": "code",
   "execution_count": 388,
   "outputs": [],
   "source": [
    "# Put the first 75% of the data into the train arrays (X and y)\n",
    "# X_train contains the features\n",
    "X_train = X[:seventyPercIndex]\n",
    "# y_train contains the labels, specifically the speaker/subject #\n",
    "y_train = y[:seventyPercIndex]\n",
    "\n",
    "# Note: It seems that the y set has been transformed into binary labels, which will have to be addressed later when we\n",
    "#   add more speakers!!!"
   ],
   "metadata": {
    "collapsed": false,
    "pycharm": {
     "name": "#%%\n"
    }
   }
  },
  {
   "cell_type": "code",
   "execution_count": 389,
   "outputs": [],
   "source": [
    "# Do the same, except for the rest of the data after 75% index\n",
    "X_val = X[seventyPercIndex:]\n",
    "y_val = y[seventyPercIndex:]"
   ],
   "metadata": {
    "collapsed": false,
    "pycharm": {
     "name": "#%%\n"
    }
   }
  },
  {
   "cell_type": "code",
   "execution_count": 390,
   "outputs": [
    {
     "name": "stdout",
     "output_type": "stream",
     "text": [
      "X_train Shape: \t(177, 193)\n",
      "X_val Shape: \t(76, 193)\n"
     ]
    }
   ],
   "source": [
    "# Compare the shapes of the datasets, just to be sure they match up correctly\n",
    "print(\"X_train Shape: \\t\" + str(X_train.shape))\n",
    "print(\"X_val Shape: \\t\" + str(X_val.shape))"
   ],
   "metadata": {
    "collapsed": false,
    "pycharm": {
     "name": "#%%\n"
    }
   }
  },
  {
   "cell_type": "code",
   "execution_count": 391,
   "outputs": [
    {
     "name": "stdout",
     "output_type": "stream",
     "text": [
      "y_train Shape: \t(177, 2)\n",
      "y_val Shape: \t(76, 2)\n"
     ]
    }
   ],
   "source": [
    "# Similar as above, just with the y data sets\n",
    "print(\"y_train Shape: \\t\" + str(y_train.shape))\n",
    "print(\"y_val Shape: \\t\" + str(y_val.shape))\n"
   ],
   "metadata": {
    "collapsed": false,
    "pycharm": {
     "name": "#%%\n"
    }
   }
  },
  {
   "cell_type": "markdown",
   "source": [
    "\n",
    "---\n",
    "#### Do the same as we just did, but for the testing data set\n",
    "\n"
   ],
   "metadata": {
    "collapsed": false,
    "pycharm": {
     "name": "#%% md\n"
    }
   }
  },
  {
   "cell_type": "code",
   "execution_count": 392,
   "outputs": [],
   "source": [
    "# List the files from use case voice files; put them in a dataframe\n",
    "testFileList = os.listdir('../pickles/data/test')\n",
    "test_df = pd.DataFrame(testFileList)\n"
   ],
   "metadata": {
    "collapsed": false,
    "pycharm": {
     "name": "#%%\n"
    }
   }
  },
  {
   "cell_type": "code",
   "execution_count": 393,
   "outputs": [
    {
     "data": {
      "text/plain": "                                                file\n0  s1_case_1_AudioData__2022_03_291648594561_feat...\n1  s1_case_1_AudioData__2022_04_131649888950_feat...\n2  s1_case_2_AudioData__2022_03_291648594964_feat...\n3  s1_case_2_AudioData__2022_04_131649889207_feat...\n4  s1_case_2_AudioData__2022_04_131649889345_feat...",
      "text/html": "<div>\n<style scoped>\n    .dataframe tbody tr th:only-of-type {\n        vertical-align: middle;\n    }\n\n    .dataframe tbody tr th {\n        vertical-align: top;\n    }\n\n    .dataframe thead th {\n        text-align: right;\n    }\n</style>\n<table border=\"1\" class=\"dataframe\">\n  <thead>\n    <tr style=\"text-align: right;\">\n      <th></th>\n      <th>file</th>\n    </tr>\n  </thead>\n  <tbody>\n    <tr>\n      <th>0</th>\n      <td>s1_case_1_AudioData__2022_03_291648594561_feat...</td>\n    </tr>\n    <tr>\n      <th>1</th>\n      <td>s1_case_1_AudioData__2022_04_131649888950_feat...</td>\n    </tr>\n    <tr>\n      <th>2</th>\n      <td>s1_case_2_AudioData__2022_03_291648594964_feat...</td>\n    </tr>\n    <tr>\n      <th>3</th>\n      <td>s1_case_2_AudioData__2022_04_131649889207_feat...</td>\n    </tr>\n    <tr>\n      <th>4</th>\n      <td>s1_case_2_AudioData__2022_04_131649889345_feat...</td>\n    </tr>\n  </tbody>\n</table>\n</div>"
     },
     "execution_count": 393,
     "metadata": {},
     "output_type": "execute_result"
    }
   ],
   "source": [
    "# Rename first column to file\n",
    "test_df = test_df.rename(columns={0: 'file'})\n",
    "test_df.head()\n"
   ],
   "metadata": {
    "collapsed": false,
    "pycharm": {
     "name": "#%%\n"
    }
   }
  },
  {
   "cell_type": "code",
   "execution_count": 394,
   "outputs": [],
   "source": [
    "# Define test data directory\n",
    "testDataPath = '../pickles/data/test/'\n",
    "# Get test data into dataframe\n",
    "test_feature_labels = pd.concat([pd.read_pickle(testDataPath + x) for x in os.listdir(testDataPath)], ignore_index=True)"
   ],
   "metadata": {
    "collapsed": false,
    "pycharm": {
     "name": "#%%\n"
    }
   }
  },
  {
   "cell_type": "code",
   "execution_count": 395,
   "outputs": [
    {
     "data": {
      "text/plain": "0    ([-344.3096, 138.34344, -2.278195, 11.397168, ...\n1    ([-317.62854, 104.90374, -5.141589, 45.528423,...\n2    ([-355.696, 125.86441, 0.63355714, 4.304632, -...\n3    ([-342.536, 107.22047, 10.101556, 22.23576, -4...\n4    ([-338.0755, 110.37684, 7.379534, 23.920752, -...\ndtype: object"
     },
     "execution_count": 395,
     "metadata": {},
     "output_type": "execute_result"
    }
   ],
   "source": [
    "# Look at data\n",
    "test_feature_labels.head()\n"
   ],
   "metadata": {
    "collapsed": false,
    "pycharm": {
     "name": "#%%\n"
    }
   }
  },
  {
   "cell_type": "code",
   "execution_count": 396,
   "outputs": [],
   "source": [
    "# \"We create an empty list where we will concatenate all the features into one long feature\n",
    "# for each file to feed into our neural network\"\n",
    "test_features = []\n",
    "for i in range(0, len(test_df)):\n",
    "    test_features.append(np.concatenate((test_feature_labels[i][0], test_feature_labels[i][1],\n",
    "                test_feature_labels[i][2], test_feature_labels[i][3],\n",
    "                test_feature_labels[i][4]), axis=0))\n"
   ],
   "metadata": {
    "collapsed": false,
    "pycharm": {
     "name": "#%%\n"
    }
   }
  },
  {
   "cell_type": "code",
   "execution_count": 397,
   "outputs": [],
   "source": [
    "# Shuffle the dataframe\n",
    "test_df = test_df.sample(frac=1).reset_index(drop=True)"
   ],
   "metadata": {
    "collapsed": false,
    "pycharm": {
     "name": "#%%\n"
    }
   }
  },
  {
   "cell_type": "code",
   "execution_count": 398,
   "outputs": [
    {
     "name": "stdout",
     "output_type": "stream",
     "text": [
      "Features Size:\t36\n",
      "Dataframe Size:\t36\n"
     ]
    }
   ],
   "source": [
    "# Make sure the number of features matches\n",
    "print(\"Features Size:\\t\" + str(len(test_features)))\n",
    "print(\"Dataframe Size:\\t\" + str(len(test_df)))"
   ],
   "metadata": {
    "collapsed": false,
    "pycharm": {
     "name": "#%%\n"
    }
   }
  },
  {
   "cell_type": "code",
   "execution_count": 399,
   "outputs": [],
   "source": [
    "test_speakers = []\n",
    "for i in range(0, len(test_df)):\n",
    "    test_speakers.append(test_df['file'][i].split('_')[0].strip('s'))"
   ],
   "metadata": {
    "collapsed": false,
    "pycharm": {
     "name": "#%%\n"
    }
   }
  },
  {
   "cell_type": "code",
   "execution_count": 400,
   "outputs": [],
   "source": [
    "# Append the speaker list to the data\n",
    "test_df['speaker'] = test_speakers\n"
   ],
   "metadata": {
    "collapsed": false,
    "pycharm": {
     "name": "#%%\n"
    }
   }
  },
  {
   "cell_type": "code",
   "execution_count": 401,
   "outputs": [],
   "source": [
    "# Create new 'user' list; we will use this to make binary classification\n",
    "test_user = []\n",
    "for i in range(0, len(test_df)):\n",
    "    if test_df['file'][i].split('_')[0].strip('s') == '1':\n",
    "        test_user.append('1')\n",
    "    else:\n",
    "        test_user.append('0')"
   ],
   "metadata": {
    "collapsed": false,
    "pycharm": {
     "name": "#%%\n"
    }
   }
  },
  {
   "cell_type": "code",
   "execution_count": 402,
   "outputs": [],
   "source": [
    "# Add the user list to the dataframe\n",
    "test_df['user'] = test_user\n"
   ],
   "metadata": {
    "collapsed": false,
    "pycharm": {
     "name": "#%%\n"
    }
   }
  },
  {
   "cell_type": "code",
   "execution_count": 403,
   "outputs": [
    {
     "data": {
      "text/plain": "                                                file speaker user\n0  s1_case_4_AudioData__2022_03_291648595734_feat...       1    1\n1  s1_case_2_AudioData__2022_03_291648594964_feat...       1    1\n2  s2_case_3_AudioData__2022_03_291648595471_feat...       2    0\n3  s3_case_5_AudioData__2022_04_131649890856_feat...       3    0\n4  s2_case_1_AudioData__2022_03_291648594721_feat...       2    0",
      "text/html": "<div>\n<style scoped>\n    .dataframe tbody tr th:only-of-type {\n        vertical-align: middle;\n    }\n\n    .dataframe tbody tr th {\n        vertical-align: top;\n    }\n\n    .dataframe thead th {\n        text-align: right;\n    }\n</style>\n<table border=\"1\" class=\"dataframe\">\n  <thead>\n    <tr style=\"text-align: right;\">\n      <th></th>\n      <th>file</th>\n      <th>speaker</th>\n      <th>user</th>\n    </tr>\n  </thead>\n  <tbody>\n    <tr>\n      <th>0</th>\n      <td>s1_case_4_AudioData__2022_03_291648595734_feat...</td>\n      <td>1</td>\n      <td>1</td>\n    </tr>\n    <tr>\n      <th>1</th>\n      <td>s1_case_2_AudioData__2022_03_291648594964_feat...</td>\n      <td>1</td>\n      <td>1</td>\n    </tr>\n    <tr>\n      <th>2</th>\n      <td>s2_case_3_AudioData__2022_03_291648595471_feat...</td>\n      <td>2</td>\n      <td>0</td>\n    </tr>\n    <tr>\n      <th>3</th>\n      <td>s3_case_5_AudioData__2022_04_131649890856_feat...</td>\n      <td>3</td>\n      <td>0</td>\n    </tr>\n    <tr>\n      <th>4</th>\n      <td>s2_case_1_AudioData__2022_03_291648594721_feat...</td>\n      <td>2</td>\n      <td>0</td>\n    </tr>\n  </tbody>\n</table>\n</div>"
     },
     "execution_count": 403,
     "metadata": {},
     "output_type": "execute_result"
    }
   ],
   "source": [
    "# Look at data\n",
    "test_df.head()\n"
   ],
   "metadata": {
    "collapsed": false,
    "pycharm": {
     "name": "#%%\n"
    }
   }
  },
  {
   "cell_type": "code",
   "execution_count": 404,
   "outputs": [
    {
     "name": "stdout",
     "output_type": "stream",
     "text": [
      "Number of unique speakers: 4\n"
     ]
    }
   ],
   "source": [
    "# Check the number of unique speakers in the data\n",
    "print(\"Number of unique speakers: \" + str(test_df['speaker'].nunique()))"
   ],
   "metadata": {
    "collapsed": false,
    "pycharm": {
     "name": "#%%\n"
    }
   }
  },
  {
   "cell_type": "code",
   "execution_count": 405,
   "outputs": [
    {
     "data": {
      "text/plain": "36"
     },
     "execution_count": 405,
     "metadata": {},
     "output_type": "execute_result"
    }
   ],
   "source": [
    "# Making new var that holds just the speaker list\n",
    "# test_labels = test_speakers\n",
    "test_labels = test_user\n",
    "# Look at the length, making sure it's the same as the features\n",
    "len(test_labels)\n"
   ],
   "metadata": {
    "collapsed": false,
    "pycharm": {
     "name": "#%%\n"
    }
   }
  },
  {
   "cell_type": "markdown",
   "source": [
    "#### Hot encoding y and pre-processing X and y (test data now)"
   ],
   "metadata": {
    "collapsed": false,
    "pycharm": {
     "name": "#%% md\n"
    }
   }
  },
  {
   "cell_type": "code",
   "execution_count": 406,
   "outputs": [],
   "source": [
    "X_test = np.array(test_features)\n",
    "y_test = np.array(test_labels)"
   ],
   "metadata": {
    "collapsed": false,
    "pycharm": {
     "name": "#%%\n"
    }
   }
  },
  {
   "cell_type": "code",
   "execution_count": 407,
   "outputs": [],
   "source": [
    "# Hot encoding y\n",
    "lb = LabelEncoder()\n",
    "y_test = to_categorical(lb.fit_transform(y_test))"
   ],
   "metadata": {
    "collapsed": false,
    "pycharm": {
     "name": "#%%\n"
    }
   }
  },
  {
   "cell_type": "code",
   "execution_count": 408,
   "outputs": [
    {
     "name": "stdout",
     "output_type": "stream",
     "text": [
      "X_test Shape:\t(36, 193)\n",
      "y_test Shape:\t(36, 2)\n"
     ]
    }
   ],
   "source": [
    "# Look at the shapes of our newly created data\n",
    "print(\"X_test Shape:\\t\" + str(X_test.shape))\n",
    "print(\"y_test Shape:\\t\" + str(y_test.shape))"
   ],
   "metadata": {
    "collapsed": false,
    "pycharm": {
     "name": "#%%\n"
    }
   }
  },
  {
   "cell_type": "code",
   "execution_count": 409,
   "outputs": [
    {
     "name": "stdout",
     "output_type": "stream",
     "text": [
      "X_train Shape:\t(177, 193)\n",
      "X_val Shape:\t(76, 193)\n",
      "X_test Shape:\t(36, 193)\n"
     ]
    }
   ],
   "source": [
    "# Compare all the sets of data thus far\n",
    "print(\"X_train Shape:\\t\" + str(X_train.shape))\n",
    "print(\"X_val Shape:\\t\" + str(X_val.shape))\n",
    "print(\"X_test Shape:\\t\" + str(X_test.shape))"
   ],
   "metadata": {
    "collapsed": false,
    "pycharm": {
     "name": "#%%\n"
    }
   }
  },
  {
   "cell_type": "code",
   "execution_count": 410,
   "outputs": [
    {
     "name": "stdout",
     "output_type": "stream",
     "text": [
      "y_train Shape:\t(177, 2)\n",
      "y_val Shape:\t(76, 2)\n",
      "y_test Shape:\t(36, 2)\n"
     ]
    }
   ],
   "source": [
    "print(\"y_train Shape:\\t\" + str(y_train.shape))\n",
    "print(\"y_val Shape:\\t\" + str(y_val.shape))\n",
    "print(\"y_test Shape:\\t\" + str(y_test.shape))"
   ],
   "metadata": {
    "collapsed": false,
    "pycharm": {
     "name": "#%%\n"
    }
   }
  },
  {
   "cell_type": "code",
   "execution_count": 411,
   "outputs": [],
   "source": [
    "# Do more transformation with standard scaler\n",
    "ss = StandardScaler()\n",
    "X_train = ss.fit_transform(X_train)\n",
    "X_val = ss.transform(X_val)\n",
    "X_test = ss.transform(X_test)"
   ],
   "metadata": {
    "collapsed": false,
    "pycharm": {
     "name": "#%%\n"
    }
   }
  },
  {
   "cell_type": "markdown",
   "source": [
    "\n",
    "---\n",
    "#### Now we move onto the creation of the model\n",
    "\n"
   ],
   "metadata": {
    "collapsed": false,
    "pycharm": {
     "name": "#%% md\n"
    }
   }
  },
  {
   "cell_type": "code",
   "execution_count": 412,
   "outputs": [],
   "source": [
    "model = Sequential()\n",
    "\n",
    "# The input layer, taking in the 193 features\n",
    "model.add(Dense(193, input_shape=(193,), activation = 'relu'))\n",
    "model.add(Dropout(0.1))\n",
    "\n",
    "# Internal layer (TODO: change density of layer)\n",
    "model.add(Dense(128, activation = 'relu'))\n",
    "model.add(Dropout(0.25))\n",
    "\n",
    "# Output layer - the final guess the NN makes (aka what speaker it thinks it is)\n",
    "model.add(Dense(2, activation = 'softmax'))\n",
    "\n",
    "# Compile the model\n",
    "model.compile(loss='categorical_crossentropy', metrics=['accuracy'], optimizer='adam')\n",
    "\n",
    "# Define early stopping callback\n",
    "early_stop = EarlyStopping(monitor='val_loss', min_delta=0, patience=100, verbose=1, mode='auto')"
   ],
   "metadata": {
    "collapsed": false,
    "pycharm": {
     "name": "#%%\n"
    }
   }
  },
  {
   "cell_type": "code",
   "execution_count": 413,
   "outputs": [
    {
     "name": "stdout",
     "output_type": "stream",
     "text": [
      "Epoch 1/10\n",
      "45/45 [==============================] - 0s 3ms/step - loss: 1.0422 - accuracy: 0.5102 - val_loss: 1.1784 - val_accuracy: 0.5658\b\b\b\b\b\b\b\b\b\b\b\b\b\b\b\b\b\b\b\b\b\b\b\b\b\b\b\b\b\b\b\b\b\b\b\b\b\b\n",
      "Epoch 2/10\n",
      "45/45 [==============================] - 0s 1ms/step - loss: 0.4979 - accuracy: 0.6990 - val_loss: 1.1622 - val_accuracy: 0.5658\b\b\b\b\b\b\b\b\b\b\b\b\b\b\b\b\b\b\b\b\b\b\b\b\b\b\b\b\b\b\b\b\b\b\b\b\n",
      "Epoch 3/10\n",
      "45/45 [==============================] - 0s 1ms/step - loss: 0.3461 - accuracy: 0.8947 - val_loss: 1.3358 - val_accuracy: 0.5658\b\b\b\b\b\b\b\b\b\b\b\b\b\b\b\b\b\b\b\b\b\b\b\b\b\b\b\b\b\b\b\b\b\b\b\b\n",
      "Epoch 4/10\n",
      "45/45 [==============================] - 0s 1ms/step - loss: 0.3354 - accuracy: 0.8840 - val_loss: 1.7606 - val_accuracy: 0.5263\b\b\b\b\b\b\b\b\b\b\b\b\b\b\b\b\b\b\b\b\b\b\b\b\b\b\b\b\b\b\b\b\b\b\b\b\n",
      "Epoch 5/10\n",
      "45/45 [==============================] - 0s 1ms/step - loss: 0.2568 - accuracy: 0.9089 - val_loss: 1.9695 - val_accuracy: 0.5132\b\b\b\b\b\b\b\b\b\b\b\b\b\b\b\b\b\b\b\b\b\b\b\b\b\b\b\b\b\b\b\b\b\b\b\b\n",
      "Epoch 6/10\n",
      "45/45 [==============================] - 0s 1ms/step - loss: 0.2162 - accuracy: 0.9187 - val_loss: 2.2671 - val_accuracy: 0.5263\b\b\b\b\b\b\b\b\b\b\b\b\b\b\b\b\b\b\b\b\b\b\b\b\b\b\b\b\b\b\b\b\b\b\b\b\n",
      "Epoch 7/10\n",
      "45/45 [==============================] - 0s 2ms/step - loss: 0.1314 - accuracy: 0.9679 - val_loss: 2.4794 - val_accuracy: 0.5526\b\b\b\b\b\b\b\b\b\b\b\b\b\b\b\b\b\b\b\b\b\b\b\b\b\b\b\b\b\b\b\b\b\b\b\b\n",
      "Epoch 8/10\n",
      "45/45 [==============================] - 0s 1ms/step - loss: 0.1077 - accuracy: 0.9808 - val_loss: 2.3987 - val_accuracy: 0.5000\b\b\b\b\b\b\b\b\b\b\b\b\b\b\b\b\b\b\b\b\b\b\b\b\b\b\b\b\b\b\b\b\b\b\b\b\n",
      "Epoch 9/10\n",
      "45/45 [==============================] - 0s 1ms/step - loss: 0.0822 - accuracy: 0.9821 - val_loss: 2.5912 - val_accuracy: 0.5526\b\b\b\b\b\b\b\b\b\b\b\b\b\b\b\b\b\b\b\b\b\b\b\b\b\b\b\b\b\b\b\b\b\b\b\b\n",
      "Epoch 10/10\n",
      "45/45 [==============================] - 0s 1ms/step - loss: 0.1096 - accuracy: 0.9470 - val_loss: 3.3704 - val_accuracy: 0.4605\b\b\b\b\b\b\b\b\b\b\b\b\b\b\b\b\b\b\b\b\b\b\b\b\b\b\b\b\b\b\b\b\b\b\b\b\n"
     ]
    }
   ],
   "source": [
    "history = model.fit(X_train, y_train, batch_size=4, epochs=10,\n",
    "                    validation_data=(X_val, y_val),\n",
    "                    callbacks=[early_stop])"
   ],
   "metadata": {
    "collapsed": false,
    "pycharm": {
     "name": "#%%\n"
    }
   }
  },
  {
   "cell_type": "code",
   "execution_count": 414,
   "outputs": [
    {
     "data": {
      "text/plain": "<Figure size 864x576 with 1 Axes>",
      "image/png": "[encoded data removed]"
     },
     "metadata": {
      "needs_background": "light"
     },
     "output_type": "display_data"
    }
   ],
   "source": [
    "import matplotlib.pyplot as plt\n",
    "# Check out our train accuracy and validation accuracy over epochs.\n",
    "train_accuracy = history.history['accuracy']\n",
    "val_accuracy = history.history['val_accuracy']\n",
    "\n",
    "# Set figure size.\n",
    "plt.figure(figsize=(12, 8))\n",
    "\n",
    "# Generate line plot of training, testing loss over epochs.\n",
    "plt.plot(train_accuracy, label='Training Accuracy', color='#185fad')\n",
    "plt.plot(val_accuracy, label='Validation Accuracy', color='orange')\n",
    "\n",
    "# Set title\n",
    "plt.title('Training and Validation Accuracy by Epoch', fontsize = 25)\n",
    "plt.xlabel('Epoch', fontsize = 18)\n",
    "plt.ylabel('Categorical Crossentropy', fontsize = 18)\n",
    "plt.xticks(range(0,10,5), range(0,10,5))\n",
    "\n",
    "plt.legend(fontsize = 18);"
   ],
   "metadata": {
    "collapsed": false,
    "pycharm": {
     "name": "#%%\n"
    }
   }
  },
  {
   "cell_type": "code",
   "execution_count": 415,
   "outputs": [
    {
     "name": "stdout",
     "output_type": "stream",
     "text": [
      "WARNING:tensorflow:6 out of the last 11 calls to <function Model.make_predict_function.<locals>.predict_function at 0x0000014E15C1C670> triggered tf.function retracing. Tracing is expensive and the excessive number of tracings could be due to (1) creating @tf.function repeatedly in a loop, (2) passing tensors with different shapes, (3) passing Python objects instead of tensors. For (1), please define your @tf.function outside of the loop. For (2), @tf.function has experimental_relax_shapes=True option that relaxes argument shapes that can avoid unnecessary retracing. For (3), please refer to https://www.tensorflow.org/guide/function#controlling_retracing and https://www.tensorflow.org/api_docs/python/tf/function for  more details.\n"
     ]
    },
    {
     "name": "stderr",
     "output_type": "stream",
     "text": [
      "D:\\Anaconda\\envs\\scEnvo\\lib\\site-packages\\tensorflow\\python\\keras\\engine\\sequential.py:450: UserWarning: `model.predict_classes()` is deprecated and will be removed after 2021-01-01. Please use instead:* `np.argmax(model.predict(x), axis=-1)`,   if your model does multi-class classification   (e.g. if it uses a `softmax` last-layer activation).* `(model.predict(x) > 0.5).astype(\"int32\")`,   if your model does binary classification   (e.g. if it uses a `sigmoid` last-layer activation).\n",
      "  warnings.warn('`model.predict_classes()` is deprecated and '\n"
     ]
    }
   ],
   "source": [
    "# Get predictions from the test data\n",
    "predictions = model.predict_classes(X_test)"
   ],
   "metadata": {
    "collapsed": false,
    "pycharm": {
     "name": "#%%\n"
    }
   }
  },
  {
   "cell_type": "code",
   "execution_count": 416,
   "outputs": [],
   "source": [
    "# We transform back our predictions to the speakers ids\n",
    "predictions = lb.inverse_transform(predictions)"
   ],
   "metadata": {
    "collapsed": false,
    "pycharm": {
     "name": "#%%\n"
    }
   }
  },
  {
   "cell_type": "code",
   "execution_count": 417,
   "outputs": [],
   "source": [
    "test_df['prediction'] = predictions"
   ],
   "metadata": {
    "collapsed": false,
    "pycharm": {
     "name": "#%%\n"
    }
   }
  },
  {
   "cell_type": "code",
   "execution_count": 418,
   "outputs": [
    {
     "data": {
      "text/plain": "                                                 file speaker user prediction\n0   s1_case_4_AudioData__2022_03_291648595734_feat...       1    1          0\n1   s1_case_2_AudioData__2022_03_291648594964_feat...       1    1          0\n2   s2_case_3_AudioData__2022_03_291648595471_feat...       2    0          0\n3   s3_case_5_AudioData__2022_04_131649890856_feat...       3    0          1\n4   s2_case_1_AudioData__2022_03_291648594721_feat...       2    0          1\n5   s3_case_7_AudioData__2022_04_131649891922_feat...       3    0          0\n6   s4_case_3_AudioData__2022_04_131649890078_feat...       4    0          0\n7   s3_case_4_AudioData__2022_04_131649890730_feat...       3    0          1\n8   s4_case_4_AudioData__2022_04_131649891017_feat...       4    0          1\n9   s1_case_2_AudioData__2022_04_131649889345_feat...       1    1          0\n10  s4_case_5_AudioData__2022_04_131649891169_feat...       4    0          1\n11  s1_case_3_AudioData__2022_04_131649889742_feat...       1    1          1\n12  s1_case_7_AudioData__2022_03_291648597074_feat...       1    1          0\n13  s2_case_7_AudioData__2022_03_291648597261_feat...       2    0          1\n14  s1_case_4_AudioData__2022_04_131649890379_feat...       1    1          0\n15  s1_case_6_AudioData__2022_04_131649891325_feat...       1    1          0\n16  s1_case_1_AudioData__2022_03_291648594561_feat...       1    1          0\n17  s3_case_6_AudioData__2022_04_131649891776_feat...       3    0          1\n18  s2_case_2_AudioData__2022_03_291648595105_feat...       2    0          1\n19  s4_case_6_AudioData__2022_04_131649892095_feat...       4    0          1\n20  s2_case_6_AudioData__2022_03_291648596825_feat...       2    0          0\n21  s1_case_2_AudioData__2022_04_131649889207_feat...       1    1          1\n22  s4_case_1_AudioData__2022_04_131649889140_feat...       4    0          0\n23  s3_case_1_AudioData__2022_04_131649888938_feat...       3    0          0\n24  s3_case_3_AudioData__2022_04_131649889894_feat...       3    0          0\n25  s1_case_3_AudioData__2022_03_291648595301_feat...       1    1          1\n26  s3_case_2_AudioData__2022_04_131649889482_feat...       3    0          1\n27  s2_case_5_AudioData__2022_03_291648596269_feat...       2    0          0\n28  s2_case_5_AudioData__2022_03_291648596057_feat...       2    0          0\n29  s1_case_1_AudioData__2022_04_131649888950_feat...       1    1          0\n30  s1_case_7_AudioData__2022_04_131649891454_feat...       1    1          0\n31  s1_case_5_AudioData__2022_04_131649890517_feat...       1    1          1\n32  s1_case_5_AudioData__2022_03_291648595838_feat...       1    1          1\n33  s1_case_6_AudioData__2022_03_291648596452_feat...       1    1          1\n34  s4_case_2_AudioData__2022_04_131649889591_feat...       4    0          0\n35  s4_case_7_AudioData__2022_04_131649892194_feat...       4    0          0",
      "text/html": "<div>\n<style scoped>\n    .dataframe tbody tr th:only-of-type {\n        vertical-align: middle;\n    }\n\n    .dataframe tbody tr th {\n        vertical-align: top;\n    }\n\n    .dataframe thead th {\n        text-align: right;\n    }\n</style>\n<table border=\"1\" class=\"dataframe\">\n  <thead>\n    <tr style=\"text-align: right;\">\n      <th></th>\n      <th>file</th>\n      <th>speaker</th>\n      <th>user</th>\n      <th>prediction</th>\n    </tr>\n  </thead>\n  <tbody>\n    <tr>\n      <th>0</th>\n      <td>s1_case_4_AudioData__2022_03_291648595734_feat...</td>\n      <td>1</td>\n      <td>1</td>\n      <td>0</td>\n    </tr>\n    <tr>\n      <th>1</th>\n      <td>s1_case_2_AudioData__2022_03_291648594964_feat...</td>\n      <td>1</td>\n      <td>1</td>\n      <td>0</td>\n    </tr>\n    <tr>\n      <th>2</th>\n      <td>s2_case_3_AudioData__2022_03_291648595471_feat...</td>\n      <td>2</td>\n      <td>0</td>\n      <td>0</td>\n    </tr>\n    <tr>\n      <th>3</th>\n      <td>s3_case_5_AudioData__2022_04_131649890856_feat...</td>\n      <td>3</td>\n      <td>0</td>\n      <td>1</td>\n    </tr>\n    <tr>\n      <th>4</th>\n      <td>s2_case_1_AudioData__2022_03_291648594721_feat...</td>\n      <td>2</td>\n      <td>0</td>\n      <td>1</td>\n    </tr>\n    <tr>\n      <th>5</th>\n      <td>s3_case_7_AudioData__2022_04_131649891922_feat...</td>\n      <td>3</td>\n      <td>0</td>\n      <td>0</td>\n    </tr>\n    <tr>\n      <th>6</th>\n      <td>s4_case_3_AudioData__2022_04_131649890078_feat...</td>\n      <td>4</td>\n      <td>0</td>\n      <td>0</td>\n    </tr>\n    <tr>\n      <th>7</th>\n      <td>s3_case_4_AudioData__2022_04_131649890730_feat...</td>\n      <td>3</td>\n      <td>0</td>\n      <td>1</td>\n    </tr>\n    <tr>\n      <th>8</th>\n      <td>s4_case_4_AudioData__2022_04_131649891017_feat...</td>\n      <td>4</td>\n      <td>0</td>\n      <td>1</td>\n    </tr>\n    <tr>\n      <th>9</th>\n      <td>s1_case_2_AudioData__2022_04_131649889345_feat...</td>\n      <td>1</td>\n      <td>1</td>\n      <td>0</td>\n    </tr>\n    <tr>\n      <th>10</th>\n      <td>s4_case_5_AudioData__2022_04_131649891169_feat...</td>\n      <td>4</td>\n      <td>0</td>\n      <td>1</td>\n    </tr>\n    <tr>\n      <th>11</th>\n      <td>s1_case_3_AudioData__2022_04_131649889742_feat...</td>\n      <td>1</td>\n      <td>1</td>\n      <td>1</td>\n    </tr>\n    <tr>\n      <th>12</th>\n      <td>s1_case_7_AudioData__2022_03_291648597074_feat...</td>\n      <td>1</td>\n      <td>1</td>\n      <td>0</td>\n    </tr>\n    <tr>\n      <th>13</th>\n      <td>s2_case_7_AudioData__2022_03_291648597261_feat...</td>\n      <td>2</td>\n      <td>0</td>\n      <td>1</td>\n    </tr>\n    <tr>\n      <th>14</th>\n      <td>s1_case_4_AudioData__2022_04_131649890379_feat...</td>\n      <td>1</td>\n      <td>1</td>\n      <td>0</td>\n    </tr>\n    <tr>\n      <th>15</th>\n      <td>s1_case_6_AudioData__2022_04_131649891325_feat...</td>\n      <td>1</td>\n      <td>1</td>\n      <td>0</td>\n    </tr>\n    <tr>\n      <th>16</th>\n      <td>s1_case_1_AudioData__2022_03_291648594561_feat...</td>\n      <td>1</td>\n      <td>1</td>\n      <td>0</td>\n    </tr>\n    <tr>\n      <th>17</th>\n      <td>s3_case_6_AudioData__2022_04_131649891776_feat...</td>\n      <td>3</td>\n      <td>0</td>\n      <td>1</td>\n    </tr>\n    <tr>\n      <th>18</th>\n      <td>s2_case_2_AudioData__2022_03_291648595105_feat...</td>\n      <td>2</td>\n      <td>0</td>\n      <td>1</td>\n    </tr>\n    <tr>\n      <th>19</th>\n      <td>s4_case_6_AudioData__2022_04_131649892095_feat...</td>\n      <td>4</td>\n      <td>0</td>\n      <td>1</td>\n    </tr>\n    <tr>\n      <th>20</th>\n      <td>s2_case_6_AudioData__2022_03_291648596825_feat...</td>\n      <td>2</td>\n      <td>0</td>\n      <td>0</td>\n    </tr>\n    <tr>\n      <th>21</th>\n      <td>s1_case_2_AudioData__2022_04_131649889207_feat...</td>\n      <td>1</td>\n      <td>1</td>\n      <td>1</td>\n    </tr>\n    <tr>\n      <th>22</th>\n      <td>s4_case_1_AudioData__2022_04_131649889140_feat...</td>\n      <td>4</td>\n      <td>0</td>\n      <td>0</td>\n    </tr>\n    <tr>\n      <th>23</th>\n      <td>s3_case_1_AudioData__2022_04_131649888938_feat...</td>\n      <td>3</td>\n      <td>0</td>\n      <td>0</td>\n    </tr>\n    <tr>\n      <th>24</th>\n      <td>s3_case_3_AudioData__2022_04_131649889894_feat...</td>\n      <td>3</td>\n      <td>0</td>\n      <td>0</td>\n    </tr>\n    <tr>\n      <th>25</th>\n      <td>s1_case_3_AudioData__2022_03_291648595301_feat...</td>\n      <td>1</td>\n      <td>1</td>\n      <td>1</td>\n    </tr>\n    <tr>\n      <th>26</th>\n      <td>s3_case_2_AudioData__2022_04_131649889482_feat...</td>\n      <td>3</td>\n      <td>0</td>\n      <td>1</td>\n    </tr>\n    <tr>\n      <th>27</th>\n      <td>s2_case_5_AudioData__2022_03_291648596269_feat...</td>\n      <td>2</td>\n      <td>0</td>\n      <td>0</td>\n    </tr>\n    <tr>\n      <th>28</th>\n      <td>s2_case_5_AudioData__2022_03_291648596057_feat...</td>\n      <td>2</td>\n      <td>0</td>\n      <td>0</td>\n    </tr>\n    <tr>\n      <th>29</th>\n      <td>s1_case_1_AudioData__2022_04_131649888950_feat...</td>\n      <td>1</td>\n      <td>1</td>\n      <td>0</td>\n    </tr>\n    <tr>\n      <th>30</th>\n      <td>s1_case_7_AudioData__2022_04_131649891454_feat...</td>\n      <td>1</td>\n      <td>1</td>\n      <td>0</td>\n    </tr>\n    <tr>\n      <th>31</th>\n      <td>s1_case_5_AudioData__2022_04_131649890517_feat...</td>\n      <td>1</td>\n      <td>1</td>\n      <td>1</td>\n    </tr>\n    <tr>\n      <th>32</th>\n      <td>s1_case_5_AudioData__2022_03_291648595838_feat...</td>\n      <td>1</td>\n      <td>1</td>\n      <td>1</td>\n    </tr>\n    <tr>\n      <th>33</th>\n      <td>s1_case_6_AudioData__2022_03_291648596452_feat...</td>\n      <td>1</td>\n      <td>1</td>\n      <td>1</td>\n    </tr>\n    <tr>\n      <th>34</th>\n      <td>s4_case_2_AudioData__2022_04_131649889591_feat...</td>\n      <td>4</td>\n      <td>0</td>\n      <td>0</td>\n    </tr>\n    <tr>\n      <th>35</th>\n      <td>s4_case_7_AudioData__2022_04_131649892194_feat...</td>\n      <td>4</td>\n      <td>0</td>\n      <td>0</td>\n    </tr>\n  </tbody>\n</table>\n</div>"
     },
     "execution_count": 418,
     "metadata": {},
     "output_type": "execute_result"
    }
   ],
   "source": [
    "# Look at how the predictions match up\n",
    "test_df"
   ],
   "metadata": {
    "collapsed": false,
    "pycharm": {
     "name": "#%%\n"
    }
   }
  },
  {
   "cell_type": "code",
   "execution_count": 419,
   "outputs": [
    {
     "data": {
      "text/plain": "                                                 file speaker user prediction\n0   s1_case_4_AudioData__2022_03_291648595734_feat...       1    1          0\n1   s1_case_2_AudioData__2022_03_291648594964_feat...       1    1          0\n2   s2_case_3_AudioData__2022_03_291648595471_feat...       2    0          0\n3   s3_case_5_AudioData__2022_04_131649890856_feat...       3    0          1\n4   s2_case_1_AudioData__2022_03_291648594721_feat...       2    0          1\n5   s3_case_7_AudioData__2022_04_131649891922_feat...       3    0          0\n6   s4_case_3_AudioData__2022_04_131649890078_feat...       4    0          0\n7   s3_case_4_AudioData__2022_04_131649890730_feat...       3    0          1\n8   s4_case_4_AudioData__2022_04_131649891017_feat...       4    0          1\n9   s1_case_2_AudioData__2022_04_131649889345_feat...       1    1          0\n10  s4_case_5_AudioData__2022_04_131649891169_feat...       4    0          1\n12  s1_case_7_AudioData__2022_03_291648597074_feat...       1    1          0\n13  s2_case_7_AudioData__2022_03_291648597261_feat...       2    0          1\n14  s1_case_4_AudioData__2022_04_131649890379_feat...       1    1          0\n15  s1_case_6_AudioData__2022_04_131649891325_feat...       1    1          0\n16  s1_case_1_AudioData__2022_03_291648594561_feat...       1    1          0\n17  s3_case_6_AudioData__2022_04_131649891776_feat...       3    0          1\n18  s2_case_2_AudioData__2022_03_291648595105_feat...       2    0          1\n19  s4_case_6_AudioData__2022_04_131649892095_feat...       4    0          1\n20  s2_case_6_AudioData__2022_03_291648596825_feat...       2    0          0\n22  s4_case_1_AudioData__2022_04_131649889140_feat...       4    0          0\n23  s3_case_1_AudioData__2022_04_131649888938_feat...       3    0          0\n24  s3_case_3_AudioData__2022_04_131649889894_feat...       3    0          0\n26  s3_case_2_AudioData__2022_04_131649889482_feat...       3    0          1\n27  s2_case_5_AudioData__2022_03_291648596269_feat...       2    0          0\n28  s2_case_5_AudioData__2022_03_291648596057_feat...       2    0          0\n29  s1_case_1_AudioData__2022_04_131649888950_feat...       1    1          0\n30  s1_case_7_AudioData__2022_04_131649891454_feat...       1    1          0\n34  s4_case_2_AudioData__2022_04_131649889591_feat...       4    0          0\n35  s4_case_7_AudioData__2022_04_131649892194_feat...       4    0          0",
      "text/html": "<div>\n<style scoped>\n    .dataframe tbody tr th:only-of-type {\n        vertical-align: middle;\n    }\n\n    .dataframe tbody tr th {\n        vertical-align: top;\n    }\n\n    .dataframe thead th {\n        text-align: right;\n    }\n</style>\n<table border=\"1\" class=\"dataframe\">\n  <thead>\n    <tr style=\"text-align: right;\">\n      <th></th>\n      <th>file</th>\n      <th>speaker</th>\n      <th>user</th>\n      <th>prediction</th>\n    </tr>\n  </thead>\n  <tbody>\n    <tr>\n      <th>0</th>\n      <td>s1_case_4_AudioData__2022_03_291648595734_feat...</td>\n      <td>1</td>\n      <td>1</td>\n      <td>0</td>\n    </tr>\n    <tr>\n      <th>1</th>\n      <td>s1_case_2_AudioData__2022_03_291648594964_feat...</td>\n      <td>1</td>\n      <td>1</td>\n      <td>0</td>\n    </tr>\n    <tr>\n      <th>2</th>\n      <td>s2_case_3_AudioData__2022_03_291648595471_feat...</td>\n      <td>2</td>\n      <td>0</td>\n      <td>0</td>\n    </tr>\n    <tr>\n      <th>3</th>\n      <td>s3_case_5_AudioData__2022_04_131649890856_feat...</td>\n      <td>3</td>\n      <td>0</td>\n      <td>1</td>\n    </tr>\n    <tr>\n      <th>4</th>\n      <td>s2_case_1_AudioData__2022_03_291648594721_feat...</td>\n      <td>2</td>\n      <td>0</td>\n      <td>1</td>\n    </tr>\n    <tr>\n      <th>5</th>\n      <td>s3_case_7_AudioData__2022_04_131649891922_feat...</td>\n      <td>3</td>\n      <td>0</td>\n      <td>0</td>\n    </tr>\n    <tr>\n      <th>6</th>\n      <td>s4_case_3_AudioData__2022_04_131649890078_feat...</td>\n      <td>4</td>\n      <td>0</td>\n      <td>0</td>\n    </tr>\n    <tr>\n      <th>7</th>\n      <td>s3_case_4_AudioData__2022_04_131649890730_feat...</td>\n      <td>3</td>\n      <td>0</td>\n      <td>1</td>\n    </tr>\n    <tr>\n      <th>8</th>\n      <td>s4_case_4_AudioData__2022_04_131649891017_feat...</td>\n      <td>4</td>\n      <td>0</td>\n      <td>1</td>\n    </tr>\n    <tr>\n      <th>9</th>\n      <td>s1_case_2_AudioData__2022_04_131649889345_feat...</td>\n      <td>1</td>\n      <td>1</td>\n      <td>0</td>\n    </tr>\n    <tr>\n      <th>10</th>\n      <td>s4_case_5_AudioData__2022_04_131649891169_feat...</td>\n      <td>4</td>\n      <td>0</td>\n      <td>1</td>\n    </tr>\n    <tr>\n      <th>12</th>\n      <td>s1_case_7_AudioData__2022_03_291648597074_feat...</td>\n      <td>1</td>\n      <td>1</td>\n      <td>0</td>\n    </tr>\n    <tr>\n      <th>13</th>\n      <td>s2_case_7_AudioData__2022_03_291648597261_feat...</td>\n      <td>2</td>\n      <td>0</td>\n      <td>1</td>\n    </tr>\n    <tr>\n      <th>14</th>\n      <td>s1_case_4_AudioData__2022_04_131649890379_feat...</td>\n      <td>1</td>\n      <td>1</td>\n      <td>0</td>\n    </tr>\n    <tr>\n      <th>15</th>\n      <td>s1_case_6_AudioData__2022_04_131649891325_feat...</td>\n      <td>1</td>\n      <td>1</td>\n      <td>0</td>\n    </tr>\n    <tr>\n      <th>16</th>\n      <td>s1_case_1_AudioData__2022_03_291648594561_feat...</td>\n      <td>1</td>\n      <td>1</td>\n      <td>0</td>\n    </tr>\n    <tr>\n      <th>17</th>\n      <td>s3_case_6_AudioData__2022_04_131649891776_feat...</td>\n      <td>3</td>\n      <td>0</td>\n      <td>1</td>\n    </tr>\n    <tr>\n      <th>18</th>\n      <td>s2_case_2_AudioData__2022_03_291648595105_feat...</td>\n      <td>2</td>\n      <td>0</td>\n      <td>1</td>\n    </tr>\n    <tr>\n      <th>19</th>\n      <td>s4_case_6_AudioData__2022_04_131649892095_feat...</td>\n      <td>4</td>\n      <td>0</td>\n      <td>1</td>\n    </tr>\n    <tr>\n      <th>20</th>\n      <td>s2_case_6_AudioData__2022_03_291648596825_feat...</td>\n      <td>2</td>\n      <td>0</td>\n      <td>0</td>\n    </tr>\n    <tr>\n      <th>22</th>\n      <td>s4_case_1_AudioData__2022_04_131649889140_feat...</td>\n      <td>4</td>\n      <td>0</td>\n      <td>0</td>\n    </tr>\n    <tr>\n      <th>23</th>\n      <td>s3_case_1_AudioData__2022_04_131649888938_feat...</td>\n      <td>3</td>\n      <td>0</td>\n      <td>0</td>\n    </tr>\n    <tr>\n      <th>24</th>\n      <td>s3_case_3_AudioData__2022_04_131649889894_feat...</td>\n      <td>3</td>\n      <td>0</td>\n      <td>0</td>\n    </tr>\n    <tr>\n      <th>26</th>\n      <td>s3_case_2_AudioData__2022_04_131649889482_feat...</td>\n      <td>3</td>\n      <td>0</td>\n      <td>1</td>\n    </tr>\n    <tr>\n      <th>27</th>\n      <td>s2_case_5_AudioData__2022_03_291648596269_feat...</td>\n      <td>2</td>\n      <td>0</td>\n      <td>0</td>\n    </tr>\n    <tr>\n      <th>28</th>\n      <td>s2_case_5_AudioData__2022_03_291648596057_feat...</td>\n      <td>2</td>\n      <td>0</td>\n      <td>0</td>\n    </tr>\n    <tr>\n      <th>29</th>\n      <td>s1_case_1_AudioData__2022_04_131649888950_feat...</td>\n      <td>1</td>\n      <td>1</td>\n      <td>0</td>\n    </tr>\n    <tr>\n      <th>30</th>\n      <td>s1_case_7_AudioData__2022_04_131649891454_feat...</td>\n      <td>1</td>\n      <td>1</td>\n      <td>0</td>\n    </tr>\n    <tr>\n      <th>34</th>\n      <td>s4_case_2_AudioData__2022_04_131649889591_feat...</td>\n      <td>4</td>\n      <td>0</td>\n      <td>0</td>\n    </tr>\n    <tr>\n      <th>35</th>\n      <td>s4_case_7_AudioData__2022_04_131649892194_feat...</td>\n      <td>4</td>\n      <td>0</td>\n      <td>0</td>\n    </tr>\n  </tbody>\n</table>\n</div>"
     },
     "execution_count": 419,
     "metadata": {},
     "output_type": "execute_result"
    }
   ],
   "source": [
    "# Check how many speakers we got wrong\n",
    "test_df[test_df['speaker'] != test_df['prediction']]"
   ],
   "metadata": {
    "collapsed": false,
    "pycharm": {
     "name": "#%%\n"
    }
   }
  },
  {
   "cell_type": "code",
   "execution_count": 420,
   "outputs": [
    {
     "data": {
      "text/plain": "0.16700000000000004"
     },
     "execution_count": 420,
     "metadata": {},
     "output_type": "execute_result"
    }
   ],
   "source": [
    "# Checking our model accuracy\n",
    "1-round(len(test_df[test_df['speaker'] != test_df['prediction']])/len(test_df),3)"
   ],
   "metadata": {
    "collapsed": false,
    "pycharm": {
     "name": "#%%\n"
    }
   }
  }
 ],
 "metadata": {
  "kernelspec": {
   "name": "pycharm-910c9804",
   "language": "python",
   "display_name": "PyCharm (Speaker Classification)"
  },
  "language_info": {
   "codemirror_mode": {
    "name": "ipython",
    "version": 2
   },
   "file_extension": ".py",
   "mimetype": "text/x-python",
   "name": "python",
   "nbconvert_exporter": "python",
   "pygments_lexer": "ipython2",
   "version": "2.7.6"
  }
 },
 "nbformat": 4,
 "nbformat_minor": 0
}